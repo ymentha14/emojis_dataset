{
 "cells": [
  {
   "cell_type": "code",
   "execution_count": 137,
   "metadata": {},
   "outputs": [],
   "source": [
    "import emoji\n",
    "import pyscreenshot as ImageGrab\n",
    "import PIL\n",
    "from pathlib import Path\n",
    "from IPython.display import clear_output\n",
    "from src.data.common_emojis import get_em_df, print_tot_emoji_ratio, display_cover_app_ratio, display_log_hist \n",
    "import time\n",
    "import shutil\n",
    "import pickle as pk"
   ]
  },
  {
   "cell_type": "markdown",
   "metadata": {},
   "source": [
    "# Create Selection of emojis"
   ]
  },
  {
   "cell_type": "code",
   "execution_count": 127,
   "metadata": {},
   "outputs": [],
   "source": [
    "em_df = get_em_df(path=\"../data/raw/tweets/em_counts.csv\")"
   ]
  },
  {
   "cell_type": "code",
   "execution_count": 128,
   "metadata": {},
   "outputs": [],
   "source": [
    "N_SELEC = 600\n",
    "selection_emoji = em_df.head(N_SELEC).index.tolist()"
   ]
  },
  {
   "cell_type": "code",
   "execution_count": 134,
   "metadata": {},
   "outputs": [],
   "source": [
    "topemojis_idx_mapping = {key:val for key,val in zip(em_df.index,range(em_df.shape[0]))}"
   ]
  },
  {
   "cell_type": "code",
   "execution_count": 136,
   "metadata": {},
   "outputs": [],
   "source": [
    "input_folder = Path(\"../data/processed/emojis_png/all/\")\n",
    "output_folder = Path(\"../data/processed/emojis_png/top600/\")\n",
    "for em in selection_emoji:\n",
    "    name = (emoji.UNICODE_EMOJI[em].strip(\":\")) + \".png\"\n",
    "    encoded_name = str(topemojis_idx_mapping[em]) + \".png\"\n",
    "    inp_path = input_folder.joinpath(name)\n",
    "    targ_path = output_folder.joinpath(encoded_name)\n",
    "    shutil.copy(inp_path,targ_path)"
   ]
  },
  {
   "cell_type": "code",
   "execution_count": 141,
   "metadata": {},
   "outputs": [],
   "source": [
    "pk.dump(topemojis_idx_mapping,open(output_folder.joinpath(\"mapping.pk\"),\"wb\"))"
   ]
  },
  {
   "cell_type": "markdown",
   "metadata": {},
   "source": [
    "# Create All Emojis"
   ]
  },
  {
   "cell_type": "code",
   "execution_count": 125,
   "metadata": {},
   "outputs": [],
   "source": [
    "def print_and_capture(bbox,test=False,missing_emojis=None):\n",
    "    \"\"\"\n",
    "    Allows to recreate the images from the emoji\n",
    "    \"\"\"\n",
    "    if missing_emojis is not None:\n",
    "        emojis_dic = {key:val for key,val in emoji.EMOJI_UNICODE.items() if key.strip(\":\") in missing_emojis}\n",
    "    else:\n",
    "        emojis_dic = emoji.EMOJI_UNICODE\n",
    "    output_folder = Path(\"../data/processed/emojis_png/all/\")\n",
    "    if test:\n",
    "        for i,(label,em) in enumerate(emojis_dic.items()):\n",
    "            label = label.strip(\":\")\n",
    "            path = output_folder.joinpath(label).with_suffix(\".png\")\n",
    "            print(em)\n",
    "            time.sleep(0.15)\n",
    "            im = ImageGrab.grab(bbox=bbox)\n",
    "            im.save(path)\n",
    "            clear_output()\n",
    "    else:\n",
    "        print(\"😃\")\n",
    "missin_emojis = ['snowflake','dizzy','lipstick','medium_skin_tone','money_with_wings','panda_face','sports_medal','spouting_whale','trade_mark','woman']"
   ]
  },
  {
   "cell_type": "code",
   "execution_count": 126,
   "metadata": {},
   "outputs": [],
   "source": [
    "print_and_capture((524, 638,590,704),True,missin_emojis)"
   ]
  }
 ],
 "metadata": {
  "kernelspec": {
   "display_name": "Python 3",
   "language": "python",
   "name": "python3"
  },
  "language_info": {
   "codemirror_mode": {
    "name": "ipython",
    "version": 3
   },
   "file_extension": ".py",
   "mimetype": "text/x-python",
   "name": "python",
   "nbconvert_exporter": "python",
   "pygments_lexer": "ipython3",
   "version": "3.6.9"
  }
 },
 "nbformat": 4,
 "nbformat_minor": 4
}
