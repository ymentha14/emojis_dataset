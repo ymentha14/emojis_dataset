{
 "cells": [
  {
   "cell_type": "code",
   "execution_count": 1,
   "metadata": {},
   "outputs": [],
   "source": [
    "%load_ext autoreload\n",
    "%autoreload 2"
   ]
  },
  {
   "cell_type": "code",
   "execution_count": 2,
   "metadata": {},
   "outputs": [],
   "source": [
    "import emoji\n",
    "import PIL\n",
    "from pathlib import Path\n",
    "from src.data.common_emojis import load_or_compute_emdf, print_tot_emoji_ratio, display_cover_app_ratio, display_log_hist \n",
    "from src.data.emoji2png import print_and_capture\n",
    "import time\n",
    "from pathlib import Path\n",
    "import shutil\n",
    "import pickle as pk\n",
    "from pdb import set_trace"
   ]
  },
  {
   "cell_type": "markdown",
   "metadata": {},
   "source": [
    "# Create Selection of emojis"
   ]
  },
  {
   "cell_type": "code",
   "execution_count": 82,
   "metadata": {},
   "outputs": [],
   "source": [
    "em_df = load_or_compute_emdf(path=\"../data/raw/tweets/em_counts.csv\")\n",
    "\n",
    "N_SELEC = 1400\n",
    "selection_emoji = em_df.head(N_SELEC).index.tolist()\n",
    "\n",
    "topemojis_idx_mapping = {key:val for key,val in zip(em_df.index,range(em_df.shape[0]))}\n",
    "\n",
    "input_folder = Path(\"../data/processed/emojis_png/all/\")\n",
    "output_folder = Path(\"../data/processed/emojis_png/top600/\")\n",
    "for em in selection_emoji:\n",
    "    name = (emoji.UNICODE_EMOJI[em].strip(\":\").replace(\".\",\"\")) + \".png\"\n",
    "    encoded_name = str(topemojis_idx_mapping[em]) + \".png\"\n",
    "    inp_path = input_folder.joinpath(name)\n",
    "    targ_path = output_folder.joinpath(encoded_name)\n",
    "    shutil.copy(inp_path,targ_path)\n",
    "\n",
    "pk.dump(topemojis_idx_mapping,open(output_folder.joinpath(\"mapping.pk\"),\"wb\"))"
   ]
  },
  {
   "cell_type": "markdown",
   "metadata": {},
   "source": [
    "# Create All Emojis"
   ]
  },
  {
   "cell_type": "code",
   "execution_count": 21,
   "metadata": {},
   "outputs": [],
   "source": [
    "print_and_capture((520, 679,580,739),True)"
   ]
  }
 ],
 "metadata": {
  "kernelspec": {
   "display_name": "Python 3",
   "language": "python",
   "name": "python3"
  },
  "language_info": {
   "codemirror_mode": {
    "name": "ipython",
    "version": 3
   },
   "file_extension": ".py",
   "mimetype": "text/x-python",
   "name": "python",
   "nbconvert_exporter": "python",
   "pygments_lexer": "ipython3",
   "version": "3.6.9"
  }
 },
 "nbformat": 4,
 "nbformat_minor": 4
}
