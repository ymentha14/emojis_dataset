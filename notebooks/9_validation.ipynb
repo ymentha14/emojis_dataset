{
 "cells": [
  {
   "cell_type": "code",
   "execution_count": 1,
   "metadata": {
    "collapsed": false,
    "jupyter": {
     "outputs_hidden": false
    }
   },
   "outputs": [],
   "source": [
    "%load_ext autoreload\n",
    "%autoreload 2\n",
    "%matplotlib inline"
   ]
  },
  {
   "cell_type": "code",
   "execution_count": 3,
   "metadata": {},
   "outputs": [],
   "source": [
    "import matplotlib\n",
    "import matplotlib.pyplot as plt\n",
    "import pandas as pd\n",
    "import tensorflow as tf\n",
    "import pickle as pk\n",
    "import numpy as np\n",
    "import sklearn.manifold as man\n",
    "from tensorflow.python.framework import ops\n",
    "\n",
    "from emoji2vec.model import Emoji2Vec, ModelParams\n",
    "from emoji2vec.phrase2vec import Phrase2Vec\n",
    "from emoji2vec.utils import build_kb, get_examples_from_kb, generate_embeddings, get_metrics\n",
    "from emoji2vec.train import train_save_evaluate\n",
    "\n",
    "from src.constants import (E2V_MAPPING_PATH, EMOJI_2_TOP_INDEX_PATH,E2V_DATA_DIR,EXPORT_DIR,\n",
    "                           EMBEDDING_TRAINING_DATA_DIR,W2V_PATH)\n",
    "from src.validation.w2v import get_train_val_test"
   ]
  },
  {
   "cell_type": "markdown",
   "metadata": {},
   "source": [
    "## Word2vec compliant data creation"
   ]
  },
  {
   "cell_type": "code",
   "execution_count": 4,
   "metadata": {},
   "outputs": [],
   "source": [
    "# We read the data we just produced\n",
    "dataset_df = pd.read_csv(EXPORT_DIR.joinpath(\"data/dataset/emoji_dataset_prod.csv\"),index_col=0)"
   ]
  },
  {
   "cell_type": "code",
   "execution_count": 5,
   "metadata": {},
   "outputs": [],
   "source": [
    "# and create/save the word2vec data from it\n",
    "train_df, dev_df, test_df = get_train_val_test(dataset_df)\n",
    "train_df.to_csv(EMBEDDING_TRAINING_DATA_DIR.joinpath(\"train.txt\"),sep=\"\\t\",header=None,index=False)\n",
    "dev_df.to_csv(EMBEDDING_TRAINING_DATA_DIR.joinpath(\"dev.txt\"),sep=\"\\t\",header=None,index=False)\n",
    "test_df.to_csv(EMBEDDING_TRAINING_DATA_DIR.joinpath(\"test.txt\"),sep=\"\\t\",header=None,index=False)"
   ]
  },
  {
   "cell_type": "markdown",
   "metadata": {},
   "source": [
    "### Parameters"
   ]
  }
 ],
 "metadata": {
  "kernelspec": {
   "display_name": "Python 3",
   "language": "python",
   "name": "python3"
  },
  "language_info": {
   "codemirror_mode": {
    "name": "ipython",
    "version": 3
   },
   "file_extension": ".py",
   "mimetype": "text/x-python",
   "name": "python",
   "nbconvert_exporter": "python",
   "pygments_lexer": "ipython3",
   "version": "3.6.9"
  }
 },
 "nbformat": 4,
 "nbformat_minor": 4
}
