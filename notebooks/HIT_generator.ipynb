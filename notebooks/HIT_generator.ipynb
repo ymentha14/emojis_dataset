{
 "cells": [
  {
   "cell_type": "markdown",
   "metadata": {},
   "source": [
    "## Google urls file download"
   ]
  },
  {
   "cell_type": "code",
   "execution_count": 1,
   "metadata": {},
   "outputs": [],
   "source": [
    "from __future__ import print_function\n",
    "import pickle\n",
    "import os.path\n",
    "from googleapiclient.discovery import build\n",
    "from google_auth_oauthlib.flow import InstalledAppFlow\n",
    "from google.auth.transport.requests import Request\n",
    "import io\n",
    "import shutil\n",
    "from googleapiclient.http import MediaIoBaseDownload"
   ]
  },
  {
   "cell_type": "code",
   "execution_count": 2,
   "metadata": {},
   "outputs": [],
   "source": [
    "# If modifying these scopes, delete the file token.pickle.\n",
    "SCOPES = ['https://www.googleapis.com/auth/drive']\n",
    "\n",
    "def main():\n",
    "    \"\"\"Shows basic usage of the Drive v3 API.\n",
    "    Prints the names and ids of the first 10 files the user has access to.\n",
    "    \"\"\"\n",
    "    creds = None\n",
    "    # The file token.pickle stores the user's access and refresh tokens, and is\n",
    "    # created automatically when the authorization flow completes for the first\n",
    "    # time.\n",
    "    if os.path.exists('token.pickle'):\n",
    "        with open('token.pickle', 'rb') as token:\n",
    "            creds = pickle.load(token)\n",
    "    # If there are no (valid) credentials available, let the user log in.\n",
    "    if not creds or not creds.valid:\n",
    "        if creds and creds.expired and creds.refresh_token:\n",
    "            creds.refresh(Request())\n",
    "        else:\n",
    "            flow = InstalledAppFlow.from_client_secrets_file(\n",
    "                '../creds/credentials.json', SCOPES)\n",
    "            creds = flow.run_local_server(port=0)\n",
    "        # Save the credentials for the next run\n",
    "        with open('token.pickle', 'wb') as token:\n",
    "            pickle.dump(creds, token)\n",
    "\n",
    "    service = build('drive', 'v3', credentials=creds)\n",
    "    return service"
   ]
  },
  {
   "cell_type": "code",
   "execution_count": 3,
   "metadata": {},
   "outputs": [],
   "source": [
    "service = main()"
   ]
  },
  {
   "cell_type": "code",
   "execution_count": 4,
   "metadata": {},
   "outputs": [
    {
     "name": "stdout",
     "output_type": "stream",
     "text": [
      "Download 100%\n"
     ]
    }
   ],
   "source": [
    "file_id = '11UjUJ9WfafdMEXZww9Q9GBnXsqX0dPWPdZGXGfFr_t4'\n",
    "request = service.files().export(fileId=file_id, mimeType='text/plain')\n",
    "\n",
    "fh = io.BytesIO()\n",
    "downloader = MediaIoBaseDownload(fh, request)\n",
    "done = False\n",
    "while done is False:\n",
    "    status, done = downloader.next_chunk()\n",
    "    print(\"Download %d%%\" % int(status.progress() * 100))\n",
    "\n",
    "# The file has been downloaded into RAM, now save it in a file\n",
    "fh.seek(0)\n",
    "with open('hope.txt', 'wb') as f:\n",
    "    shutil.copyfileobj(fh, f, length=131072)"
   ]
  },
  {
   "cell_type": "markdown",
   "metadata": {},
   "source": [
    "## Urls loading"
   ]
  },
  {
   "cell_type": "code",
   "execution_count": 5,
   "metadata": {},
   "outputs": [],
   "source": [
    "import pandas as pd"
   ]
  },
  {
   "cell_type": "code",
   "execution_count": 6,
   "metadata": {},
   "outputs": [],
   "source": [
    "forms_url = pd.read_csv(\"./hope.txt\",sep=r\"\\s+\",header=None,names=['url'],index_col=0)"
   ]
  },
  {
   "cell_type": "markdown",
   "metadata": {},
   "source": [
    "# Annotating Training Data With MTurk\n",
    "\n",
    "## Pre-requisites\n",
    "If you haven't already, you'll need to setup MTurk and AWS accounts that are linked together to use MTurk with Python. The MTurk account will be used to post tasks to the MTurk crowd and the AWS accounts will be used to connect to MTurk via API and provide access to any additional AWS resources that are needed to execute your task.\n",
    "\n",
    "1. If you don't have an AWS account already, visit https://aws.amazon.com and create an account you can use for your project.\n",
    "2. If you don't have an MTurk Requester account already, visit https://requester.mturk.com and create a new account.\n",
    "\n",
    "After you've setup your accounts, you will need to link them together. When logged into both the root of your AWS account and your MTurk account, visit https://requester.mturk.com/developer to link them together.\n",
    "\n",
    "From your AWS console create a new AWS IAM User or select an existing one you plan to use. Add the AmazonMechanicalTurkFullAccess policy to your user. Then select the Security Credentials tab and create a new Access Key, copy the Access Key and Secret Access Key for future use.\n",
    "\n",
    "If you haven't installed the awscli yet, install it with pip (pip install awscli) and configure a profile using the access key and secret key above (aws configure --profile mturk). \n",
    "\n",
    "To post tasks to MTurk for Workers to complete you will first need to add funds to your account that will be used to reward Workers. Visit https://requester.mturk.com/account to get started with as little as $1.00.\n",
    "\n",
    "We also recommend installing xmltodict as shown below."
   ]
  },
  {
   "cell_type": "markdown",
   "metadata": {},
   "source": [
    "## Overview\n",
    "Amazon Mechanical Turk allows you to post tasks for Workers to complete at https://worker.mturk.com. To post a task to\n",
    "MTurk you create an HTML form that includes the information you want them to provide. In this example we'll be asking Workers to rate the sentiment of Tweets on a scale of 1 (negative) to 10 (positive).\n",
    "\n",
    "MTurk has a Sandbox environment that can be used for testing. Workers won't work see your tasks in the Sandbox but you can log in to do them yourself to test the task interface at https://workersandbox.mturk.com. It's recommended you test first in the Sandbox to make sure your task returns the data you need before moving to the Production environment. There is no cost to use the Sandbox environment."
   ]
  },
  {
   "cell_type": "code",
   "execution_count": 63,
   "metadata": {
    "collapsed": false,
    "jupyter": {
     "outputs_hidden": false
    }
   },
   "outputs": [],
   "source": [
    "import boto3\n",
    "import xmltodict\n",
    "import json"
   ]
  },
  {
   "cell_type": "code",
   "execution_count": 64,
   "metadata": {},
   "outputs": [],
   "source": [
    "create_hits_in_production = False\n",
    "environments = {\n",
    "        \"production\": {\n",
    "            \"endpoint\": \"https://mturk-requester.us-east-1.amazonaws.com\",\n",
    "            \"preview\": \"https://www.mturk.com/mturk/preview\"\n",
    "        },\n",
    "        \"sandbox\": {\n",
    "            \"endpoint\": \"https://mturk-requester-sandbox.us-east-1.amazonaws.com\",\n",
    "            \"preview\": \"https://workersandbox.mturk.com/mturk/preview\"\n",
    "        },\n",
    "}\n",
    "mturk_environment = environments[\"production\"] if create_hits_in_production else environments[\"sandbox\"]\n",
    "\n",
    "client = boto3.client(\n",
    "    service_name='mturk',\n",
    "    region_name='us-east-1',\n",
    "    endpoint_url=mturk_environment['endpoint'],\n",
    ")"
   ]
  },
  {
   "cell_type": "code",
   "execution_count": 65,
   "metadata": {
    "collapsed": true,
    "jupyter": {
     "outputs_hidden": true
    }
   },
   "outputs": [
    {
     "ename": "NoCredentialsError",
     "evalue": "Unable to locate credentials",
     "output_type": "error",
     "traceback": [
      "\u001b[0;31m---------------------------------------------------------------------------\u001b[0m",
      "\u001b[0;31mNoCredentialsError\u001b[0m                        Traceback (most recent call last)",
      "\u001b[0;32m<ipython-input-65-b3266068bfed>\u001b[0m in \u001b[0;36m<module>\u001b[0;34m\u001b[0m\n\u001b[1;32m      1\u001b[0m \u001b[0;31m# This will return your current MTurk balance if you are connected to Production.\u001b[0m\u001b[0;34m\u001b[0m\u001b[0;34m\u001b[0m\u001b[0;34m\u001b[0m\u001b[0m\n\u001b[1;32m      2\u001b[0m \u001b[0;31m# If you are connected to the Sandbox it will return $10,000.\u001b[0m\u001b[0;34m\u001b[0m\u001b[0;34m\u001b[0m\u001b[0;34m\u001b[0m\u001b[0m\n\u001b[0;32m----> 3\u001b[0;31m \u001b[0mprint\u001b[0m\u001b[0;34m(\u001b[0m\u001b[0mclient\u001b[0m\u001b[0;34m.\u001b[0m\u001b[0mget_account_balance\u001b[0m\u001b[0;34m(\u001b[0m\u001b[0;34m)\u001b[0m\u001b[0;34m[\u001b[0m\u001b[0;34m'AvailableBalance'\u001b[0m\u001b[0;34m]\u001b[0m\u001b[0;34m)\u001b[0m\u001b[0;34m\u001b[0m\u001b[0;34m\u001b[0m\u001b[0m\n\u001b[0m",
      "\u001b[0;32m~/Documents/Cours/dlab_project/emojivec/env/lib/python3.6/site-packages/botocore/client.py\u001b[0m in \u001b[0;36m_api_call\u001b[0;34m(self, *args, **kwargs)\u001b[0m\n\u001b[1;32m    355\u001b[0m                     \"%s() only accepts keyword arguments.\" % py_operation_name)\n\u001b[1;32m    356\u001b[0m             \u001b[0;31m# The \"self\" in this scope is referring to the BaseClient.\u001b[0m\u001b[0;34m\u001b[0m\u001b[0;34m\u001b[0m\u001b[0;34m\u001b[0m\u001b[0m\n\u001b[0;32m--> 357\u001b[0;31m             \u001b[0;32mreturn\u001b[0m \u001b[0mself\u001b[0m\u001b[0;34m.\u001b[0m\u001b[0m_make_api_call\u001b[0m\u001b[0;34m(\u001b[0m\u001b[0moperation_name\u001b[0m\u001b[0;34m,\u001b[0m \u001b[0mkwargs\u001b[0m\u001b[0;34m)\u001b[0m\u001b[0;34m\u001b[0m\u001b[0;34m\u001b[0m\u001b[0m\n\u001b[0m\u001b[1;32m    358\u001b[0m \u001b[0;34m\u001b[0m\u001b[0m\n\u001b[1;32m    359\u001b[0m         \u001b[0m_api_call\u001b[0m\u001b[0;34m.\u001b[0m\u001b[0m__name__\u001b[0m \u001b[0;34m=\u001b[0m \u001b[0mstr\u001b[0m\u001b[0;34m(\u001b[0m\u001b[0mpy_operation_name\u001b[0m\u001b[0;34m)\u001b[0m\u001b[0;34m\u001b[0m\u001b[0;34m\u001b[0m\u001b[0m\n",
      "\u001b[0;32m~/Documents/Cours/dlab_project/emojivec/env/lib/python3.6/site-packages/botocore/client.py\u001b[0m in \u001b[0;36m_make_api_call\u001b[0;34m(self, operation_name, api_params)\u001b[0m\n\u001b[1;32m    661\u001b[0m         \u001b[0;32melse\u001b[0m\u001b[0;34m:\u001b[0m\u001b[0;34m\u001b[0m\u001b[0;34m\u001b[0m\u001b[0m\n\u001b[1;32m    662\u001b[0m             http, parsed_response = self._make_request(\n\u001b[0;32m--> 663\u001b[0;31m                 operation_model, request_dict, request_context)\n\u001b[0m\u001b[1;32m    664\u001b[0m \u001b[0;34m\u001b[0m\u001b[0m\n\u001b[1;32m    665\u001b[0m         self.meta.events.emit(\n",
      "\u001b[0;32m~/Documents/Cours/dlab_project/emojivec/env/lib/python3.6/site-packages/botocore/client.py\u001b[0m in \u001b[0;36m_make_request\u001b[0;34m(self, operation_model, request_dict, request_context)\u001b[0m\n\u001b[1;32m    680\u001b[0m     \u001b[0;32mdef\u001b[0m \u001b[0m_make_request\u001b[0m\u001b[0;34m(\u001b[0m\u001b[0mself\u001b[0m\u001b[0;34m,\u001b[0m \u001b[0moperation_model\u001b[0m\u001b[0;34m,\u001b[0m \u001b[0mrequest_dict\u001b[0m\u001b[0;34m,\u001b[0m \u001b[0mrequest_context\u001b[0m\u001b[0;34m)\u001b[0m\u001b[0;34m:\u001b[0m\u001b[0;34m\u001b[0m\u001b[0;34m\u001b[0m\u001b[0m\n\u001b[1;32m    681\u001b[0m         \u001b[0;32mtry\u001b[0m\u001b[0;34m:\u001b[0m\u001b[0;34m\u001b[0m\u001b[0;34m\u001b[0m\u001b[0m\n\u001b[0;32m--> 682\u001b[0;31m             \u001b[0;32mreturn\u001b[0m \u001b[0mself\u001b[0m\u001b[0;34m.\u001b[0m\u001b[0m_endpoint\u001b[0m\u001b[0;34m.\u001b[0m\u001b[0mmake_request\u001b[0m\u001b[0;34m(\u001b[0m\u001b[0moperation_model\u001b[0m\u001b[0;34m,\u001b[0m \u001b[0mrequest_dict\u001b[0m\u001b[0;34m)\u001b[0m\u001b[0;34m\u001b[0m\u001b[0;34m\u001b[0m\u001b[0m\n\u001b[0m\u001b[1;32m    683\u001b[0m         \u001b[0;32mexcept\u001b[0m \u001b[0mException\u001b[0m \u001b[0;32mas\u001b[0m \u001b[0me\u001b[0m\u001b[0;34m:\u001b[0m\u001b[0;34m\u001b[0m\u001b[0;34m\u001b[0m\u001b[0m\n\u001b[1;32m    684\u001b[0m             self.meta.events.emit(\n",
      "\u001b[0;32m~/Documents/Cours/dlab_project/emojivec/env/lib/python3.6/site-packages/botocore/endpoint.py\u001b[0m in \u001b[0;36mmake_request\u001b[0;34m(self, operation_model, request_dict)\u001b[0m\n\u001b[1;32m    100\u001b[0m         logger.debug(\"Making request for %s with params: %s\",\n\u001b[1;32m    101\u001b[0m                      operation_model, request_dict)\n\u001b[0;32m--> 102\u001b[0;31m         \u001b[0;32mreturn\u001b[0m \u001b[0mself\u001b[0m\u001b[0;34m.\u001b[0m\u001b[0m_send_request\u001b[0m\u001b[0;34m(\u001b[0m\u001b[0mrequest_dict\u001b[0m\u001b[0;34m,\u001b[0m \u001b[0moperation_model\u001b[0m\u001b[0;34m)\u001b[0m\u001b[0;34m\u001b[0m\u001b[0;34m\u001b[0m\u001b[0m\n\u001b[0m\u001b[1;32m    103\u001b[0m \u001b[0;34m\u001b[0m\u001b[0m\n\u001b[1;32m    104\u001b[0m     \u001b[0;32mdef\u001b[0m \u001b[0mcreate_request\u001b[0m\u001b[0;34m(\u001b[0m\u001b[0mself\u001b[0m\u001b[0;34m,\u001b[0m \u001b[0mparams\u001b[0m\u001b[0;34m,\u001b[0m \u001b[0moperation_model\u001b[0m\u001b[0;34m=\u001b[0m\u001b[0;32mNone\u001b[0m\u001b[0;34m)\u001b[0m\u001b[0;34m:\u001b[0m\u001b[0;34m\u001b[0m\u001b[0;34m\u001b[0m\u001b[0m\n",
      "\u001b[0;32m~/Documents/Cours/dlab_project/emojivec/env/lib/python3.6/site-packages/botocore/endpoint.py\u001b[0m in \u001b[0;36m_send_request\u001b[0;34m(self, request_dict, operation_model)\u001b[0m\n\u001b[1;32m    130\u001b[0m     \u001b[0;32mdef\u001b[0m \u001b[0m_send_request\u001b[0m\u001b[0;34m(\u001b[0m\u001b[0mself\u001b[0m\u001b[0;34m,\u001b[0m \u001b[0mrequest_dict\u001b[0m\u001b[0;34m,\u001b[0m \u001b[0moperation_model\u001b[0m\u001b[0;34m)\u001b[0m\u001b[0;34m:\u001b[0m\u001b[0;34m\u001b[0m\u001b[0;34m\u001b[0m\u001b[0m\n\u001b[1;32m    131\u001b[0m         \u001b[0mattempts\u001b[0m \u001b[0;34m=\u001b[0m \u001b[0;36m1\u001b[0m\u001b[0;34m\u001b[0m\u001b[0;34m\u001b[0m\u001b[0m\n\u001b[0;32m--> 132\u001b[0;31m         \u001b[0mrequest\u001b[0m \u001b[0;34m=\u001b[0m \u001b[0mself\u001b[0m\u001b[0;34m.\u001b[0m\u001b[0mcreate_request\u001b[0m\u001b[0;34m(\u001b[0m\u001b[0mrequest_dict\u001b[0m\u001b[0;34m,\u001b[0m \u001b[0moperation_model\u001b[0m\u001b[0;34m)\u001b[0m\u001b[0;34m\u001b[0m\u001b[0;34m\u001b[0m\u001b[0m\n\u001b[0m\u001b[1;32m    133\u001b[0m         \u001b[0mcontext\u001b[0m \u001b[0;34m=\u001b[0m \u001b[0mrequest_dict\u001b[0m\u001b[0;34m[\u001b[0m\u001b[0;34m'context'\u001b[0m\u001b[0;34m]\u001b[0m\u001b[0;34m\u001b[0m\u001b[0;34m\u001b[0m\u001b[0m\n\u001b[1;32m    134\u001b[0m         success_response, exception = self._get_response(\n",
      "\u001b[0;32m~/Documents/Cours/dlab_project/emojivec/env/lib/python3.6/site-packages/botocore/endpoint.py\u001b[0m in \u001b[0;36mcreate_request\u001b[0;34m(self, params, operation_model)\u001b[0m\n\u001b[1;32m    114\u001b[0m                 op_name=operation_model.name)\n\u001b[1;32m    115\u001b[0m             self._event_emitter.emit(event_name, request=request,\n\u001b[0;32m--> 116\u001b[0;31m                                      operation_name=operation_model.name)\n\u001b[0m\u001b[1;32m    117\u001b[0m         \u001b[0mprepared_request\u001b[0m \u001b[0;34m=\u001b[0m \u001b[0mself\u001b[0m\u001b[0;34m.\u001b[0m\u001b[0mprepare_request\u001b[0m\u001b[0;34m(\u001b[0m\u001b[0mrequest\u001b[0m\u001b[0;34m)\u001b[0m\u001b[0;34m\u001b[0m\u001b[0;34m\u001b[0m\u001b[0m\n\u001b[1;32m    118\u001b[0m         \u001b[0;32mreturn\u001b[0m \u001b[0mprepared_request\u001b[0m\u001b[0;34m\u001b[0m\u001b[0;34m\u001b[0m\u001b[0m\n",
      "\u001b[0;32m~/Documents/Cours/dlab_project/emojivec/env/lib/python3.6/site-packages/botocore/hooks.py\u001b[0m in \u001b[0;36memit\u001b[0;34m(self, event_name, **kwargs)\u001b[0m\n\u001b[1;32m    354\u001b[0m     \u001b[0;32mdef\u001b[0m \u001b[0memit\u001b[0m\u001b[0;34m(\u001b[0m\u001b[0mself\u001b[0m\u001b[0;34m,\u001b[0m \u001b[0mevent_name\u001b[0m\u001b[0;34m,\u001b[0m \u001b[0;34m**\u001b[0m\u001b[0mkwargs\u001b[0m\u001b[0;34m)\u001b[0m\u001b[0;34m:\u001b[0m\u001b[0;34m\u001b[0m\u001b[0;34m\u001b[0m\u001b[0m\n\u001b[1;32m    355\u001b[0m         \u001b[0maliased_event_name\u001b[0m \u001b[0;34m=\u001b[0m \u001b[0mself\u001b[0m\u001b[0;34m.\u001b[0m\u001b[0m_alias_event_name\u001b[0m\u001b[0;34m(\u001b[0m\u001b[0mevent_name\u001b[0m\u001b[0;34m)\u001b[0m\u001b[0;34m\u001b[0m\u001b[0;34m\u001b[0m\u001b[0m\n\u001b[0;32m--> 356\u001b[0;31m         \u001b[0;32mreturn\u001b[0m \u001b[0mself\u001b[0m\u001b[0;34m.\u001b[0m\u001b[0m_emitter\u001b[0m\u001b[0;34m.\u001b[0m\u001b[0memit\u001b[0m\u001b[0;34m(\u001b[0m\u001b[0maliased_event_name\u001b[0m\u001b[0;34m,\u001b[0m \u001b[0;34m**\u001b[0m\u001b[0mkwargs\u001b[0m\u001b[0;34m)\u001b[0m\u001b[0;34m\u001b[0m\u001b[0;34m\u001b[0m\u001b[0m\n\u001b[0m\u001b[1;32m    357\u001b[0m \u001b[0;34m\u001b[0m\u001b[0m\n\u001b[1;32m    358\u001b[0m     \u001b[0;32mdef\u001b[0m \u001b[0memit_until_response\u001b[0m\u001b[0;34m(\u001b[0m\u001b[0mself\u001b[0m\u001b[0;34m,\u001b[0m \u001b[0mevent_name\u001b[0m\u001b[0;34m,\u001b[0m \u001b[0;34m**\u001b[0m\u001b[0mkwargs\u001b[0m\u001b[0;34m)\u001b[0m\u001b[0;34m:\u001b[0m\u001b[0;34m\u001b[0m\u001b[0;34m\u001b[0m\u001b[0m\n",
      "\u001b[0;32m~/Documents/Cours/dlab_project/emojivec/env/lib/python3.6/site-packages/botocore/hooks.py\u001b[0m in \u001b[0;36memit\u001b[0;34m(self, event_name, **kwargs)\u001b[0m\n\u001b[1;32m    226\u001b[0m                  \u001b[0mhandlers\u001b[0m\u001b[0;34m.\u001b[0m\u001b[0;34m\u001b[0m\u001b[0;34m\u001b[0m\u001b[0m\n\u001b[1;32m    227\u001b[0m         \"\"\"\n\u001b[0;32m--> 228\u001b[0;31m         \u001b[0;32mreturn\u001b[0m \u001b[0mself\u001b[0m\u001b[0;34m.\u001b[0m\u001b[0m_emit\u001b[0m\u001b[0;34m(\u001b[0m\u001b[0mevent_name\u001b[0m\u001b[0;34m,\u001b[0m \u001b[0mkwargs\u001b[0m\u001b[0;34m)\u001b[0m\u001b[0;34m\u001b[0m\u001b[0;34m\u001b[0m\u001b[0m\n\u001b[0m\u001b[1;32m    229\u001b[0m \u001b[0;34m\u001b[0m\u001b[0m\n\u001b[1;32m    230\u001b[0m     \u001b[0;32mdef\u001b[0m \u001b[0memit_until_response\u001b[0m\u001b[0;34m(\u001b[0m\u001b[0mself\u001b[0m\u001b[0;34m,\u001b[0m \u001b[0mevent_name\u001b[0m\u001b[0;34m,\u001b[0m \u001b[0;34m**\u001b[0m\u001b[0mkwargs\u001b[0m\u001b[0;34m)\u001b[0m\u001b[0;34m:\u001b[0m\u001b[0;34m\u001b[0m\u001b[0;34m\u001b[0m\u001b[0m\n",
      "\u001b[0;32m~/Documents/Cours/dlab_project/emojivec/env/lib/python3.6/site-packages/botocore/hooks.py\u001b[0m in \u001b[0;36m_emit\u001b[0;34m(self, event_name, kwargs, stop_on_response)\u001b[0m\n\u001b[1;32m    209\u001b[0m         \u001b[0;32mfor\u001b[0m \u001b[0mhandler\u001b[0m \u001b[0;32min\u001b[0m \u001b[0mhandlers_to_call\u001b[0m\u001b[0;34m:\u001b[0m\u001b[0;34m\u001b[0m\u001b[0;34m\u001b[0m\u001b[0m\n\u001b[1;32m    210\u001b[0m             \u001b[0mlogger\u001b[0m\u001b[0;34m.\u001b[0m\u001b[0mdebug\u001b[0m\u001b[0;34m(\u001b[0m\u001b[0;34m'Event %s: calling handler %s'\u001b[0m\u001b[0;34m,\u001b[0m \u001b[0mevent_name\u001b[0m\u001b[0;34m,\u001b[0m \u001b[0mhandler\u001b[0m\u001b[0;34m)\u001b[0m\u001b[0;34m\u001b[0m\u001b[0;34m\u001b[0m\u001b[0m\n\u001b[0;32m--> 211\u001b[0;31m             \u001b[0mresponse\u001b[0m \u001b[0;34m=\u001b[0m \u001b[0mhandler\u001b[0m\u001b[0;34m(\u001b[0m\u001b[0;34m**\u001b[0m\u001b[0mkwargs\u001b[0m\u001b[0;34m)\u001b[0m\u001b[0;34m\u001b[0m\u001b[0;34m\u001b[0m\u001b[0m\n\u001b[0m\u001b[1;32m    212\u001b[0m             \u001b[0mresponses\u001b[0m\u001b[0;34m.\u001b[0m\u001b[0mappend\u001b[0m\u001b[0;34m(\u001b[0m\u001b[0;34m(\u001b[0m\u001b[0mhandler\u001b[0m\u001b[0;34m,\u001b[0m \u001b[0mresponse\u001b[0m\u001b[0;34m)\u001b[0m\u001b[0;34m)\u001b[0m\u001b[0;34m\u001b[0m\u001b[0;34m\u001b[0m\u001b[0m\n\u001b[1;32m    213\u001b[0m             \u001b[0;32mif\u001b[0m \u001b[0mstop_on_response\u001b[0m \u001b[0;32mand\u001b[0m \u001b[0mresponse\u001b[0m \u001b[0;32mis\u001b[0m \u001b[0;32mnot\u001b[0m \u001b[0;32mNone\u001b[0m\u001b[0;34m:\u001b[0m\u001b[0;34m\u001b[0m\u001b[0;34m\u001b[0m\u001b[0m\n",
      "\u001b[0;32m~/Documents/Cours/dlab_project/emojivec/env/lib/python3.6/site-packages/botocore/signers.py\u001b[0m in \u001b[0;36mhandler\u001b[0;34m(self, operation_name, request, **kwargs)\u001b[0m\n\u001b[1;32m     88\u001b[0m         \u001b[0;31m# this method is invoked to sign the request.\u001b[0m\u001b[0;34m\u001b[0m\u001b[0;34m\u001b[0m\u001b[0;34m\u001b[0m\u001b[0m\n\u001b[1;32m     89\u001b[0m         \u001b[0;31m# Don't call this method directly.\u001b[0m\u001b[0;34m\u001b[0m\u001b[0;34m\u001b[0m\u001b[0;34m\u001b[0m\u001b[0m\n\u001b[0;32m---> 90\u001b[0;31m         \u001b[0;32mreturn\u001b[0m \u001b[0mself\u001b[0m\u001b[0;34m.\u001b[0m\u001b[0msign\u001b[0m\u001b[0;34m(\u001b[0m\u001b[0moperation_name\u001b[0m\u001b[0;34m,\u001b[0m \u001b[0mrequest\u001b[0m\u001b[0;34m)\u001b[0m\u001b[0;34m\u001b[0m\u001b[0;34m\u001b[0m\u001b[0m\n\u001b[0m\u001b[1;32m     91\u001b[0m \u001b[0;34m\u001b[0m\u001b[0m\n\u001b[1;32m     92\u001b[0m     def sign(self, operation_name, request, region_name=None,\n",
      "\u001b[0;32m~/Documents/Cours/dlab_project/emojivec/env/lib/python3.6/site-packages/botocore/signers.py\u001b[0m in \u001b[0;36msign\u001b[0;34m(self, operation_name, request, region_name, signing_type, expires_in, signing_name)\u001b[0m\n\u001b[1;32m    160\u001b[0m                     \u001b[0;32mraise\u001b[0m \u001b[0me\u001b[0m\u001b[0;34m\u001b[0m\u001b[0;34m\u001b[0m\u001b[0m\n\u001b[1;32m    161\u001b[0m \u001b[0;34m\u001b[0m\u001b[0m\n\u001b[0;32m--> 162\u001b[0;31m             \u001b[0mauth\u001b[0m\u001b[0;34m.\u001b[0m\u001b[0madd_auth\u001b[0m\u001b[0;34m(\u001b[0m\u001b[0mrequest\u001b[0m\u001b[0;34m)\u001b[0m\u001b[0;34m\u001b[0m\u001b[0;34m\u001b[0m\u001b[0m\n\u001b[0m\u001b[1;32m    163\u001b[0m \u001b[0;34m\u001b[0m\u001b[0m\n\u001b[1;32m    164\u001b[0m     \u001b[0;32mdef\u001b[0m \u001b[0m_choose_signer\u001b[0m\u001b[0;34m(\u001b[0m\u001b[0mself\u001b[0m\u001b[0;34m,\u001b[0m \u001b[0moperation_name\u001b[0m\u001b[0;34m,\u001b[0m \u001b[0msigning_type\u001b[0m\u001b[0;34m,\u001b[0m \u001b[0mcontext\u001b[0m\u001b[0;34m)\u001b[0m\u001b[0;34m:\u001b[0m\u001b[0;34m\u001b[0m\u001b[0;34m\u001b[0m\u001b[0m\n",
      "\u001b[0;32m~/Documents/Cours/dlab_project/emojivec/env/lib/python3.6/site-packages/botocore/auth.py\u001b[0m in \u001b[0;36madd_auth\u001b[0;34m(self, request)\u001b[0m\n\u001b[1;32m    355\u001b[0m     \u001b[0;32mdef\u001b[0m \u001b[0madd_auth\u001b[0m\u001b[0;34m(\u001b[0m\u001b[0mself\u001b[0m\u001b[0;34m,\u001b[0m \u001b[0mrequest\u001b[0m\u001b[0;34m)\u001b[0m\u001b[0;34m:\u001b[0m\u001b[0;34m\u001b[0m\u001b[0;34m\u001b[0m\u001b[0m\n\u001b[1;32m    356\u001b[0m         \u001b[0;32mif\u001b[0m \u001b[0mself\u001b[0m\u001b[0;34m.\u001b[0m\u001b[0mcredentials\u001b[0m \u001b[0;32mis\u001b[0m \u001b[0;32mNone\u001b[0m\u001b[0;34m:\u001b[0m\u001b[0;34m\u001b[0m\u001b[0;34m\u001b[0m\u001b[0m\n\u001b[0;32m--> 357\u001b[0;31m             \u001b[0;32mraise\u001b[0m \u001b[0mNoCredentialsError\u001b[0m\u001b[0;34m\u001b[0m\u001b[0;34m\u001b[0m\u001b[0m\n\u001b[0m\u001b[1;32m    358\u001b[0m         \u001b[0mdatetime_now\u001b[0m \u001b[0;34m=\u001b[0m \u001b[0mdatetime\u001b[0m\u001b[0;34m.\u001b[0m\u001b[0mdatetime\u001b[0m\u001b[0;34m.\u001b[0m\u001b[0mutcnow\u001b[0m\u001b[0;34m(\u001b[0m\u001b[0;34m)\u001b[0m\u001b[0;34m\u001b[0m\u001b[0;34m\u001b[0m\u001b[0m\n\u001b[1;32m    359\u001b[0m         \u001b[0mrequest\u001b[0m\u001b[0;34m.\u001b[0m\u001b[0mcontext\u001b[0m\u001b[0;34m[\u001b[0m\u001b[0;34m'timestamp'\u001b[0m\u001b[0;34m]\u001b[0m \u001b[0;34m=\u001b[0m \u001b[0mdatetime_now\u001b[0m\u001b[0;34m.\u001b[0m\u001b[0mstrftime\u001b[0m\u001b[0;34m(\u001b[0m\u001b[0mSIGV4_TIMESTAMP\u001b[0m\u001b[0;34m)\u001b[0m\u001b[0;34m\u001b[0m\u001b[0;34m\u001b[0m\u001b[0m\n",
      "\u001b[0;31mNoCredentialsError\u001b[0m: Unable to locate credentials"
     ]
    }
   ],
   "source": [
    "# This will return your current MTurk balance if you are connected to Production.\n",
    "# If you are connected to the Sandbox it will return $10,000.\n",
    "print(client.get_account_balance()['AvailableBalance'])"
   ]
  },
  {
   "cell_type": "markdown",
   "metadata": {},
   "source": [
    "## Define your task\n",
    "For this project we are going to get the sentiment of a set of tweets that we plan to train a model to evaluate. We will create an MTurk Human Intelligence Task (HIT) for each tweet."
   ]
  },
  {
   "cell_type": "code",
   "execution_count": null,
   "metadata": {
    "collapsed": true,
    "jupyter": {
     "outputs_hidden": true
    }
   },
   "outputs": [],
   "source": [
    "tweets = ['in science class right now... urgh... stupid project..',\n",
    "          'hmmm what to have for breaky?... Honey on toast ',\n",
    "          'Doing home work  x',\n",
    "          'Headed out of town for a few days. Will miss my girls']"
   ]
  },
  {
   "cell_type": "markdown",
   "metadata": {},
   "source": [
    "MTurk accepts an XML document containing the HTML that will be displayed to Workers. Workers will see these HTML for each item tweet that is submitted. To use the HTML for this example task, download it from [here](https://s3.amazonaws.com/mturk/samples/jupyter-examples/SentimentQuestion.html) and store it in the same directory as this notebook. Within the HTML is a variable ${content} that will be replaced with a different tweet when the HIT is created.\n",
    "\n",
    "Here the HTML is loaded and inserted into the XML Document."
   ]
  },
  {
   "cell_type": "code",
   "execution_count": 67,
   "metadata": {},
   "outputs": [],
   "source": [
    "html_layout = open('./SentimentQuestion.html', 'r').read()\n",
    "QUESTION_XML = \"\"\"<HTMLQuestion xmlns=\"http://mechanicalturk.amazonaws.com/AWSMechanicalTurkDataSchemas/2011-11-11/HTMLQuestion.xsd\">\n",
    "        <HTMLContent><![CDATA[{}]]></HTMLContent>\n",
    "        <FrameHeight>650</FrameHeight>\n",
    "        </HTMLQuestion>\"\"\"\n",
    "question_xml = QUESTION_XML.format(html_layout)"
   ]
  },
  {
   "cell_type": "code",
   "execution_count": 74,
   "metadata": {},
   "outputs": [],
   "source": [
    "import bs4 as bs\n"
   ]
  },
  {
   "cell_type": "code",
   "execution_count": 75,
   "metadata": {
    "collapsed": true,
    "jupyter": {
     "outputs_hidden": true
    }
   },
   "outputs": [
    {
     "data": {
      "text/plain": [
       "<htmlquestion xmlns=\"http://mechanicalturk.amazonaws.com/AWSMechanicalTurkDataSchemas/2011-11-11/HTMLQuestion.xsd\">\n",
       "<htmlcontent><![CDATA[<!DOCTYPE html><html><head><title>HIT</title><meta http-equiv=\"Content-Type\" content=\"text/html; charset=UTF-8\"/><script type='text/javascript' src='https://s3.amazonaws.com/mturk-public/externalHIT_v1.js'></script></head><body><form name=\"mturk_form\" method=\"post\" id=\"mturk_form\" action=\"https://www.mturk.com/mturk/externalSubmit\"><input type=\"hidden\" value=\"\" name=\"assignmentId\" id=\"assignmentId\" /><!-- HIT template: WebsiteDataCollection-v3.0 --><!-- The following snippet enables the 'responsive' behavior on smaller screens -->\n",
       "<!-- HIT template: Sentiment-v3.0 --><!-- The following snippet enables the 'responsive' behavior on smaller screens -->\n",
       "<meta content=\"width=device-width,initial-scale=1\" name=\"viewport\" />\n",
       "<section class=\"container\" id=\"Sentiment\"><!-- Instructions (collapsible) -->\n",
       "    <div class=\"row\">\n",
       "        <div class=\"col-xs-12 col-md-12\">\n",
       "            <div class=\"panel panel-primary\"><!-- WARNING: the ids \"collapseTrigger\" and \"instructionBody\" are being used to enable expand/collapse feature --><a class=\"panel-heading\" href=\"javascript:void(0);\" id=\"collapseTrigger\"><strong>Sentiment Analysis Instructions</strong> <span class=\"collapse-text\">(Click to expand)</span> </a>\n",
       "                <div class=\"panel-body\" id=\"instructionBody\"><strong>Pick the best sentiment based on the following criterion:</strong>\n",
       "                    <table class=\"table table-condensed table-striped table-responsive\">\n",
       "                        <tbody>\n",
       "                        </tbody>\n",
       "                        <colgroup>\n",
       "                            <col class=\"col-xs-2 col-md-2\" />\n",
       "                            <col class=\"col-xs-10 col-md-10\" />\n",
       "                        </colgroup>\n",
       "                        <!-- By explaining the sentiment scale, the accuracy of the answers may increase. -->\n",
       "                        <tbody>\n",
       "                        <tr>\n",
       "                            <th>Sentiment</th>\n",
       "                            <th>Guidance</th>\n",
       "                        </tr>\n",
       "                        <tr>\n",
       "                            <td>10 - Strongly positive</td>\n",
       "                            <td>Select this if the item embodies emotion that was extremely happy or excited toward the topic. For example, &quot;Their customer service is the best that I&#39;ve seen!!!!&quot;</td>\n",
       "                        </tr>\n",
       "                        <tr>\n",
       "                            <td>5 or 6 - Neutral</td>\n",
       "                            <td>Select this if the item does not embody much of positive or negative emotion toward the topic. For example, &quot;Yeah, I guess it&#39;s ok.&quot; or &quot;Is their customer service open 24x7?&quot;</td>\n",
       "                        </tr>\n",
       "                        <tr>\n",
       "                            <td>1 - Strongly negative</td>\n",
       "                            <td>Select this if the item embodies negative emotion toward the topic that can be perceived as extreme. For example, &quot;The experience was horrible!!&quot; or &quot;I will NEVER shop there again!!!&quot;</td>\n",
       "                        </tr>\n",
       "                        </tbody>\n",
       "                    </table>\n",
       "                </div>\n",
       "            </div>\n",
       "        </div>\n",
       "    </div>\n",
       "    <!-- End instructions --><!-- Categorization Layout -->\n",
       "\n",
       "    <div class=\"row\" id=\"workContent\">\n",
       "        <div class=\"col-xs-12 col-sm-8 content\"><!-- Place the content (in this case a block of text) below. If content is not text then replace with the relevant html element (image, url, video) below. -->\n",
       "            <p class=\"well\">${content}</p>\n",
       "        </div>\n",
       "\n",
       "        <div class=\"col-xs-12 col-sm-4 fields\">\n",
       "            <div class=\"form-group\"><!-- Question for the Worker --><label class=\"group-label\">Sentiment expressed by the content:</label> <!-- Input from the Worker -->\n",
       "\n",
       "                <div class=\"btn-group-vertical\" data-toggle=\"buttons\" id=\"Inputs\">\n",
       "                    <label class=\"btn btn-default\">\n",
       "                        <input id=\"Ten\" name=\"sentiment\" required=\"\" type=\"radio\" value=\"10\" />\n",
       "                        10 (Strongly Positive) \n",
       "                    </label> \n",
       "                    <label class=\"btn btn-default\">\n",
       "                        <input id=\"Nine\" name=\"sentiment\" required=\"\" type=\"radio\" value=\"9\" />\n",
       "                        9\n",
       "                    </label> \n",
       "                    <label class=\"btn btn-default\">\n",
       "                        <input id=\"Eight\" name=\"sentiment\" required=\"\" type=\"radio\" value=\"8\" />\n",
       "                        8\n",
       "                    </label> \n",
       "                    <label class=\"btn btn-default\">\n",
       "                        <input id=\"Seven\" name=\"sentiment\" required=\"\" type=\"radio\" value=\"7\" />\n",
       "                        7 \n",
       "                    </label> \n",
       "                    <label class=\"btn btn-default\">\n",
       "                        <input id=\"Six\" name=\"sentiment\" required=\"\" type=\"radio\" value=\"6\" />\n",
       "                        6\n",
       "                    </label> \n",
       "                    <label class=\"btn btn-default\">\n",
       "                        <input id=\"Five\" name=\"sentiment\" required=\"\" type=\"radio\" value=\"5\" />\n",
       "                        5 \n",
       "                    </label> \n",
       "                    <label class=\"btn btn-default\">\n",
       "                        <input id=\"Four\" name=\"sentiment\" required=\"\" type=\"radio\" value=\"4\" />\n",
       "                        4\n",
       "                    </label> \n",
       "                    <label class=\"btn btn-default\">\n",
       "                        <input id=\"Three\" name=\"sentiment\" required=\"\" type=\"radio\" value=\"3\" />\n",
       "                        3\n",
       "                    </label> \n",
       "                    <label class=\"btn btn-default\">\n",
       "                        <input id=\"Two\" name=\"sentiment\" required=\"\" type=\"radio\" value=\"2\" />\n",
       "                        2\n",
       "                    </label> \n",
       "                    <label class=\"btn btn-default\">\n",
       "                        <input id=\"One\" name=\"sentiment\" required=\"\" type=\"radio\" value=\"1\" />\n",
       "                        1 (Strongly Negative)\n",
       "                    </label> \n",
       "                </div>\n",
       "            </div>\n",
       "        </div>\n",
       "    </div>\n",
       "</section>\n",
       "<!-- End Categorization Layout --><!-- Please note that Bootstrap CSS/JS and JQuery are 3rd party libraries that may update their url/code at any time. Amazon Mechanical Turk (MTurk) is including these libraries as a default option for you, but is not responsible for any changes to the external libraries --><!-- External CSS references -->\n",
       "<link crossorigin=\"anonymous\" href=\"https://maxcdn.bootstrapcdn.com/bootstrap/3.3.7/css/bootstrap.min.css\" integrity=\"sha384-BVYiiSIFeK1dGmJRAkycuHAHRg32OmUcww7on3RYdg4Va+PmSTsz/K68vbdEjh4u\" rel=\"stylesheet\" /><!-- Open internal style sheet -->\n",
       "<style type=\"text/css\">#collapseTrigger{\n",
       "    color:#fff;\n",
       "    display: block;\n",
       "    text-decoration: none;\n",
       "}\n",
       "#submitButton{\n",
       "    white-space: normal;\n",
       "}\n",
       "#instructionBody table{\n",
       "    font-size: 14px;\n",
       "    margin-top: 10px;\n",
       "}\n",
       "#instructionBody table caption{\n",
       "    text-align: left;\n",
       "    padding: 0 0 5px 0;\n",
       "}\n",
       "#Inputs{\n",
       "    display: block;\n",
       "    margin-top: 10px;\n",
       "}\n",
       ".content{\n",
       "    margin-bottom: 15px;\n",
       "}\n",
       ".radio:first-of-type{\n",
       "    margin-top: -5px;\n",
       "}\n",
       "</style>\n",
       "<!-- Close internal style sheet --><!-- External JS references --><script src=\"https://code.jquery.com/jquery-3.1.0.min.js\" integrity=\"sha256-cCueBR6CsyA4/9szpPfrX3s49M9vUU5BgtiJj06wt/s=\" crossorigin=\"anonymous\"></script><script src=\"https://maxcdn.bootstrapcdn.com/bootstrap/3.3.7/js/bootstrap.min.js\" integrity=\"sha384-Tc5IQib027qvyjSMfHjOMaLkfuWVxZxUPnCJA7l2mCWNIpG9mGCD8wGNIcPD7Txa\" crossorigin=\"anonymous\"></script><!-- Open internal javascript --><script>\n",
       "    $(document).ready(function() {\n",
       "        // Instructions expand/collapse\n",
       "        var content = $('#instructionBody');\n",
       "        var trigger = $('#collapseTrigger');\n",
       "        content.hide();\n",
       "        $('.collapse-text').text('(Click to expand)');\n",
       "        trigger.click(function(){\n",
       "            content.toggle();\n",
       "            var isVisible = content.is(':visible');\n",
       "            if(isVisible){\n",
       "                $('.collapse-text').text('(Click to collapse)');\n",
       "            }else{\n",
       "                $('.collapse-text').text('(Click to expand)');\n",
       "            }\n",
       "        });\n",
       "        // end expand/collapse\n",
       "\n",
       "        // highlight selected category\n",
       "        var inputs = $(\"#Inputs input:radio\");\n",
       "        inputs.change(function(){\n",
       "            inputs.parent().removeClass(\"btn-success\");\n",
       "            inputs.parent().addClass(\"btn-default\");\n",
       "            if($(this).is(\":checked\")){\n",
       "                $(this).parent().removeClass(\"btn-default\");\n",
       "                $(this).parent().addClass(\"btn-success\");\n",
       "            }else{\n",
       "                $(this).parent().removeClass(\"btn-success\");\n",
       "                $(this).parent().addClass(\"btn-default\");\n",
       "            }\n",
       "        });\n",
       "        // end highlight\n",
       "    });\n",
       "</script><!-- Close internal javascript -->\n",
       "        <p class=\"text-center\"><input type=\"submit\" id=\"submitButton\" class=\"btn btn-primary\" value=\"Submit\" /></p></form><script language=\"Javascript\">turkSetAssignmentID();</script></body></html>]]></htmlcontent>\n",
       "<frameheight>650</frameheight>\n",
       "</htmlquestion>"
      ]
     },
     "execution_count": 75,
     "metadata": {},
     "output_type": "execute_result"
    }
   ],
   "source": [
    "bs.BeautifulSoup(question_xml)"
   ]
  },
  {
   "cell_type": "markdown",
   "metadata": {},
   "source": [
    "In Mechanical Turk each task is representated by a Human Intelligence Task (HIT) which is an individual item you want annotated by one or more Workers and the interface that should be displayed. The definition below requests that five Workers review each item, that the HIT remain live on the worker.mturk.com website for no more than an hour, and that Workers provide a response for each item in less than ten minutes. Each response has a reward of \\$0.05 so the total Worker reward for this task would be \\$0.25 plus \\$0.05 in MTurk fees. An appropriate title, description, keywords are also provided to let Workers know what is involved in this task."
   ]
  },
  {
   "cell_type": "code",
   "execution_count": null,
   "metadata": {
    "collapsed": true,
    "jupyter": {
     "outputs_hidden": true
    }
   },
   "outputs": [],
   "source": [
    "TaskAttributes = {\n",
    "    'MaxAssignments': 5,                 \n",
    "    'LifetimeInSeconds': 60*60,           # How long the task will be available on the MTurk website (1 hour)\n",
    "    'AssignmentDurationInSeconds': 60*10, # How long Workers have to complete each item (10 minutes)\n",
    "    'Reward': '0.05',                     # The reward you will offer Workers for each response\n",
    "    'Title': 'Provide sentiment for a Tweet',\n",
    "    'Keywords': 'sentiment, tweet',\n",
    "    'Description': 'Rate the sentiment of a tweet on a scale of 1 to 10.'\n",
    "}\n"
   ]
  },
  {
   "cell_type": "markdown",
   "metadata": {},
   "source": [
    "## Create the tasks\n",
    "Here a HIT is created for each tweet so that it can be completed by Workers. Prior to creating the HIT, the tweet is inserted into the Question XML content. The HIT Id returned for each task is stored in a results array so that we can retrieve the results later."
   ]
  },
  {
   "cell_type": "code",
   "execution_count": null,
   "metadata": {
    "collapsed": false,
    "jupyter": {
     "outputs_hidden": false
    }
   },
   "outputs": [],
   "source": [
    "results = []\n",
    "hit_type_id = ''\n",
    "\n",
    "for tweet in tweets:\n",
    "    response = client.create_hit(\n",
    "        **TaskAttributes,\n",
    "        Question=question_xml.replace('${content}',tweet)\n",
    "    )\n",
    "    hit_type_id = response['HIT']['HITTypeId']\n",
    "    results.append({\n",
    "        'tweet': tweet,\n",
    "        'hit_id': response['HIT']['HITId']\n",
    "    })\n",
    "    \n",
    "print(\"You can view the HITs here:\")\n",
    "print(mturk_environment['preview'] + \"?groupId={}\".format(hit_type_id))\n"
   ]
  },
  {
   "cell_type": "markdown",
   "metadata": {},
   "source": [
    "## Get Results\n",
    "Depending on the task, results will be available anywhere from a few minutes to a few hours. Here we retrieve the status of each HIT and the responses that have been provided by Workers."
   ]
  },
  {
   "cell_type": "code",
   "execution_count": null,
   "metadata": {
    "collapsed": false,
    "jupyter": {
     "outputs_hidden": false
    }
   },
   "outputs": [],
   "source": [
    "for item in results:\n",
    "    \n",
    "    # Get the status of the HIT\n",
    "    hit = client.get_hit(HITId=item['hit_id'])\n",
    "    item['status'] = hit['HIT']['HITStatus']\n",
    "\n",
    "    # Get a list of the Assignments that have been submitted by Workers\n",
    "    assignmentsList = client.list_assignments_for_hit(\n",
    "        HITId=item['hit_id'],\n",
    "        AssignmentStatuses=['Submitted', 'Approved'],\n",
    "        MaxResults=10\n",
    "    )\n",
    "\n",
    "    assignments = assignmentsList['Assignments']\n",
    "    item['assignments_submitted_count'] = len(assignments)\n",
    "\n",
    "    answers = []\n",
    "    for assignment in assignments:\n",
    "    \n",
    "        # Retreive the attributes for each Assignment\n",
    "        worker_id = assignment['WorkerId']\n",
    "        assignment_id = assignment['AssignmentId']\n",
    "        \n",
    "        # Retrieve the value submitted by the Worker from the XML\n",
    "        answer_dict = xmltodict.parse(assignment['Answer'])\n",
    "        answer = answer_dict['QuestionFormAnswers']['Answer']['FreeText']\n",
    "        answers.append(int(answer))\n",
    "        \n",
    "        # Approve the Assignment (if it hasn't already been approved)\n",
    "        if assignment['AssignmentStatus'] == 'Submitted':\n",
    "            client.approve_assignment(\n",
    "                AssignmentId=assignment_id,\n",
    "                OverrideRejection=False\n",
    "            )\n",
    "    \n",
    "    # Add the answers that have been retrieved for this item\n",
    "    item['answers'] = answers\n",
    "    if len(answers) > 0:\n",
    "        item['avg_answer'] = sum(answers)/len(answers)\n",
    "\n",
    "print(json.dumps(results,indent=2))"
   ]
  },
  {
   "cell_type": "markdown",
   "metadata": {},
   "source": [
    "## Personal Test"
   ]
  },
  {
   "cell_type": "code",
   "execution_count": 11,
   "metadata": {},
   "outputs": [],
   "source": [
    "import boto3\n",
    "from boto.mturk.connection import MTurkConnection\n",
    "from boto.mturk.question import HTMLQuestion\n",
    "from boto.mturk.layoutparam import LayoutParameter\n",
    "from boto.mturk.layoutparam import LayoutParameters"
   ]
  },
  {
   "cell_type": "code",
   "execution_count": null,
   "metadata": {},
   "outputs": [],
   "source": [
    "# Create your connection to MTurk\n",
    "mtc = MTurkConnection(aws_access_key_id='your_access_key_here',\n",
    "                      aws_secret_access_key='your_secret_key_here',\n",
    "                      host='mechanicalturk.sandbox.amazonaws.com')\n",
    "url = LayoutParameter('url','https://www.linkedin.com/in/yann-mentha-1482aa192/')\n",
    "params   = LayoutParameters([url])\n",
    "response = mtc.create_hit(\n",
    "  hit_layout    =\"358EM4PUG0F6IAY8MYSDJ00Y1UJ716\",\n",
    "  layout_params =params,\n",
    "  hit_type      =\"3R4WH3MP1KTWXDYM7I66KEMB9GEP1R\"\n",
    ")\n",
    "                          \n",
    "# The response included several fields that will be helpful later\n",
    "hit_type_id = response[0].HITTypeId\n",
    "hit_id = response[0].HITId\n",
    "print \"Your HIT has been created. You can see it at this link:\"\n",
    "print \"https://workersandbox.mturk.com/mturk/preview?groupId={}\".format(hit_type_id)\n",
    "print \"Your HIT ID is: {}\".format(hit_id)"
   ]
  }
 ],
 "metadata": {
  "kernelspec": {
   "display_name": "Python 3",
   "language": "python",
   "name": "python3"
  },
  "language_info": {
   "codemirror_mode": {
    "name": "ipython",
    "version": 3
   },
   "file_extension": ".py",
   "mimetype": "text/x-python",
   "name": "python",
   "nbconvert_exporter": "python",
   "pygments_lexer": "ipython3",
   "version": "3.6.9"
  }
 },
 "nbformat": 4,
 "nbformat_minor": 4
}
