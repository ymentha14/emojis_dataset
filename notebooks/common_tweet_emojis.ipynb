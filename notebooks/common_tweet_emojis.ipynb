{
 "cells": [
  {
   "cell_type": "markdown",
   "metadata": {},
   "source": [
    "# "
   ]
  },
  {
   "cell_type": "markdown",
   "metadata": {},
   "source": [
    "# Common Tweet Emojis"
   ]
  },
  {
   "cell_type": "markdown",
   "metadata": {},
   "source": [
    "<div class=\"alert alert-success\"> \n",
    "In order to assess how many emojis we want to gather data for, we need to run an analysis of the most used ones. (Indeed, asking a few thousands users to describe an emoji like 🥍 might be less useful than😄) \n",
    "</div>"
   ]
  },
  {
   "cell_type": "code",
   "execution_count": 91,
   "metadata": {},
   "outputs": [],
   "source": [
    "from collections import Counter\n",
    "import emoji\n",
    "import seaborn as sns\n",
    "import pandas as pd\n",
    "import resource\n",
    "from tqdm import tqdm\n",
    "from IPython.core.debugger import set_trace\n",
    "import matplotlib.pyplot as plt\n",
    "sns.set()"
   ]
  },
  {
   "cell_type": "code",
   "execution_count": 21,
   "metadata": {},
   "outputs": [],
   "source": [
    "def limit_memory(maxsize): \n",
    "    \"\"\" Prevent computer from crashing\"\"\"\n",
    "    soft, hard = resource.getrlimit(resource.RLIMIT_AS) \n",
    "    resource.setrlimit(resource.RLIMIT_AS, (maxsize, maxsize)) \n",
    "#limit_memory(10000)"
   ]
  },
  {
   "cell_type": "code",
   "execution_count": 13,
   "metadata": {},
   "outputs": [],
   "source": [
    "def extract_emojis(s):\n",
    "    return ''.join(c for c in s if c in emoji.UNICODE_EMOJI)\n",
    "\n",
    "extract_emojis(\"😚;👻💆🏿🚯🇸🇷\")"
   ]
  },
  {
   "cell_type": "code",
   "execution_count": 36,
   "metadata": {
    "collapsed": true,
    "jupyter": {
     "outputs_hidden": true
    }
   },
   "outputs": [],
   "source": [
    "tweet_path = \"../data/raw/tweets/example-tweets.txt\"\n",
    "tweet_df = pd.read_csv(tweet_path,sep=\"\\t\",header=None,parse_dates=True)"
   ]
  },
  {
   "cell_type": "code",
   "execution_count": 36,
   "metadata": {
    "collapsed": true,
    "jupyter": {
     "outputs_hidden": true
    }
   },
   "outputs": [],
   "source": [
    "tweet_df.columns = ['lang','id','date','user','text']\n",
    "tweet_df = tweet_df[tweet_df['lang'] == 'en']\n",
    "#tweet_df.info(memory_usage='deep')"
   ]
  },
  {
   "cell_type": "code",
   "execution_count": 100,
   "metadata": {},
   "outputs": [],
   "source": [
    "def update_emoji_count(dic,text):\n",
    "    for char in text:\n",
    "        if char in emoji.UNICODE_EMOJI:\n",
    "            dic[char] = dic.get(char,0) + 1\n",
    "\n",
    "emojis_count = {}\n",
    "for text in tqdm(tweet_df['text']):\n",
    "    update_emoji_count(emojis_count,text)\n",
    "\n",
    "em_df = pd.Series(emojis_count).sort_values(ascending=False)"
   ]
  },
  {
   "cell_type": "code",
   "execution_count": 116,
   "metadata": {
    "collapsed": true,
    "jupyter": {
     "outputs_hidden": true
    }
   },
   "outputs": [
    {
     "name": "stdout",
     "output_type": "stream",
     "text": [
      "Grasped 8.94% of the total emojis\n",
      "Missing emojis\n",
      "🧏🙇🏿‍♂️🧙🏻🐄🇯🇴🇨🇲👣🏻👨🏻‍⚕🍖🙎🏼✊🏼👩🏼‍🤝‍👨🏿✍🏻🤶🧚🏿‍♂️🥖🇧🇹🙇🏾🍙🖖🏻👩🏼‍🚀👱🏽‍♂🤦🏼‍♀️🙎🏾‍♂️🔮🤦🏻‍♂🧑🏼‍🤝‍🧑🏼🤬🏌️‍♂️💇🏼‍♀👨‍🎤👨🏼‍🏫💬🐞🦹🏿🦸🏼‍♂👩🏾‍🔬🐁🧃👸🏼🧙🏽‍♀👷💁🏻🙌🏼🇮🇴🇺🇿🛴🔼🧜🏾‍♀🧍🏿‍♀👩🏽‍🦰💇‍♂🧏🏻💂🏾‍♂️🇯🇪🥁🇲🇼♈🍊🧗🏾‍♀👩🏼‍✈️🧍🏼‍♂🐖👳🏽🚊🙋🏿🇳🇪🦖👉🏿1⃣🏏🧚🏼‍♂🧖🏽‍♀🇵🇬🕑🙅🏾‍♀🚉⛓🛥👩🏾‍⚖️🦻🏿💶🚴‍♂️🇹🇿👴♣️👈🏾🇪🇭👩🏻‍🌾💂🏿‍♀🕴🏻🇸🇩🐓🌃🤾🏻‍♀️⛺🕎🕵🏾👩🏽‍⚖🤷🏾‍♀🇲🇾‼️👈🏼👱🏻‍♂️🧜‍♀🙆🏼‍♀🤸🏾‍♀🤙🏼🚴🏼‍♂💃🏻👈🏽🙎🏻♍👷‍♀👱‍♂️👳‍♀️🖕🏿🍵🧗🏾‍♂️🏑🧥🧏‍♂️🦳👩‍🚀🟡🙇🏼🤩🤸🏼‍♂️🍥💁🏿‍♀️👋🏿👩🏼‍🔧🙍🏽‍♂️🥻👩🏼🇩🇰🧘‍♂🇨🇨💆🏽‍♂️🧎🏽‍♂️⏱🧚🏻‍♂️💂🏻‍♂🇦🇪👇🏼🙍🏼‍♂️🏌🏽‍♂️👩‍👧‍👧🙋🏼‍♂️💻👨🏽‍🎓🦸🏻‍♂◻️🤹🏽‍♀️🕵🏿‍♂🧝‍♀🤲🏼🗃️🏵🥏☝🏿👷‍♂🧖🚣⏯🥙👩‍⚕️🧝🇸🇷👩‍👩‍👦👩🏽‍🦲📴⚖🤸🏻‍♀️👩‍💼🦸🏿‍♀️🇧🇼🧏‍♀💇🏽‍♀🇮🇸🔟💂🏿‍♂️🤾🏾🕗🕳⛸️👩‍❤‍👨🏊🏼‍♂🧎🏾‍♀️🦴🚣🏽‍♂️💁🏽‍♀️🧕🏽👼🏼👨🏻‍🏫🕓🏗👩🏽‍⚕🕴🏼👳🏻‍♂️🎍🙍‍♀🦹‍♂🇵🇼📝🏚️🏊🏽🙎🏽👱🏿‍♀👩🏽‍🤝‍👨🏾▶️🧝🏽⛹🏼‍♂️🙋🏻‍♂️👩🏼‍🎤🎞🧝🏽‍♀🧘🏽‍♀💪🏽🈷️🏃🏾‍♀️👩🏿‍💼🧖‍♀️🧙🏽🤷🏽🧝🏼‍♀️🧙‍♀⛹🏿‍♂️👨🏾‍🏫🇹🇦🧏🏾‍♂🧚🏾‍♀👱🏻‍♀️🇱🇮🏌🏿‍♂👨🏾‍🌾🏄‍♂🎿👩🏼‍🤝‍👨🏾🧱👨🏿‍🍳🙅🏻🧙‍♀️👨🏼‍✈️👦🏻🤷🏿🧞‍♀🇧🇷🛠️📗💆🏿🧘🏻🧝🏿👍🏼👩🏻‍🚒💂🏽‍♀️🇩🇴📒🗳🧴🛌🏿🇨🇿🤚🏾🩹🇽👨‍👩‍👦🤛🏽📧🌩️💆🏼🚩👔◻🍅💽🧇🛋🤟🏽🧚‍♂️🧖🏿‍♂️🎟️💝🌤👨🏼‍💼⏭🇮🇳🐐🙆🏾‍♀🧎‍♂🥟🕵🏾‍♂👒🙍🏾🟥🗒🧍‍♀️🖨🧏🏻‍♂️🇲🇳🧙🏼®️🥪🎇🗳️🇦🇹🏄🏼👱‍♀️🧚🏾💼🦶🏻🧂🍤🈺🚵🏾‍♂️🤳🏻🗓👩🏿‍⚕🧟‍♀️🏊🏻‍♀️👨🏻📙👋🏾🙆🏼‍♂☮️🏴‍☠️👳🏼🚕🚣🏼‍♀🙋🏾‍♀👱🏼🙋🏼‍♂⚫♨️🏌‍♀️🏋️‍♀️◽🤷🏻‍♀️🦹🏼🇬🇸👷🏼‍♀🥴🇸🇻✋🏾🚣🏾‍♀🩳🚣‍♂️👵🏼🖥🤦🏾‍♀🥳🔯🍢🏋🏼‍♂️⛹‍♂️🤽🏼‍♂🧎🏿‍♂🧜🏿‍♀️🕴🏿👷🏽‍♀️🇸🇲👩‍🦲🚴🏿‍♂🤕🤚⚱🙋🏿‍♂️🇪🇷👩‍👧‍👦🤽🏽‍♂️🤜🙆🏻‍♀️👨🏿‍🤝‍👨🏾⛈👨🏼‍🔬🏎☢️🧛🏽‍♂️🧎🏼‍♀️👲🏿🙍🏿‍♂️💪🏻🦹🏿‍♀️🙋🏻‍♀️🍿🧛🏾‍♂👃🏼🔉🤹🏼‍♀💁🏼‍♀🕵🏼‍♀🤹🏿‍♀🔦👐🏾👩🏾‍🦲⛹‍♀🤳🏿🤷‍♂👋🏼🇸🇾👩🏽‍🚀🌜🤸🏿‍♀️🎰🏊🏻🤰🏻🔜🤯💱👩🏿‍🤝‍👩🏾👁️‍🗨🧘‍♂️🤚🏼🧘🏻‍♂🧍🏻🤼‍♀️🇨🇻🙆‍♀✈️🧺⏭️⛹🏾‍♂👨🏾‍⚕🙎🏾♠️🧔🏾🚛🤏🏼🇷👩🏽‍🤝‍👩🏼🇨🇱🕕🥧🚴🏾‍♀️🙎🏽‍♀🔍👵🏿🏋🏽‍♂🤸🏾‍♂🔡🇺🇲👩🏽‍🌾🚣‍♀👱🏿‍♂🧍🏽‍♀️👨🏿‍🎤📤🕵🏻‍♂️🖐🇬🇵👌🏾🤦🏼‍♂🏄🏻‍♂️🤾🏾‍♂👵🏾🏐🚴🏼‍♀️🇸🇬🧜🏽🤷🏽‍♀👩🏾‍🦯☯️🙋🏽‍♂👱‍♂🅾️🧝🏼🌐🌦️🎪🇱🇧📣🦸🏽🤹🏼‍♂️🥚🦕🧏🏽🤦🏽‍♂️👨🏼‍⚕🕵🏿👩‍👧🥿🇧🇪🏌🏽💁🏻‍♀️👨🏾‍💼🏄🏾🏄🏽💁🏿‍♂️🚣🏻‍♀️🇦🇨🙅🏾‍♀️👨🏻‍⚖️♂✳️🚶🏾‍♂️🏊🏿👩🏾‍🍳👱🏾👩🏻‍⚕🇷🇸💂‍♀👏🏼🇻🇦🌆👨🏻‍🎤🇬🇱🦹🏼‍♂️🤾🏿🎦🧗🏽‍♀️🤫⌨️🏌🏿‍♂️🛏👬🏾👨‍❤‍💋‍👨🍌🧗🏾‍♀️📖♐🚶‍♂⁉🚶🏿‍♀️🕴🏽🏺🇰🇼👳🏻‍♂🦛🦨🃏👬🏿🤾🏻‍♀🕵🏻🕺🏼🗜️👟👩🏾‍🚀👘🧏🏼‍♂🙋🏾🇰🇮🍧🎾🧘🏼‍♀👨🏻‍🦰🚶🏼‍♂🈶🧪👩🏾‍⚕️🦸🏻📂👛🍛🚵🏼‍♀⛹🏻‍♂️⛹🏿‍♀📎🚰🏌🏼‍♀🦻👐🏽👩‍🔬🧛‍♂🚯🕘🔳🏊‍♂️♑🛏️🕙👮🏾🇧🇴🤹‍♂👩🏻‍🤝‍👨🏼💂🏻‍♀💆🏼‍♀️🛌🏾🏒🤲🏻🚜🌪️♌🛤👁🕊️♦️👃🏽💇🏻‍♀️👨🏼‍🚒🧎🏼‍♀🇨🇦👨🏽‍🦯👨‍🔬㊗️🙇🏾‍♂️🐉👷‍♂️🥊👢🇵🇲🇦🅰🧗‍♂️🇹🇳🙇🏼‍♀🇲🇭👩‍⚖️🏼💁🏻‍♂️🙍🏼◀🧖‍♂👨‍👩‍👧‍👦💆🏻🇦🇫🆖🧔🏻👩🏿‍🎓👩🏼‍🌾✴️🙇🏼‍♂🧚🏼‍♀️🧖🏻‍♂️⛈️🧙🏿‍♂🧍🏿‍♂🧕🤾‍♂️👰🏽🚵🏻‍♂️🙇🏾‍♀🚣🏼‍♂🦹🏾‍♂🧑🏾‍🤝‍🧑🏻🏦🤸🏻‍♂💁‍♀🚵🏽‍♂️🤡🙎🏼‍♂👦🏿🧯🇹🇬🥵♾👩🏿‍🎨🤸🏽‍♀️🧎🏼‍♂♂️🇦🇽🤼🏋🏼‍♀🇵🇷🦸🏽‍♂🧖🏽🧎🏼🚵🏾➿🤦‍♂♥️🙆🏽‍♀️👨‍👨‍👧‍👧🤛🏿👷🏻‍♀🐸✏️🇱🇺🦜🏂🏼👨‍👨‍👦‍👦Ⓜ☯👶🏿👨🏿‍🏫🦱👨🏽‍⚕⛹🏿⚰🇬🇶🙏🏾👮⏬🏋‍♂️🔞🥉⏏️🛳️🧓🇹🇴🇵🇦👰🏿💳🧮👨🏿‍⚖🤷🏽‍♂👫🏻🧚🏾‍♀️🙅🏿‍♂👨🏽‍🏫🏃🏻‍♂️👨‍🦲👩🏿‍🤝‍👨🏻🚵🏾‍♂🍄🧗‍♀️👚💁🏽‍♀🧒🏿🛍️🍮🏋🏾‍♀👨🏼‍🦳🖋️👨‍❤️‍💋‍👨👎🏾🎠🇧🇬🗓️🇸🇱🅱️👨🏻‍🦲🤸🏻‍♀🏋️🦵🏽🙅🏿7⃣💇‍♀️📏👩🏾‍🦳🖇👩🏼‍🦳🕵🏾‍♀️🇫👩🏿‍🏭💪🏾🕵🏼‍♂👨‍❤‍👨🤦‍♂️😇✖️📳🤦🏽👩‍👦👨‍💼👩🏿🇬🇾🧏🏿‍♀👷🏿‍♂💁‍♂️💇🏿‍♀️©️🧓🏾📉🧗🏼🖌💢👩🏻‍🔬◀️🏌🏼‍♀️🇰🇬🩸🤎🎣🕵🏽‍♀️👩🏾‍🤝‍👩🏽🧜🏽‍♀🤞🏿🚵🏼📻™️🧏🏼‍♂️☝🏼👉🏽🇩🇲🙆🏿‍♂️🚅🌬🇳🇱💅🏾👇🏽👷🏿‍♂️🍐🐌2️⃣🎮👨🏼‍✈📈🙅‍♂️4⃣🏌🏿‍♀️🤽🏽‍♀️👨🏽‍🦼🏋🏾‍♂️👩🏻‍💻🤸🏽‍♀🟧🪔🤟🇴🇲🛶🚴🏾‍♂️⛹🏽‍♀👳🏻‍♀️👨🏽‍🔬🎗🧳🤽🏽🤽🏽‍♂🏊🏽‍♂️👩🏽‍🤝‍👨🏻🧛🏿‍♀☘🍨🇿🇼🔺🚺🧟‍♂️🇹🇷💂🏾‍♂🔙🇬🇫🇮🇪👱🏾‍♂️👨🏾‍🤝‍👨🏼🏕👨🏿‍🦯🧙🏿‍♀️🛃👦🏝🏄🏿‍♂👌🏿🧎🏿🤽‍♀👩‍👦‍👦🤰🏿🧍🏼‍♀️🧑🏻💆🏼‍♀🧘🏽‍♀️🇰🇭🧜🏼‍♂️🥥🕺🏽👨🏻‍🌾🧙🏽‍♂👍🏾⛹️‍♀️👮🏻‍♀👴🏿🛀🏽🤦🏾‍♀️🙋🏼‍♀🇨↩㊗🧘‍♀🆎✂️🆕✊🏽⛹️‍♂👨🏻‍🦯⛷️👳‍♂️👷🏼‍♂🙇🏽‍♂️🧚🏼🖕🏻🧑🏾‍🤝‍🧑🏽🧜🏾🧘🏻‍♀️🤏👷🏾‍♂🏌️‍♀️🙇🏻🤦🏻‍♀️🪐↔️🇦🇺🐏🇨🇾🧚🏻‍♂👨🏽‍🚒🍞👨🏼‍🎨💂🏽‍♂️㊙️🇲🤹🏾‍♂️🧣🇪🇦🧛🏿🏗️🕵️‍♂👋🏻💆🏾‍♀️🇳🇺🌱🚶🏿‍♀💆🏻‍♀️🐺💂🏽‍♂🤹🍃🧝🏾‍♂🚴🏼⛹🏼‍♂🚵🏾‍♀️🙇🏽‍♂🦹🏻‍♀🦧🏃🏽🚶🏿‍♂️🤰🏾👨‍👨‍👧👨🏾🦡🇦🇮🕵🏽‍♂👩🏻‍💼🇻🇪🏌🏾‍♀🍶💂🏼‍♀️🧉📟🇲🇲🏜🦹🏿‍♀🙏🏽☝🏾🤽🏻‍♂🚁🧖🏿‍♀🚣🏻☃️⛹🏽‍♀️🇺🇬👩🏾‍🤝‍👨🏼↪️🛂🚈👉🏻💇🏻🤦🏼‍♀🈳🧘🏽‍♂🙅🏼‍♀️🎛🏋🏻‍♂🇧🇻🧑🤸🏻‍♂️🤘🏄🏼‍♂️💁🏽‍♂️🥮🗨🏞️👨🏿‍🚒🏌‍♀🏄🏾‍♀🤸‍♀️🏓⛹‍♀️👩🏽‍🎤*⃣🖤🤸🏽‍♂️👨🏽‍🏭🤸🏾‍♀️👩‍✈🧏‍♂🚤🇱🇹⚪🧍🏽‍♂🏌🏻‍♀️👷🏿‍♀️🇦🇶🇸🇭🦋🕚🏃‍♂️🙍🏿‍♀🚣🏿‍♂📑💂🏼‍♂️🥃👩🏽‍🦽🔌🧎🏽‍♀️🧜🏽‍♂🚄🗣⛹🏾‍♀👩‍👩‍👧‍👧👎🏻🏟🇷🇺🇱🇰🏋️‍♀🏴‍☠👩‍🏫🦼🤽🏿‍♂️🏂🏿🇰🇾✋🏿🇹🇲🐆⏹🙍🏻‍♀️🇹🇩🦸🏿‍♀👮🏻‍♀️👯‍♂️✋🏽🤙🏿🇹🇭🚶‍♀️🤾🏽‍♀️🚵🏻🚴‍♀🖕👨‍🏭🤴🏻🤽🏿‍♀🧝🏻‍♂️⛹️‍♀👴🏼👩🏽‍🦳🚀💓💇🏽‍♂️🤵🏾👨🏼‍⚖🤼‍♂4️⃣💆🏽‍♀️🧏🏽‍♂️🙂💇🏿‍♀🧗🏽‍♀⛹🏾🇩🇿🔛🌰🏛️🧙🏾‍♀️🧝🏾‍♀️🏍🧜🏼‍♀️🤹🏻‍♂️👼🏾🟠🏊🏽‍♀️🇪🇹🛌🏽🥰❤️🕉🤷🏾‍♂️🥭💷🕹🔣👨🏿‍🔬🧎‍♀👧🏽🇸🇪☁️👮🏼🤽🏾‍♀️🧙🏽‍♂️🚣🏽‍♀️💁🏽‍♂🤽🏾‍♂👱‍♀🏴󠁧󠁢󠁷󠁬󠁳󠁿🧖🏾‍♀🇱🇦🇲🇰🧓🏽🧜🏿‍♂️👨🏽‍🦰🏃🏽‍♀️🧙‍♂🧿🇸🇨🤷🏻‍♀🧞⛹‍♂⛔✒🦸‍♀🧚🏿🇺🇾🚶‍♂️👳🏾‍♂👂🏾🏧🎌🦓🤑👩🏾‍🤝‍👨🏿🤙🏻🇨🇬📀🧖🏾‍♀️🤾🏼‍♂️🧘🏽‍♂️🎅🏼⚔️💆🏿‍♀️🧎🏾‍♂✋🏼🤷🏾9⃣⚛🌨️🧜🏻☠🧏🏻‍♂🦹🏼‍♀️▪️⚙🧍🏾‍♀👨🏽‍🦳🧙‍♂️🙅🏻‍♂️🤏🏾🇳🇷👩🏽‍✈️🇸🇿🤸🏾‍♂️⛪🙇🏻‍♀👮🏼‍♂️☺️↕️▫🇧🇿🥛👨🏽‍💼👨🏻‍✈️🙆🏼‍♂️⚖️🧏🏾‍♀️👩🏿‍🚒🕣🤽🏿🤹🏿‍♂️👩🏼‍💼🕡💒🤸‍♀👐🏼🙍🏿‍♀️🏽📔👰🏻👱🏾‍♂🌼🏊🏼🕯️🙇🏾‍♀️🤽🏽‍♀☀️💆🏿‍♂️🛎📵🇬🇼🉐🦻🏾🥞🤹🏾🏋🏾‍♀️👩‍🍳🤮🧓🏻👩🏽‍🔬🏸⛎🧍‍♀⌛🧘🏻‍♂️📋👨🏻‍🦳🇲🇹🐥🧒🙎🏻‍♂🤹‍♀🦗🧘🧙🏼‍♂️🦻🏼👨🏼‍🎤🏂🇵◼6️⃣👩‍❤️‍💋‍👩👩🏿‍🏫🚴🏽‍♀️🏄🏻‍♀🤽🏼‍♂️🚵🏿‍♀🤽🏼‍♀🧝🏿‍♂️♉👳🏻‍♀💂🏿‍♂💆🏼‍♂️👱🇳🇵🌲🐕‍🦺🛀🏿🏋🏽‍♂️🦸🏻‍♀️🙍🏿➖🏄🏿‍♂️🤲🏿🍣🏌🏽‍♀️🎻🇹🇨🟫ℹ️🤸🏿‍♂️🙎🏽‍♂️🏋🏾🤱🏾🙋🏼‍♀️🖇️🧗🏿‍♀👨🏻‍🔧👨🏻‍🚀🤹🏻🚫🙋🏽‍♂️👎🏿☪️👮🏾‍♀🚣🏽🧙🏼‍♀🇬🇬👂🏻💂🏽🇨🇴🕵🏾‍♂️🧘🏼‍♂🇭🇳⛹️🧗🏾👨‍🍳👨🏿‍✈️🕵🏾‍♀🧛‍♂️⚒️➡️🙅🏽‍♀🧶👩🏾‍🏫🧁🧝🏻‍♀️⏺️🤞🏼🤦🏾‍♂️🧖🏿‍♀️🇺🇦🍏🔨👦🏼🦹🏻‍♂👩‍🔧✌🏼👩🏻‍🦰🏌🏻‍♀♊🥘👨‍👧‍👧🤴🏽👜👩‍❤‍👩🧖🏿👬🏼👩🏼‍🔬👊🏾🕵🏿‍♀🏃‍♀🇵🇾✍🇻🇳💂🏻‍♂️🗣️👩🏼‍🦲🍁🏄🏽‍♀️🙎‍♂👱🏼‍♀️👨‍🏫👨🏿‍🤝‍👨🏽🚣‍♂🧗🏼‍♀🧕🏿👨‍👧🤾🏻‍♂🚎📭🏄🏻‍♀️👬🏻👨‍👦🍚🗻🚶🏽🧞‍♀️🏊🏿‍♀💂🏼‍♀🧍🏼‍♀🛌👳🏼‍♂👨🏾‍🦱🚴🏼‍♂️🌥️🧎🏿‍♀🧚🏽‍♀️👩🏾‍🔧🧜🏾‍♀️🚚👇🏿🔩👩🏽‍🏫🕺🇫🇰👨🏽‍⚕️🤦🏿‍♀️🧚🏿‍♀️🖕🏼⏸🎽🙎🏼‍♀👩‍🎤™💆🏽🤦🏿‍♂️👨🏿‍⚖️🚳🖥️🧖🏾‍♂👳🏾‍♀️🧒🏾🚑🛀🏻🌏🤦🏼👡🙋🏼💇🏻‍♀🕵‍♀💇‍♀🚥☎️📰🧝🏼‍♀🤸🏾💮🇧🇮🧘‍♀️👩🏽‍🤝‍👩🏻💅🏿🆘🧜🏽‍♂️🕴️🔏💌⛹🏽‍♂🇲🇱👈🏿🎖👩🏿‍🤝‍👨🏼🦿💂🏼‍♂🏕️👩🏼‍💻🇧🇫🚮👨🏻‍🎨👨🏾‍🤝‍👨🏽🏍️🤰🏼🗃👱🏽👨🏻‍💻🏌🏻‍♂👩‍❤️‍💋‍👨🧗🏽‍♂🎯🤦🏽‍♂🙍🏽‍♂🈲❇️🤾🏾‍♀🖊🧗‍♂🧛🏻‍♀️👨🏿‍🦰🧏🏽‍♀️💆🏼‍♂👷‍♀️🥩💾⛹🏽🏋‍♂🩱🧛🏼☣️🧖🏿‍♂👩🏾‍🎨💇🏽‍♀️🇫🇴🚣🏿‍♂️🇬🇦🧎🏿‍♀️👩🏽‍🔧🏃🏼‍♂🧝🏻‍♂🏃🏿‍♀🤙🏾🦻🏽👨🏾‍⚕️🏃🏽‍♂️👮🏼‍♀️👯‍♀🖨️🇧🇧🏄🏾‍♂️🍠🩺🧍🏿‍♀️⛹🏼‍♀️🏊‍♀️🕴🏾✍🏽🇹🇱🧚🏽‍♂️👲🏽🚣🏼👩🏿‍🤝‍👩🏻🇧🇭8️⃣🤒🕵‍♀️👼🏻🦹🏽‍♀️🚶🏿‍♂🏮🛌🏼👷🏻‍♀️🧍🏻‍♂🚵🏼‍♂🚶🏾‍♀⛑️🇦🇬📸🏄‍♂️👮‍♂🚦🦶🏼📕🤘🏻👊🏿⏹️🏌🏽‍♀🥨👨🏾‍🎤🏊🏼‍♀️🧝🏼‍♂👩🏾‍✈👨‍🦯🕵️🕵🏼👧🚵🏽‍♀️🧘🏾‍♀️👩🏿‍🍳🏣☪🥼🧗🏿‍♀️👨🏻‍🚒🧒🏼⬜🚣🏼‍♂️🏃🏿‍♀️✴↗👳🏿‍♀🙅🏽📥🐳🏖🙍🏾‍♂️🎺🕊⏳💁‍♂👩🏽‍💼🈹🇲🇺⚛️🧘🏼🔠👆🏿👩🏻‍⚕️🧗🏿‍♂💂🏿🧘🏿‍♂🚵🏻‍♀️🧜‍♂💆🏾🧝‍♂👏🏻🏪🙅🏻‍♂🌛💇🏻‍♂👆🏻🚶🏽‍♀🛩️🏭🤹🏻‍♀🤹🏼‍♂🎅🏻🥺🤷🏿‍♀🤷🏿‍♂️🇰🇵🚣🏽‍♂📯👨🏾‍🔧🇧🇲🚴‍♀️🏃🏿‍♂🧗👨🏽‍✈️🙅🏽‍♀️👨🏿‍⚕🏌🏽‍♂👨🏼‍🏭👱🏻🧖‍♀👮🏽‍♀️🧜🏻‍♂🙎🏿‍♀👠🏋🏻‍♀🧝🏿‍♂👨🏽‍⚖️🚴🏿‍♀🏝️🐽🗑👩🏼‍🦽👂🏿🌬️👩‍❤‍💋‍👨🤦🏿‍♂⏮👨‍💻🤹🏿‍♀️🇦🇴🤸🏻🤷🏿‍♂🖖🏿🕷️🦶🏿🧍🏽‍♂️🛋️👮🏿‍♀️🧘🏾⏮️🐿️🎅🏾🦑💇🏿‍♂👨🏾‍💻🕵🏼‍♀️🚟🏋️‍♂🤹‍♀️▪🗑️🧙🏼‍♂🏄🏻🇲🇫🐰👱🏻‍♂⭕🧝‍♂️👩‍⚕💃🏼👨‍🦰🔇🏫✊🏾👷🏾‍♀🏌🏼🤽🏻🙍🏼‍♂👩🏽‍✈🍾🇦🇷🙆🏻‍♂️👨‍🦽🧖🏻‍♀️🐛👨🏻‍🍳🙎🏻‍♀🧊⏲️⛹️‍♂️🇾⛹🏼👱🏾‍♀🏃🏼‍♂️🧍🏿🤧🧝🏿‍♀️🇧🇶🙌🏿🕺🏿🏌🏻‍♂️🧏🏽‍♀👮🏾‍♂️👨‍⚖🇨🇵🇰🇪😙💇🏾‍♀️👩🏾‍🤝‍👩🏼👩🏽‍⚖️✉👶🏾🧜🏾‍♂🏔️👮🏼‍♂🧑🏻‍🤝‍🧑🏻👨🏾‍⚖️🇾🇪🇯🙋🏿‍♀👨‍🚒🇲🇸🇹🇹🇶🕢👱🏿‍♂️✉️🙅🏿‍♀🥶💁🏻‍♂👩‍🎨🐡🦶🚣🏼‍♀️👨🏽‍🤝‍👨🏻🙎🏼‍♂️👩‍⚖🦀👩🏾‍🏭🎅🏿🚵‍♀️👷🏽‍♀🏌🏼‍♂🧑🏽‍🤝‍🧑🏽📚🧙🏾🎅🏽1️⃣🏋‍♀️☝🏻🇻🇮🧧🤸‍♂️🍭🚶🏻‍♀🚶‍♀🇼✊🏿🤛🙅🏿‍♀️🦹‍♀👨🏿‍🤝‍👨🏻🌿👩‍🦼🔓🧖🏼‍♂️🕵🏿‍♀️👩🏾‍💻👮🏼‍♀💅🏼🧜‍♂️🧛🏼‍♂️🤜🏼🚬🩰🚴🏻‍♀🏌🏼‍♂️🙆🏽‍♂️🦸‍♂️🚲👩🏽‍🎓🤳🏽👝👫🏾🦟🇷🇴🕋🏄🏼‍♂👩🏿‍🎤🎭🎹🛡️👩🏻‍🔧💁🏼‍♂️🛵🇸🇦👨🏿‍🦲💇‍♂️👮🏿🔝9️⃣🇨🇼🙆🏾‍♂️🚣🏾‍♂👩‍🦳🇮🇹🧬🌈👱🏼‍♂️👩🏻‍⚖️🏊‍♀🚷🕥🦂🤘🏼💁🏾‍♀️👨‍✈🧏🏿‍♂🔕🌶🆓👷🏽‍♂🍗☣👨🏻‍⚖↩️🥠⏲↖️🙍🏻‍♀🇳🇬🧎🏻‍♀️🏊🏾‍♂🧘🏼‍♀️👼🏽🦹🏽🙅🏾‍♂🧚🏿‍♂🤿🇧🇱🇨🇩🏊🏼‍♂️📿🗞👩🏿‍⚕️🙎🏽‍♂🛁🤾🏼‍♀️🛑🧍🏻‍♀🅱📡👩🏿‍🦽🇵🇰🎟🧗🏽🚴👨🏾‍🦰🍯💇🏾‍♂️🤹🏽🍘✒️💆🏽‍♂🧎🏻‍♂️🙅🏻‍♀🧏🏼‍♀👩🏿‍🦰🦄✌🏻👨🏼‍💻🕐💇🏽‍♂🏌️‍♂👨🏾‍🚒🙎🏿‍♂️⛴️⛄🇲🇩👨🏼‍🤝‍👨🏻🕸️🧙🙍🏾‍♀🕔👐🏿⛹🏿‍♂📍🧜🏼‍♀🕵️‍♀🏹👩🏾‍⚖🚣‍♀️👨🏼‍🦼🤸🏽‍♂🚴🏿‍♂️🚶🏼‍♀👨🏼‍🔧🧚🏼‍♀🧙🏾‍♂🧏🏿‍♀️🈁🧭🕉️🔸🦶🏽🤽‍♂️🇳🇴🦈🦸🏻‍♀🚹🌶️🧝‍♀️🏙👳🏻🤶🏾⛑🤾🏿‍♀🚵🏽🤚🏽🤱🏻🥍🙍🏽🧑🏽‍🤝‍🧑🏻🌤️☎🏋🏿‍♂️🇭🇰🚵🏽‍♂🗡🏊🏻‍♂🤦👩🏻‍🏭🇳🇮👨🏿‍🎓👨🏼‍⚖️🧚‍♀️🚣🏿‍♀☂️🌨✡👼🏿🤝🦸🧛👩🏻‍🦯🤸🏽🧏🏾👩🏾‍🤝‍👩🏻🤔🙍🏿‍♂💆🏾‍♂🥋🏛🧗🏻‍♀🇦🇩👩🏽‍🎨🦚🧛🏽‍♂✍️👨‍👨‍👧‍👦💂🏻🙇‍♀✔️👩🏼‍🤝‍👨🏻🙆🏼🖖🏾🤽🏻‍♀️🕺🏾📌🤦🏻‍♀🥌🙏🏻🇵🇹🟣🇼🇫🚵🏼‍♂️🤽🏻‍♂️🦯🩲👭🏽🧔🏽❕🧍🏽‍♀👱🏿🧰🔔🚭🙅🏼‍♀🚴🏿‍♀️🚵🏾‍♀🇰🇳🔐🏌‍♂️🙏🏿🤱👫🏽🦵🦵🏿💇🏾‍♂💁🏼🧑🏿‍🤝‍🧑🏽🏖️👩🏻‍🎨🏊🏿‍♀️🚵🏿‍♂🧑🏿‍🤝‍🧑🏾🍒🧚🏼‍♂️🧚🏽👵🏻🧏🏿🤽🏼‍♀️🚪🇬🇷🤖👨🏽‍⚖📓✍🏿🧾📽🇱🇨🕵🏻‍♀️👨‍👩‍👧‍👧📪🚴🏻‍♂️👩🏿‍🤝‍👨🏽🙇‍♀️⛹🏼‍♀🙍🏻🤽🤦🏻🤍🙍‍♂🅿👳🏼‍♀🧅🤷🏻‍♂🖕🏽🥎🦸🏿🚒👇🧚🏄🏽‍♂️🦹🏻‍♂️🖼💂‍♂️©🛳🖲️🤽🏾‍♀#⃣🇸🇯🏋🏻🇿🇲🇬🇹🙎🏼‍♀️👩🆚🧝🏻‍♀🗜🚏🤜🏻🥓🚴🏻💑🐙👉🏾🧙🏿🤦🏿🤰🏽👷🏾‍♀️👩🏿‍🦼🤹🏿🦸🏼🇭🇷🏊🏿‍♂🙁🇺🇸⛹🏻‍♀🇲🇷🧵🤘🏽🇬🇲🇧🇸👨🏿‍🦼🔻💡🤾‍♀🕖🤥🧙🏻‍♀🛀🏾🏂🏽🤾🏿‍♂🏊🏽‍♂🦾👊🏼🗒️👮🏿‍♀🖕🏾🏳️⚱️🙇🏼‍♀️🇸🇧👳🏽‍♀🔽🗯️🦐🧝🏽‍♀️👦🏽🤦🏽‍♀️💆‍♂️🤷‍♂️🤜🏾👦🏾🦆👩🏾‍🤝‍👨🏻🛺🛤️👨🏽‍🍳👯‍♂🦞👨🏽‍🚀⛏️🐂🦉☮🤴🏼🦺💇🏼‍♂️🧏🏽‍♂🦹🏽‍♀🤷🏃🏽‍♀🦹🏾‍♀️🤟🏿🇬🇩👏🏾👱🏽‍♀🤷🏻‍♂️🙅‍♀👩🏽‍🦱🦥🧗🏻‍♂🙇🏻‍♀️👩🏻‍🤝‍👨🏾🧖🏼‍♂🧙🏾‍♂️👨🏼✏👩🏽‍🤝‍👨🏿🤛🏾🦽🥄🦏🧎🏿‍♂️🛫⬛⛹🏾‍♀️🖱🧑🏿‍🤝‍🧑🏿🛹👩🏾‍🎤🇹🇰🐦🦸🏽‍♂️💂‍♂🧠🎳👳‍♀🦸🏼‍♀️👨🏿‍🌾🌥👶🏼🤲🏾🤹🏽‍♀🧒🏽💂🏾‍♀🧘🏿🧞‍♂🏊🏻‍♀🌦👱🏿‍♀️💂🏼🚵🏻‍♀🚴🏼‍♀🏄🏼‍♀️👸🏻👩‍🎓🏜️👨🏼‍🌾💆‍♂🇵🇪🤹‍♂️🦸🏻‍♂️🚃🧼👳‍♂2⃣🪁🦹🏾‍♂️👲🏼🧟‍♂🛣🧎🏻‍♂🚴🏽🧚🏽‍♀🔬🏇🏽🛡🤠⛓️🤛🏼⏏3️⃣🕳️🤵🏽🚴🏾‍♀🕵🏽‍♀🇸🇸🚶🏽‍♂️🙋🏽🧝🏽‍♂💇🏾‍♀🔎👨🏾‍🦽👨‍👩‍👧🚽♎🦸🏿‍♂🇧🇦👨‍👦‍👦🧘🏾‍♂️🗺️👩‍✈️🥗🤷‍♀️🏥⏪🚴🏻‍♀️🇨🇽➗🔅👨🏽‍🎨🧗🏽‍♂️👩🏻‍🍳🤽🏾👩🏼‍⚖️✂⬆🧍🏾‍♀️⬇️👏🏿🏄🏽‍♂🚵🤙🏽🤲🏽🏌️‍♀🧞‍♂️🌪🇭🦹🏻💆🏻‍♀🛅0️⃣🚴🏾🧏🏼🧏🏾‍♂️👩🏿‍🔬🤳🏾🦸🏽‍♀️✌🏽⚰️🤞👳🏿‍♂️👭🏾🤸🏿‍♀⛱️🇪🇬📱⌚👕🔗🏌🏾‍♂️🤱🏿🇳🇦🚶🏼‍♂️🧒🏻🈴🦹🏽‍♂️👌🏻🏉🙍🏾‍♀️👩‍👩‍👧‍👦🚱👷🏽‍♂️👲🏻📄🌉🧙🏿‍♂️♠🤾🏽‍♀☝🏽✡️💂🏽‍♀🤷🏼‍♀️👮🏻🚣🏽‍♀💂🏾🧫💁🏻‍♀🤘🏿🙆🏾👨🏿‍🏭🏵️🦲🚴🏾‍♂⛹🏿‍♀️❔☑️🔀🪓🙋🏿‍♂🤏🏿🛰🔋🌚🟨🏋🔲👷🏾‍♂️📊🤏🏽🤶🏿🧛🏾‍♀️👨🏾‍🎓🧜🏿‍♀🧖🏽‍♀️👨🏼‍🦲🧎🏼‍♂️🍰🛄👍🏻🇰🇿🇫🇲🛠👩‍❤️‍👩📩🤳🏼✌🏿🤦🏾‍♂🙇🏼‍♂️🛀🚴🏽‍♂💇🏾🧚🏻‍♀️🌁🙆🏻‍♂🦹🏻‍♀️🚴🏿🖼️🙇🏾‍♂🚆🧍🏽👷🏿🧛‍♀️🏋🏿‍♀️👩🏼‍⚕🧑🏼‍🤝‍🧑🏻✌️🐑🇬🇪📘🧚🏻‍♀ℹ🧍‍♂🏊🏾🎛️🤾🏼‍♀🤦🏻‍♂️🍽🗿🤚🏻🌧👨🏻‍🦱🏚🧚🏾‍♂️👩🏼‍🦱🤾‍♀️🦙🥒🇪🇪👮‍♂️🙆🏿🀄🙆🏽🚣🏾‍♂️👩🏽‍🦯🚝🙅🏼‍♂💁🏿🕒🥐🤾🏾‍♂️🇻🇨🧖🏼‍♀🤚🏿㊙🙆🏾‍♀️🚶🏾‍♀️👩🏻‍🦲👮‍♀️👨🏻‍🦼👩🏾‍✈️🧘🏾‍♂🗼👩🏼‍⚕️🙅‍♂🤙🙄🌋🚶🏽‍♀️👨🏾‍🎨🧏🏼‍♀️👩🏾‍🦼👧🏾♟️🇨🇮🇲🇦♒🚣🏾‍♀️🕞🏋🏿‍♂👨🏽‍🎤🧝🏾👵🏽👨🏽‍🦽🗄🙎🏾‍♀📜🔚⛏🧝🏿‍♀🦹‍♂️♀🏴🤹🏼💁‍♀️🧑🏿🏾🤟🏼🇮🇷🙎🏿‍♂🏃🏼‍♀🚣🏻‍♂️👆🏼🦁🤼‍♂️🙅🏾👩🏾🇿👷🏼‍♀️🤳🏋🏻‍♂️🦃🦸‍♂👨🏼‍🦯🇦🇱☢💆🏻‍♂🏃🏾‍♂🦹🏾‍♀🟩💁🏾‍♀👩🏼‍🏫👩‍👩‍👦‍👦🇨🇷📅🚻🤞🏻🦹🏾🧑🏼👩🏻‍🚀🆒〽👈🏻🧍🏻‍♂️🤱🏼🅾🪑🤤🏟️🇾🇹🈂👍🏽🚋🦇🕯🤟🏻🐜👩🏼‍🤝‍👨🏽📁🚶🏻‍♂🚵🏻‍♂👧🏿🤷🏽‍♀️🏳🇨🇫👨‍⚕🕵‍♂☸️👱🏽‍♀️🕵🇲🇿👴🏾❣️👨🏼‍🦰👇🏻5️⃣👁️🇽🇰🇪🇸🎖️◾☦️↖📮🌩🧐🚠🚴🏻‍♂👩‍🦰🏞🕝🐀♓💇🏽🧘🏿‍♂️💲🇫🇷😾🇫🇯🙍‍♀️🤣🛕🙌🏽🧙🏻‍♀️🥂👩‍🦱👨🏿‍💼🇮🇨🗝️🤹🏾‍♀📹🎙🙅🏽‍♂❄️👳🏽‍♂️🦢🦶🏾👨‍⚖️🚧🧍🏼🏌🏾‍♀️🙍🏻‍♂️🕍⛲👨🏾‍🚀👩‍🦯🗝🇬🇭🏃🏻‍♀️🇲🇬🤶🏼🇨🇳🚴‍♂🛒🧛‍♀🏄🏾‍♀️⛹❣🚾🤷🏾‍♀️👩🏿‍🦯🉑👨🏿‍✈❇🙌🏾✍🏾🤜🏿📢💇🏿🤷🏼‍♂👩🏽🚶🏻‍♂️🎨🤹🏽‍♂️👃🏻🧗🏿🇮🇩🚓🏌🏿‍♀🤷🏼‍♂️🧏🏻‍♀🧖🏻‍♀🏋🏽‍♀️🧖🏻‍♂👷🏻🦵🏻🕵🏽🎞️🧸🥬👨🏿‍🎨👩‍👩‍👧🇲🇻🚶🏾‍♂🤾🕛💁🏿‍♀🚌🇮🇶🏌🏿🧘🏼‍♂️🖲🚶🏼‍♀️👨🏾‍⚖🇱🇾🚣🏿‍♀️🦍🧜🏿🗨️👨🏾‍🦼🚵‍♂👨🏾‍🔬🇲🇶🟦🎃🙆🏽‍♂🙅🏻‍♀️🧟‍♀🏌🧍🏾‍♂👊🏻🆗👳🏾🧛🏿‍♀️🏃🏽‍♂🛸💃🏾7️⃣🚡🍽️🧝🏼‍♂️🇧🇩⤴⛩️👎🏼🏎️🎸🤸‍♂🛬🗞️🧨0⃣👨🏾‍🏭⛹🏻‍♂⏯️👨‍⚕️🇦🇸💿👆🏽🕹️🦹🏿‍♂️🧎🏻‍♀👳🏼‍♀️🧚‍♂🧙🏻‍♂🏃🏻‍♂🧙🏿‍♀🏋🏽🖍👨🏻‍✈👨🏽🤸🏼‍♀🧑🏾🕧🇹🇫🌇〰🚣🏻‍♀💧🧗🏾‍♂🖌️🧜🏽‍♀️🥱🇭🇲🙆‍♂️🗾🥡💆‍♀️👨🏿‍🤝‍👨🏼🕵🏽‍♂️🏇🏿☝️☘️🕶👉🏼👨🏻‍🦽🔱👩🏿‍🦱👇🏾❎🦵🏾👩🏿‍🔧🙋🏻‍♀👩🏽‍💻🤴🏾👮🏿‍♂🧏🏿‍♂️🐔🏯👳🏽‍♂🤸🏼‍♂🏳‍🌈🇦🇲🧚🏽‍♂🙇🏿🐕👷🏾🙎🏿🏇🏻👨🏿‍🔧🥫🇴🧓🏼✋🏻🏄🏽‍♀👩🏼‍🤝‍👩🏻🤦‍♀️👩🏿‍🚀👩🏼‍🍳🧟👩🏿‍✈🤵👃🏿🧈🎚👮🏻‍♂🤹🏾‍♀️🍇🏌️👮🏻‍♂️🤷🏼‍♀🇫🇮👩‍💻🤗↔🧙🏾‍♀🤾🏾‍♀️👨🏿‍🦽🧖🏾‍♂️⛴💂‍♀️⌨🌄🧀🏷️👷🏻‍♂️👩🏾‍🌾💂🏾‍♀️🇹🇻👊🏽🏃🏾‍♀👂🏽🙆🏼‍♀️🖐🏼👾🇲🇴🏃🏾‍♂️⁉️🤹🏾‍♂👩🏾‍🦰🛷🕵🏿‍♂️🙋🏻‍♂🇳🇨🇸🇳🚶🏾💇🏻‍♂️5⃣👨🏿‍🚀🐈🐲➰☸🙎👩🏿‍🤝‍👩🏽🤽🏿‍♂🏄🏿‍♀️🇷🇼🚶🏻‍♀️🥅👶🏻🚶🏿👨‍👩‍👦‍👦🚇⚜️🇸🇰🥕👨🏽‍🌾💂🏻‍♀️🏤🚴🏽‍♀👩🏾‍🤝‍👨🏽🍍✌🏾🐋👩🏻‍⚖🏴󠁧󠁢󠁥󠁮󠁧󠁿🪕🈯🐿🛐🧛🏽‍♀️👨‍✈️⚙️👨‍🔧🙏🏼🤴🇹🇯🍲👨🏼‍🦽👨🏻‍🏭🧔🥜🇨🇭🏋🏼⚔👨🏽‍✈🐮⏱️🤾🏻‍♂️🍈⚠️👳🏽‍♀️🧖🏽‍♂🦹🏿‍♂👳🏾‍♂️🇱◼️👩‍🦽🦸🏼‍♀🏄‍♀👳🏾‍♀👷🏽👨‍❤️‍👨🧎‍♂️⤵️🗺👨🏾‍🦳💅🏽🙋🏽‍♀️🦸🏾‍♀️🦒👨🏾‍🍳🤾🏽‍♂️🧹🤾🏻👨🏼‍🎓🇲🇨🛰️🧍🛢️🇧🇳🆔👮🏿‍♂️🙎🏾‍♂⚕🎑🧖🏼🧛🏿‍♂️🖖🏼🔈🤱🏽👂🏿🧘🏻‍♀💁🏿‍♂🧍🏼‍♂️🌭🇮🇱🍑🇼🇸🇩🇪💇🏿‍♂️👳🏿‍♂👫🏼🧍🏿‍♂️🙅🏽‍♂️🤟🏾🧎🏾‍♀👩🏼‍🦰🙋🏻🇬🇺🧖🏻🐇🇷🇪🇧🇾🦷👱🏾‍♀️⛷😸*️⃣⚒💁🏼‍♂🏇🏾👆🏾🎱🏂🏻📆👎🏽🙇🏿‍♀️↘️🧕🏻👨‍🦼🥑🎚️💅🏻🧗🏿‍♂️🇳🇿🤾🏿‍♂️👨🏽‍💻💁🏼‍♀️🏋🏿🦌🌽🧎👺🇿🇦🇰🇷🧏🏾‍♀🙇🏽🤽‍♀️🇬🇮✝️🧔🏼👨‍🦱👴🏽⬅️👸🏿🧦🖖🦮🙆🏿‍♀️🧆👐🏻🤽🏼☦✳🛣️🗯⛰️👨‍🦳🚵🏿‍♀️🧛🏻‍♀🧛🏼‍♀️🧖🏽‍♂️👫🏿🇦🇼🛀🏼🤏🏻♀️👁‍🗨️👨🏽‍🔧🌡️🥢🧎🏽‍♂⏸️🧷🏄‍♀️🍬🤹🏼‍♀️🛍🚴🏽‍♂️🧜‍♀️↗️🧛🏾✅🎐🇬🇧🙇🏽‍♀👮🏾‍♀️⚗🦅🙃⤴️🧡🏷👩🏻‍🎤🥔🇸🇹👷🏼🇵🇳🦪🤦🏿‍♀🕶️🇻🇺🍡🙌🏻🙎🏽‍♀️👨🏿‍🦳💁🏾‍♂️🟪🧗🏻🚵‍♀🏄🏿‍♀🧑‍🤝‍🧑🕸🤹🏻‍♀️💆🏻‍♂️💆🏾‍♀🥀🙍🏾‍♂🧖🏼‍♀️🏋🏿‍♀💴👨🏻‍🎓🇲🇵🧗🏼‍♀️🏩🏌‍♂🦻🏻🗄️🌳🦹🏼‍♀🏌🏾👸🏽🧖🏾🐹🙎🏿‍♀️💃🏽🧍‍♂️🪂🤰🗂🧗‍♀🕰️👩🏽‍⚕️🈵💂🏿‍♀️🇳🤺👸🏾🙆🏽‍♀👩🏿‍⚖️👨🏿‍💻👌🏽💆🏿‍♂💆🏿‍♀🤞🏾🕜💪🏼👷🏿‍♀👬🏽🦸🏿‍♂️🥯🎒🏌🏾‍♂📷📫🤽‍♂👨🏾‍🦲🤽🏿‍♀️🇲🇽👨🏿‍🦱🌫🤛🏻👶🏽🧄🏘️🙅🏿‍♂️⛱📬💇🏼🧎🏻🤦🏾🇮🇲🧢🦔🏂🏾🦸‍♀️🚣🏾👨🏽‍🤝‍👨🏼↕🗂️🤽🏾‍♂️🧘🏿‍♀🔁🖖🏽🦸🏾‍♀🖊️🚶🏽‍♂🙅‍♀️☹️👮🏽‍♂️🧎🏽▫️🙋🏾‍♂🍂🦸🏾‍♂️🧜🏼⬇🛥️👮🏽🪒⛹🏻‍♀️🧘🏾‍♀🏘💹🧑🏾‍🤝‍🧑🏼👩🏻👮‍♀👨🏽‍🦱🇨🇺👱🏼‍♂🇬🇳🇺🇳🇪🇨👩🏼‍✈👭🏻🇨🇰🌡🇵🇫👳🏿🕴🏊🏻‍♂️🔖📇🧕🏾🧚🏾‍♂🈚6⃣👨🏻‍💼👵🔹🧛🏻🇶🇦👥🇱🇸🐪🤘🏾👰🏾🦹‍♀️👨🏼‍⚕️🧜🏻‍♀☠️👱🏽‍♂️🥣⛹🏾‍♂️🙍🏼‍♀️🖋#️⃣🚂🙋🏾‍♂️✊🏻🖍️🚐🤦‍♀👱🏻‍♀👩🏼‍🎓🙇🏽‍♀️🤨🛌🏻🏃🏿🤴🏿🦦🛢🧛🏾‍♂️🏊🏿‍♂️🤶🏽🇳🇫🙋‍♂️🚍🌫️👩🏿‍🌾🤸🏿‍♂🙆🏻‍♀🧗🏻‍♀️🦸🏾🧑🏿‍🤝‍🧑🏼👩🏽‍🤝‍👨🏼⛹🏻🏋🏻‍♀️👨🏻‍⚕️🏴󠁧󠁢󠁳󠁣󠁴󠁿👍🏿🤵🏻🍱🧜🇭🇺〽️🧛🏽🙍🏼‍♀🧤📐👩‍🏭🆑🇯🇵🚶🏻🏋🏾‍♂🏊‍♂🧎🏽‍♀👋🏽🙎🏾‍♀️🗡️👩🏾‍💼👨‍👨‍👦🎴👰🏼🇭🇹🇸🇴👏🏽🈂️⚗️🧛🏻‍♂🤸🏼‍♀️🧚‍♀🚵🏽‍♀🕤👧🏻👨🏼‍🍳🏢🧗🏼‍♂🤾🏼↪👁‍🗨🙎‍♂️🏄🏿🤼‍♀🚸🚣🏿🏊🏼‍♀🧙🏽‍♀️🌂🧚🏻🧔🏿👩‍❤️‍👨👨‍👧‍👦🤷🏼🚵🏼‍♀️🇩🇯👨‍🌾🧜🏻‍♀️👩🏼‍🦼👩🏻‍🦼🧝🏽‍♂️🧛🏽‍♀🌮🧑🏽‍🤝‍🧑🏼🙇🏿‍♀🚵🏿🤸⏺👩🏿‍⚖🏊🏾‍♀️👩🏼‍🏭🏃🏼👩🏿‍💻⚜🤢👨🏽‍🦲🚞🚔🏅🅰️⛸🔤🤵🏿💆🏾‍♂️🤾🏽🧩🧗🏻‍♂️👃🏾⛹🏽‍♂️👩‍❤‍💋‍👩🙍🏽‍♀️✝🇸🇮🏙️🏄🏾‍♂🧎🏾🏃🏾🛎️🏋‍♀👭🏼🦹🏼‍♂👂🏼🏌🏻👩🏾‍⚕🙋‍♂🤷🏽‍♂️🏃‍♂🇵🇸🤲🦹🦎👨👨🏿🧍🏾🤷‍♀👩🏾‍🎓📽️⬅👱🏼‍♀🤾🏽‍♂👨🏿‍⚕️🚣🏻‍♂🤪🙋🏽‍♀🇯🇲💇🏼‍♂🏋️‍♂️👩🏽‍🦼👮🏽‍♂🧽🤵🏼🕺🏻👨🏾‍🤝‍👨🏻🏊🏾‍♀🖐🏽👩🏿‍✈️🈸🇧🇯💇🏼‍♀️🚖🤷🏿‍♀️📶🏃🏼‍♀️🇰🇲🤭👩🏿‍🦲🧙🏼‍♀️🐩🔄👷🏼‍♂️🧙🏻‍♂️🤸🏼🧛🏼‍♂🧛🏻‍♂️🧏‍♀️🦸🏼‍♂️♾️🔢👳🏼‍♂️🏊🏾‍♂️🐤💆🏽‍♀🤶🏻🙇🏿‍♂🅿️👷🏻‍♂🙅🏾‍♂️🇰👩🏻‍🦳🧘🏿‍♀️🤾🏿‍♀️🏃🏻‍♀💁🏽👁️‍🗨️🦵🏼🇵🇭💁🏾‍♂🥈🤾‍♂👨‍🎓🇪🇺🔂🦩🧝🏻👩🏽‍🏭🤓👯‍♀️↙️⏩🧜🏿‍♂⚕️🏋🏼‍♀️🥦👩🏾‍🦽👩🏻‍✈🙇🏻‍♂️↙🕵🏻‍♂🤦🏼‍♂️🙎🏻‍♂️⛰🧝🏾‍♀🧑🏿‍🤝‍🧑🏻🙎‍♀🙎🏻‍♀️🤐🤹🏽‍♂👩🏻‍🤝‍👨🏽🏃‍♀️🙆‍♂🧚🏿‍♀🧖‍♂️🧍🏾‍♂️👌🏼🚵🏿‍♂️👩🏻‍🦱🙆🏻🥇🧓🏿💆‍♀🌧️🖱️🧏🏻‍♀️⤵👩🏼‍⚖🙋🏿‍♀️👩🏼‍🚒🇦🇿🙍🏻‍♂🏬👩🏽‍🍳♟🏄🏻‍♂👳🏿‍♀️👩🏻‍🤝‍👨🏿🧛🏼‍♀🤜🏽🙇‍♂️📦❌⏫👩🏻‍🏫🦝🙍🏽‍♀🚵‍♂️🧜🏾‍♂️♻️Ⓜ️👧🏼🕵️‍♂️👨‍🚀👩🏾‍🦱🧎‍♀️🤽🏻‍♀🧝🏾‍♂️🙇‍♂💠👩‍🌾🧎🏾‍♂️🧑🏽👨🏾‍✈🙋🏾‍♀️🧕🏼📛♏🇵🇱🦊🧻🕌🕵🏻‍♀👨🏻‍🔬〰️🌯🙆🏾‍♂🇲🇪🎗️👩🏽‍🚒🪀3⃣💁🏾🙆‍♀️💃🏿🏇🏼🙋‍♀🧛🏾‍♀👨🏼‍🦱🕠🏊🏽‍♀🖐️👮🏽‍♀🙍‍♂️👩🏼‍🦯🤞🏽🧍🏻‍♀️👨🏾‍🦯👩🏿‍🤝‍👩🏼🆙🦹🏽‍♂⬆️👨‍🎨🥽👩🏻‍🎓🤹🏿‍♂🤷🏻🇻🇬🈷🤹🏻‍♂🦠🎙️🏔🕵🏼‍♂️👮🏾‍♂🧜🏻‍♂️🧘🏽👩🏼‍🎨👩🏻‍✈️👭🏿🧗🏼‍♂️🧛🏿‍♂🇩👩‍🚒🟤🙆🏿‍♀👨🏼‍🚀🇸🇽👴🏻🏃🏿‍♂️🥝🙇🏻‍♂🦸🏾‍♂🕟🏃🏻🏋🏽‍♀🚶🏼🦰🏳️‍🌈🧜🏼‍♂☄️🙅🏼‍♂️👩🏻‍🦽👩🏿‍🦳📠🦘🥤🧑🏾‍🤝‍🧑🏾💪🏿🥾🙅🏼🔘🕰🖐🏿👨🏾‍✈️🇹🇼🙎‍♀️🏰🇱🇷🟢🕷🔵🇱🇻🤦🏽‍♀🙋‍♀️8⃣🏋🏼‍♂🤾🏼‍♂🙆🏿‍♂✍🏼🏄🏼‍♀👲🏾👩🏾‍🚒🇩🇬🇻👩🏿‍🤝‍👨🏾🤸🏿🦸🏽‍♀🛩🧲📨🖐🏾🤷🏾‍♂🖐🏻"
     ]
    }
   ],
   "source": [
    "# TODO: correct for missing emojis\n",
    "absent_emojis = set(emoji.UNICODE_EMOJI) - set(emojis_count.keys())\n",
    "print(f\"Grasped {len(emojis_count) / len(emoji.UNICODE_EMOJI)* 100:.2f}% of the total emojis\")\n",
    "print(\"Missing emojis\")\n",
    "for em in absent_emojis:\n",
    "    print(em,end=\"\")"
   ]
  },
  {
   "cell_type": "code",
   "execution_count": 130,
   "metadata": {},
   "outputs": [
    {
     "data": {
      "text/plain": [
       "<matplotlib.lines.Line2D at 0x7f8cdb63e208>"
      ]
     },
     "execution_count": 130,
     "metadata": {},
     "output_type": "execute_result"
    },
    {
     "data": {
      "image/png": "[encoded data removed]",
      "text/plain": [
       "<Figure size 432x288 with 1 Axes>"
      ]
     },
     "metadata": {},
     "output_type": "display_data"
    }
   ],
   "source": [
    "fig, ax = plt.subplots(1)\n",
    "em_df.hist(ax = ax,bins=50)\n",
    "ax.set_yscale('log')\n",
    "q25,q75,q99 = em_df.quantile(0.25),em_df.quantile(0.75),em_df.quantile(0.99)\n",
    "ax.axvline(q25,color='blue',label = 'q25')\n",
    "ax.axvline(q75,color='green',label = 'q75')\n",
    "ax.axvline(q99,color='red',label = 'q99')"
   ]
  },
  {
   "cell_type": "code",
   "execution_count": 111,
   "metadata": {},
   "outputs": [
    {
     "data": {
      "text/plain": [
       "<AxesSubplot:>"
      ]
     },
     "execution_count": 111,
     "metadata": {},
     "output_type": "execute_result"
    },
    {
     "data": {
      "image/png": "[encoded data removed]",
      "text/plain": [
       "<Figure size 432x288 with 1 Axes>"
      ]
     },
     "metadata": {},
     "output_type": "display_data"
    }
   ],
   "source": [
    "em_df[1:].to_frame().boxplot()"
   ]
  }
 ],
 "metadata": {
  "kernelspec": {
   "display_name": "Python 3",
   "language": "python",
   "name": "python3"
  },
  "language_info": {
   "codemirror_mode": {
    "name": "ipython",
    "version": 3
   },
   "file_extension": ".py",
   "mimetype": "text/x-python",
   "name": "python",
   "nbconvert_exporter": "python",
   "pygments_lexer": "ipython3",
   "version": "3.6.9"
  }
 },
 "nbformat": 4,
 "nbformat_minor": 4
}
