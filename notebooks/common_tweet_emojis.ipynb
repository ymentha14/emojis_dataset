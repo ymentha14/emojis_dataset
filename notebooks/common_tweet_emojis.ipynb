{
 "cells": [
  {
   "cell_type": "markdown",
   "metadata": {},
   "source": [
    "# "
   ]
  },
  {
   "cell_type": "markdown",
   "metadata": {},
   "source": [
    "# Common Tweet Emojis"
   ]
  },
  {
   "cell_type": "markdown",
   "metadata": {},
   "source": [
    "<div class=\"alert alert-success\"> \n",
    "In order to assess how many emojis we want to gather data for, we need to run an analysis of the most used ones. (Indeed, asking a few thousands users to describe an emoji like 🥍 might be less useful than😄) \n",
    "</div>"
   ]
  },
  {
   "cell_type": "code",
   "execution_count": 91,
   "metadata": {},
   "outputs": [],
   "source": [
    "from collections import Counter\n",
    "import emoji\n",
    "import seaborn as sns\n",
    "import pandas as pd\n",
    "import resource\n",
    "from tqdm import tqdm\n",
    "from IPython.core.debugger import set_trace\n",
    "from tqdm import tqdm\n",
    "import matplotlib.pyplot as plt\n",
    "from pathlib import Path\n",
    "import numpy as np\n",
    "import bz2\n",
    "import json\n",
    "from IPython.core.debugger import set_trace\n",
    "sns.set()"
   ]
  },
  {
   "cell_type": "code",
   "execution_count": 2,
   "metadata": {},
   "outputs": [],
   "source": [
    "def limit_memory(maxsize): \n",
    "    \"\"\" Prevent computer from crashing\"\"\"\n",
    "    soft, hard = resource.getrlimit(resource.RLIMIT_AS) \n",
    "    resource.setrlimit(resource.RLIMIT_AS, (maxsize, maxsize)) \n",
    "#limit_memory(10000)"
   ]
  },
  {
   "cell_type": "code",
   "execution_count": 260,
   "metadata": {},
   "outputs": [],
   "source": [
    "def read_twitter_data(N_LIM=10):\n",
    "    tweet_df = []\n",
    "    main_path = Path(\"/dlabdata1/gligoric/spritzer/tweets_pritzer_sample/\")\n",
    "    np.random.seed(13)\n",
    "    subpaths = np.random.permutation(list(main_path.iterdir()))\n",
    "    # we only take the twitter_stream\n",
    "    subpaths = [path for path in subpaths if path.stem.startswith(\"twitter_stream\")]\n",
    "    tweet_paths = [tweet_path for subpath in subpaths for tweet_path in np.random.permutation(list(subpath.rglob(\"*.json.bz2\")))[:N_LIM]]\n",
    "    print(f\"Analyzing {len(tweet_paths)} files\")\n",
    "    for tweet_path in tqdm(tweet_paths):\n",
    "        new_tweets = []\n",
    "        with bz2.open(tweet_path, \"rt\") as bzinput:\n",
    "            for line in bzinput: \n",
    "                try:\n",
    "                    tweet = json.loads(line)\n",
    "                except json.JSONDecodeError:\n",
    "                    continue\n",
    "                if len(tweet.keys()) < 5 :\n",
    "                    continue\n",
    "                tweet = {key:tweet[key] for key in ['id','lang','text']}\n",
    "                new_tweets.append(tweet)\n",
    "        tweet_df += new_tweets\n",
    "    return pd.DataFrame(tweet_df)"
   ]
  },
  {
   "cell_type": "code",
   "execution_count": 3,
   "metadata": {},
   "outputs": [
    {
     "data": {
      "text/plain": [
       "'😚👻💆🏿🚯🇸🇷'"
      ]
     },
     "execution_count": 3,
     "metadata": {},
     "output_type": "execute_result"
    }
   ],
   "source": [
    "def extract_emojis(s):\n",
    "    return ''.join(c for c in s if c in emoji.UNICODE_EMOJI)\n",
    "\n",
    "extract_emojis(\"😚;👻💆🏿🚯🇸🇷\")"
   ]
  },
  {
   "cell_type": "code",
   "execution_count": 209,
   "metadata": {},
   "outputs": [],
   "source": [
    "def update_emoji_count(dic,text):\n",
    "    \"\"\"\n",
    "    Update the counts of each emoji wrt to text\n",
    "    \n",
    "    Args:\n",
    "        dic(dict): mapping emojis--> count\n",
    "        text (str): text to use to update dic\n",
    "    \"\"\"\n",
    "    for char in text:\n",
    "        if char in emoji.UNICODE_EMOJI:\n",
    "            dic[char] = dic.get(char,0) + 1"
   ]
  },
  {
   "cell_type": "code",
   "execution_count": null,
   "metadata": {},
   "outputs": [],
   "source": [
    "def print_mem_usage(df):\n",
    "    mb_usage = df.memory_usage(deep=True).sum() / 1e6\n",
    "    print(f\"Memory usage:{mb_usage:.2f} MB\")"
   ]
  },
  {
   "cell_type": "code",
   "execution_count": 24,
   "metadata": {},
   "outputs": [],
   "source": [
    "tweet_path = Path(\"../data/raw/tweets/example-tweets.txt\")\n",
    "\n",
    "# 8Mo tweet dataset\n",
    "if tweet_path.exists():\n",
    "    tweet_df = pd.read_csv(tweet_path,sep=\"\\t\",header=None,parse_dates=True)\n",
    "# 111 machine bigger twitter dataset\n",
    "else:\n",
    "    tweet_df = read_twitter_data(1)"
   ]
  },
  {
   "cell_type": "code",
   "execution_count": 262,
   "metadata": {},
   "outputs": [
    {
     "name": "stderr",
     "output_type": "stream",
     "text": [
      "  0%|          | 0/2750 [00:00<?, ?it/s]"
     ]
    },
    {
     "name": "stdout",
     "output_type": "stream",
     "text": [
      "Analyzing 2750 files\n"
     ]
    },
    {
     "name": "stderr",
     "output_type": "stream",
     "text": [
      "100%|██████████| 2750/2750 [40:49<00:00,  1.12it/s]\n"
     ]
    }
   ],
   "source": [
    "tweet_df = read_twitter_data(10)"
   ]
  },
  {
   "cell_type": "code",
   "execution_count": 264,
   "metadata": {},
   "outputs": [],
   "source": [
    "tweet_df.to_csv(\"/home/ymentha/tweet.csv\")"
   ]
  },
  {
   "cell_type": "code",
   "execution_count": 265,
   "metadata": {},
   "outputs": [
    {
     "name": "stdout",
     "output_type": "stream",
     "text": [
      "Memory usage:2140.01 MB\n"
     ]
    }
   ],
   "source": [
    "print_mem_usage(tweet_df)"
   ]
  },
  {
   "cell_type": "code",
   "execution_count": 266,
   "metadata": {},
   "outputs": [
    {
     "name": "stderr",
     "output_type": "stream",
     "text": [
      "100%|██████████| 6706514/6706514 [01:13<00:00, 91477.24it/s] \n"
     ]
    }
   ],
   "source": [
    "emojis_count = {}\n",
    "for text in tqdm(tweet_df['text']):\n",
    "    update_emoji_count(emojis_count,text)\n",
    "\n",
    "em_df = pd.Series(emojis_count).sort_values(ascending=False)"
   ]
  },
  {
   "cell_type": "code",
   "execution_count": 267,
   "metadata": {
    "collapsed": true,
    "jupyter": {
     "outputs_hidden": true
    }
   },
   "outputs": [
    {
     "name": "stdout",
     "output_type": "stream",
     "text": [
      "Grasped 32.31% of the total emojis\n",
      "Missing emojis\n",
      "👨🏽‍🔧🏌🏼‍♂️👩🏼‍🚀🤸🏽‍♀️*️⃣🤷🏾👉🏽🙋🏼‍♂👨🏻‍🎓🧑🏽‍🤝‍🧑🏻🙆🏿‍♂️👃🏼🙆🏿‍♀👨‍🦲🤦‍♀️🧕🏾👴🏿👩🏽‍🏫🇩🇰🙎🏿‍♀🇩🇿🏃🏾‍♂🧜🏽‍♀️🖖🏻👷‍♀️🦸🏿🙎🏿🧞‍♂✉️👆🏾👨🏾‍🌾🙎🏻‍♂️🙇🏿🏊‍♂💂🏿👩🏿‍🎨👨‍👨‍👦‍👦💂🏼🧑🏼‍🤝‍🧑🏻👨🏽‍🦯🤾🏿🇽🇰💂🏽🪑🧚🏾‍♀💇🏼🧔🏾👮🏼‍♂🚣🏿‍♀️🧘🏿‍♂✊🏼🙍🏽‍♂️🧙🏻‍♂️🏊🏼🧖🏿‍♂️👳🏿🇲🇾🧚🏽‍♀👶🏽🧏🏼💁🏼‍♂️🚣🏾‍♂🚵‍♀️🇺🇦⏏️👩🏽‍🤝‍👨🏻🖲️✖️🧕🏿🧝🏻‍♂🙌🏾👼🏿🏟️🇹🇳👨🏿‍🦰👨‍🏭🕵🏻‍♀️🙅🏾‍♀️👩🏼‍🌾🙍🏽‍♂👵🏽👨‍👦‍👦👨🏽‍🦲👨🏼‍⚖️🤍🦹🏾‍♂️💂🏻‍♂👩‍🌾🤦🏻‍♂️👩‍✈🏃🏿‍♂️🧗🏿‍♂️🧚🏼‍♂🤳🏽♠️👋🏾🧍🏾🚶🏻‍♀🏃🏾‍♀️👸🏽⛹🏿‍♀💁🏻🏄🏿‍♀️🧛🏽‍♂👩🏻‍🦰⛹🏼‍♂️🏋🏼‍♂👵🏿👩🏾👩🏿‍🤝‍👩🏽🧓🏻👨🏽‍🎤🧚🏻👨🏿‍🤝‍👨🏾🚶🏿‍♂⛹🏿‍♀️👮🏻‍♀🧘🏻‍♂️🇫🇷🙇🏼‍♂✈️🧙🏼‍♂👩🏻‍🔬👭🏻🧙🏽‍♀👷‍♂🚣🏿‍♀🦿🇻🇺🗄️🧑🏽‍🤝‍🧑🏽💁🏻‍♂💆🏿‍♂️🧛🏼‍♂🧝🏾‍♀️🧓🏿💇🏿‍♀🤽🏾‍♀️🧝‍♀🧑🏿‍🤝‍🧑🏼🙋🏼‍♀️👩🏼‍🎓🇬🇦🧏🏽‍♀️🏇🏿🚵🏽🙆🏼🇮🇶🧚🏾👫🏾🧛🏿‍♂️🙌🏿🤘🏿👩🏼‍⚖️💂🏾‍♀️👮🏼‍♀🇮🇷🇲🇴💆‍♂🤞🏽👨🏼‍🔧🏊‍♀👨🏽‍🍳👧🏻👮🏽‍♀️⛹🏾‍♂🏋‍♂️🇸🇰🧎🏽‍♀🕰️🇳🇪👲🏾🇻🇪🤸🏿‍♀🤽🏼‍♀️🕵🏼‍♂👩‍❤‍👨❄️🇨🇱🌬️🏊🏿‍♀🧜‍♂👩🏻‍⚕👮🏾‍♀️👷🏽‍♂️👩🏽‍🚒🚴🏾‍♀👲🏿👩🏿‍✈🇲🇺2⃣🇲🇭🙋‍♂️🙇‍♀️🧛🏼‍♀🤼‍♀🤽‍♂️🇦🇽🚶🏽🤟🏾👌🏻✒️🏄‍♀️👉🏼🧎🏽‍♂🧗🏿‍♀👨‍👩‍👧🏊🏻‍♂️🚣🏾‍♀🏊🏽👳🏿‍♀️🇦🇼🤏🏾👨🏿‍🦼🧓🏾🏌🏿‍♂🇨🇵🟥🇿🇼🇲🇻👷🏻‍♀🤛🏿⛑️🧗🏾‍♀️👨🏿‍🔧🏊🏻‍♂🏋🏼👲🏻🏃‍♂🕵🏾🚶🏻‍♂️🧝‍♂🧎🏿‍♂️👧🏽🇸🇾🏌🏻👷‍♀🚴‍♂️👨🏾‍🦰👩🏻🇵🇦🧙🏾‍♀️🤷🏻‍♀💇‍♀️🤹‍♂️👱🏾‍♂️🙎‍♀️🤹🏼‍♂️🧝🏿‍♂️🧛🏻‍♂️🏋️‍♀🧜‍♀️🚴🏾‍♂🙋🏽‍♀️👮🏿‍♂🚴🏽‍♀️👨🏼‍✈️🚴🏻‍♀🤹🏻‍♂️👵🏼🙇🏿‍♂🤷🏽‍♀👨🏾‍🎨⛹🏾‍♂️🇩🇯🖖🏽👩‍🎓🇿🇲🙎🏻‍♀⛹🏾‍♀️🤶🏻🪕🧗🏼‍♀👮🏼‍♂️🤷🏽‍♀️💇🏾‍♂️🤴🏾🏃🏾🇲🇦💇‍♀👸🏼👨🏻‍⚕☝🏻🦹🏻‍♀☃️🕶️🤷‍♂🛌🏿☠️♣️🧜🏽‍♀👨🏾‍🎓🧍‍♂️🙆🏽‍♀️🏃🏼‍♂️🧑🏿🈂️🦹‍♀🧓🏼💂‍♂️🧏🧙🏼‍♀️🕺🏼👳🏻‍♂👳🏿‍♂️🧏‍♂💂🏽‍♂️👩‍👧👂🏿👩🏾‍🤝‍👨🏼1⃣🧎🏽🧏🏼‍♂💅🏻🤹🏻‍♂〰️🙋🏼🤦🏿‍♂️🦻🏼👩🏽‍🌾🏕️🚵🏿🧗🏾‍♂👬🏻🤽🏾‍♂🧝🏾🏌🏽‍♂️👨‍🎨🧎🏽‍♀️🇲🇩🧛🏿‍♀🙅🏼‍♀️🖥️🏄🏾‍♂🇧🇧👨🏾‍💼🙋‍♂🧛‍♂🏃‍♀️🇻🇨🧏🏿🏋️‍♂🤽🏻‍♂️👩🏼‍🚒👱🏽‍♂✍🏼🏄🏿‍♂️👮🏽‍♂🤷🏼‍♂🇸🇴✌️👩🏻‍🦯🤸🏼‍♂👨🏿‍💼🧒🏼🙍🏾🏌️👨🏾‍🦼👩🏾‍🏭🙍🏼🏃🏾‍♀🚶🏼‍♀🧝🏼👨🏾‍⚖🇴🇲🇷🇸🙋🏿‍♀️🤷🏿‍♀💁‍♀️💂🏽‍♀💪🏿👷🏾‍♂️👨🏿‍🎤☪️💇‍♂️🤾🏾💇🏻‍♂👱🏻‍♂️🤷🏿⏺️🚣‍♀️🧏‍♀🏄🏼‍♂️🦨🧏🏾🚣🏻‍♂️🇦🇫🧝🏻‍♂️🖐🏿🧝🏿‍♂🤷🏾‍♂️🙆🏽‍♂👷‍♂️🏃🏿👩‍❤️‍💋‍👩🧝🏾‍♂🇲🇨㊙️✳️◼️✏️🙇🏽💆🏿‍♀🤾🏼🏴󠁧󠁢󠁥󠁮󠁧󠁿🇸🇻👶🏾🧝🏾‍♂️👮🏿‍♀🙍🏿🎟️🤜🏿🇸🇮🤟🏽🚣🏿🧍🏽👩🏽‍⚕🙅🏻‍♂👆🏼🧜🏻🇬🇼👨🏿‍🦱🕵️💆🏼‍♂🤶🏿🙋🏿‍♂️🌫️🧚🏿‍♀👳🏾‍♀🇸🇳🧎🧖🏻👮🏻‍♂️💆🏾‍♂️👨🏻‍🔧🧜🏿‍♂🩺⏯️🧘🏽‍♂🙅🏿🧏🏽💁‍♀🧟‍♀👨🏽‍🤝‍👨🏼👨🏿‍🎨👨‍🎤🙆🏼‍♂️🇵🇬🦹🏽‍♂🦹‍♂️👦🏽👨🏼‍🎤🧘🏼‍♂🧖🏼‍♂🦸‍♂🏄🏾🚶🏼🤜🏾🤸🏾‍♀🙋🏾‍♀👼🏼🏝️👏🏾🧘🏽‍♀🧑🏼🧘🏿‍♀👩🏾‍✈🧏🏿‍♂️🧙🏾‍♂🕵🏿‍♂️🤙🏽👨‍🦽⏲️💁🏽‍♀️🤽🏼‍♂️💆🏿‍♂🇲🇳⛹️‍♀👩🏻‍🤝‍👨🏽🚵‍♀🅰️🙎🏾‍♂️⚛️💆🏽‍♀🇦🇲🧚🏾‍♀️🤲🏻2️⃣🧏🏾‍♂👨🏾‍🦳⛹🏻‍♂🙍🏼‍♂️⛹🏽‍♀💆🏼‍♀️🤾🏼‍♀🙋🏻‍♀️🧎🏿👨🏻‍✈️🚴🏽‍♂️🧍🏻‍♀️🦶🏿🙋🏻💁🏿‍♂️🧙🏼🙅🏾‍♂🏌🏼👨🏽‍✈🦸🏾‍♂🟣🇫🇯🅱️🤾🏼‍♀️🏌🏽👩🏻‍🌾👩🏻‍🦱💇🏿🦹🏽‍♀️🧝‍♂️💆🏾‍♂🚴‍♀🙆🏾‍♀️👩🏻‍✈️👩‍🍳⚒️🕵‍♂🏊🏻‍♀️🦻🏽🧖‍♀️👳🏼‍♀🚴🏼‍♂️🖨️🤦‍♂️🦸🏽👩‍⚕️🧏🏼‍♂️🇦🇱💁🏼🇦🇺☝🏽🧑🏽‍🤝‍🧑🏼👳🏼‍♂️🧖🏻‍♀️🙇🏻‍♂👵🏻🎙️🇱🇻🗣️🙍🏼‍♀📽️9⃣🧘🏼‍♀🤸🏼‍♀️👩🏽‍🎤🙌🏼💁‍♂🇲🇼🚵🏻‍♀🏃🏻‍♀️🏋🏿💇🏿‍♀️🙇🏾‍♀🇺🇳🏌🏿‍♀👩🏻‍🍳🕵🏾‍♀👩‍❤️‍👩🧖🏾‍♂️👋🏻👮🏾🇱🇧⛹🏿‍♂🧚🏽‍♂👩🏼‍🏫6⃣👨🏼‍🎨🇨🇼🛤️💁🏾‍♂️🎅🏿🏊🏽‍♂️👨‍🚀🙆🏿‍♂🧘‍♂#⃣🙍🏼‍♀️☝🏿👨🏽‍⚕️🤾🏼‍♂🏋🏾‍♀️⛹🏾👨🏻‍✈🤱🏿⛹‍♀️🧍🏾‍♀🤘🏽🙆🏽‍♂️🏊‍♀️🧎🏼‍♂⛩️👊🏽🧝🏻‍♀️🚣‍♂👨🏽‍⚕👨‍🦯🧖🏾‍♀👩🏿‍🏫🧕🏻🧜‍♂️🧍🏻‍♂🧍🏻‍♂️💁🏽‍♂️🧍🏽‍♀🚴🏽‍♂🏋🏻‍♀👸🏻🏎️🧘🏿‍♀️🤷🏻🧙🏿‍♀👦🏼👩🏾‍🤝‍👨🏻🦹🏻🤷🏼‍♀✂️🧔🏽⚜️🏌🏽‍♂🤞🏿🧒🏿🙇🏻‍♀️🧍‍♀💃🏼👩🏻‍⚕️🖖🏼🤷‍♂️👩🏼‍⚕🇳🇨🚵🏻‍♂️👩🏽‍💻🧗🏾‍♀🟩🤸🏾🟦🧎🏻👩🏼‍💻👷🏿‍♀️🌶️🤾🏿‍♀️🏌‍♂️🟡👨‍👨‍👧‍👦🧍🏼‍♂️🇱🇰♟️🤾🏿‍♂️🇱🇷👷🏻‍♂️🖕🏾👩🏻‍🤝‍👨🏾🤹🏾‍♀🙆‍♀👨🏾‍🏭🧏🏾‍♀🧛🏼‍♀️🇬🇩⌨️🙆‍♂🦸🏿‍♂⤵️🦼4️⃣🧖🏿‍♀️🏌🏾‍♀️🇫🇲🚵🏼‍♂👂🏻🤙🏿🕵🏽5️⃣🦵🏿👨🏽‍⚖️🤹🏾‍♂🌪️🏄🏻‍♀️🦩👨🏾‍🎤🙎🏼‍♀️⛏️🙌🏽🏂🏻🇵🇭💇🏻‍♂️🚶🏽‍♀️👩🏼‍⚖👮‍♀️👨🏽‍✈️🤸🏻🧘🏾‍♂🧜🏽‍♂️💇🏼‍♀️🤦🏿👩🏽‍🤝‍👨🏾🚶🏻‍♂🌨️🤦🏼‍♀️👩🏽‍🦯🤸🏽‍♂👩🏿‍🤝‍👨🏻🐿️👳🏻🏃🏽‍♂️⏸️👩🏾‍🔬👱🏿‍♂🏴‍☠👩🏿‍🔬🖇️🏊🏽‍♀️👱🏽‍♀🧍🏽‍♂🖐🏾🧙🏽‍♀️🚵🏼‍♂️🧛🏻🧝🏽‍♀️⛹🏻‍♀🇬🇶🏍️💁🏿‍♂🏊🏼‍♂👏🏼🖕🏼💁🏾‍♀️👨🏾👮🏻‍♀️🏃🏿‍♂🚴🏼‍♂🇳🇿👳‍♀🦸🏻‍♀👶🏼👵🏾👩‍🦳🤦🏻‍♂👩‍🦲🛥️🧝🏿‍♀👨🏾‍⚕🧎🏻‍♀👱🏼‍♂️🏃‍♀🍽️🧏🏿‍♂👨🏻‍🦳🛰️🤽🏽‍♀️👈🏽👃🏽🏊🏿‍♂️🙎‍♂️🤷🏻‍♀️👨‍👦⏹️🚶🏼‍♀️🧛🏾‍♀🧝🏿‍♀️🤦🏼‍♀⛹🏽🙅🏿‍♀3️⃣🧏‍♀️👨‍⚖️🧚‍♀👩🏿‍🤝‍👨🏽🧚🏻‍♂️🕷️💁🏼‍♀🗝️👨‍⚕️🧎🏽‍♂️👉🏻🤽🏼‍♀👯‍♀️🤱🏻🧙🏽🧑🏻‍🤝‍🧑🏻🧘🏼‍♂️🎗️👨🏻🩱✊🏿👩🏼‍🤝‍👨🏾🇵🇹🙋🏼‍♀🧙🏿‍♀️🇷🇪🧎🏼‍♂️🇦🇮👩🏿‍✈️🇨🇽👂🏽🚴🏽🩲🧛🏽‍♀️💇🏽‍♀️🙋🏻‍♀🟨💆🏽‍♂️🙎🏻🇱🇺🏃‍♂️🤸🏿‍♂👩🏾‍💼👩🏿‍🏭🤦🏿‍♂👩‍❤‍💋‍👩🦸🏼‍♂️💆🏻‍♀️🏌🏽‍♀👰🏾👮🏻🧏🏻🏌‍♂👩🏾‍⚕️🕵🏻‍♀💂🏼‍♀🏖️🇮🇩🧜🏾‍♀️🙏🏾🇹🇫🧘🏼‍♀️💆🏽‍♀️🕵🏼‍♀👧🏾🧍🏾‍♂👱🏻👷🏼‍♀️🇰🇬🏋🏻‍♂👩‍👩‍👦⛹‍♀🙍🏻🦹🏾🙌🏻💆🏻‍♂🚴🏻‍♂🇼🇫🕉️👨‍🔬💆🏾💇🏾‍♀🕵🏿‍♂⛹🏼‍♂👩🏾‍🦽🇲🇶👯‍♀👌🏽🏃🏻‍♂🙅🏾‍♂️✋🏻🙇🏽‍♀🚣🏽‍♂️💂🏼‍♀️👨‍🚒🏋🏻‍♂️🚶🏿‍♂️🤘🏻🧍🏿‍♂🏴‍☠️💆‍♂️💆🏿💁🏾🏋🏼‍♀️🧍🏻‍♀🤦🏾‍♂🏵️🚶🏿‍♀🙇🏾‍♀️👩🏼‍✈️🇹🇬🏃🏽‍♀⚙️👩🏿‍🚒🇩🇪👨🏽‍🦰👩🏾‍🚒🇧🇿🧝‍♀️◀️🇹🇻🟫🤼‍♂👷🏽🇳🇮👨🏻‍🎤🧖‍♂🤽🏽🇱🇾🏄🏿‍♂🧟‍♀️🇱🇨👩🏽‍🦼👨🏾‍🦽🏌‍♀🚴🏻‍♂️👨‍❤️‍💋‍👨🤾🏽‍♀☄️🚶🏿🟪🇮🇴🗺️👨🏿‍🍳🦹🏻‍♀️🦹🏼‍♀🙍🏻‍♂☁️💂🏿‍♀️🚶🏽‍♂️🧚🏻‍♀🦹🏿‍♀️🦹🏼‍♀️↙️💂‍♀️🇾🇪🧏🏼‍♀️🛌🏻🧘🏾‍♀🇸🇯💃🏿🇲🇲🤵🏼👸🏾🤼‍♀️🇧🇴🕵️‍♀🗒️🤦🏽👨‍✈🕵🏻‍♂️✌🏿🛣️💇🏻‍♀️🤽🏿‍♂️🤦🏼‍♂️🏇🏼🏄🏻‍♂🕵🏼‍♂️⛹‍♂👨‍👩‍👦‍👦🏊🏻💆🏼🗯️🧏‍♂️🚣🏻🏳️💃🏾🙇🏼‍♀🇧🇻🚶🏾‍♂️🇯🇴👩🏻‍🎤🤸🏼‍♂️👨🏻‍🦼🤸🏿‍♀️🇲🇽🏛️🧙‍♀️🇪🇹🖕🏿〽️🧚🏻‍♂🇫🇴🤷🏽🟤🧎🏻‍♀️🏌🏻‍♂🧍🏼🎖️🇨🇿🇸🇷👦🏿🧜🏿‍♀🤦🏾‍♀🤹‍♀🏋🏻‍♀️🇰🇼🇳🇵🚣🏿‍♂🏄🏿💁🏻‍♀🤾🏿‍♂🧑🏾‍🤝‍🧑🏼👍🏼👩🏾‍🎓👏🏽👐🏻🤦🏻‍♀️👇🏻🙎🏾‍♀🧙🏿‍♂🙏🏽🖐🏽🚵🏻‍♂🇮🇸🤽🏼‍♂🇭🇳🧏🏽‍♂🙋🏽🕵🏿👯‍♂👨🏻‍🌾🧖🏽‍♂️🤰🏼👨🏼‍🔬🚣🏿‍♂️🇪🇷💃🏽🧛🏻‍♀️🧓🏽👋🏼🚵🏼‍♀▶️💆🏼‍♀🚵🏻‍♀️🇬🇱🇮🇲👨🏻‍⚕️👩🏿‍🦯👮🏼🤹🏾‍♀️🙎🏽‍♂💇🏻‍♀👱🏼👋🏿🧏🏻‍♀🙅🏻‍♀️🗓️👳🏻‍♀️👩🏼‍🔬🙅🏽‍♂️💇🏾‍♂⏱️🏃🏽🙎🏽‍♀🇧🇳🦸🏾‍♀👩🏻‍🎨💇🏼‍♀🇨🇫💆🏾‍♀🇸🇩🧍‍♀️🙆🏻👩🏾‍🦰🖕🏽🧘‍♀️✌🏽🧛🏻‍♀✊🏽🇱🇮🦾👩‍👧‍👧🙅‍♂️👬🏾🇲🇷🏄🏼👨🏿‍⚕️🏊🏾‍♂🚵🏾‍♀🙋🏾‍♂🧏🏼‍♀🏂🏿👨🏿‍🚒🏌🏾‍♀🤹🏻‍♀️🙅🏿‍♀️🙆🏽👨🏻‍🚀🧖🏿‍♂👆🏽⚰️🚣🏼‍♂⛱️🏃🏾‍♂️🧒🏾🇭🇲🏙️🧑🏾‍🤝‍🧑🏻0️⃣©️👊🏿☝🏼🤏🏻🇷🇺🏌️‍♀️🦻🏾👱🏼‍♀️🏊🏽‍♂🧖🏿💇🏿‍♂️🏋️‍♂️🇳🇫🦸🏼‍♀️👨🏿‍🏫🇭🇰🧙🏻‍♀🇵🇫🕵🏽‍♂️🦹🏻‍♂🙋🏻‍♂🇧🇼🧎🏿‍♀️🧔🏻🕺🏽🇦🇷🇦🇨🤲🏿🤸‍♀👩🏼🧍🏾‍♂️🇧🇬🇹🇲🦻🏿💇🏽👨🏽🏋🏿‍♀️👨🏼‍🌾🏃🏼‍♀🇸🇹🇹🇹👨🏽‍🎨💇‍♂⬆️🏌🏾‍♂🤰🏽🧖🏽🙍🏿‍♀️🤽🏽‍♂️👳🏽‍♂🏃🏿‍♀🧖🏾‍♀️🤸🏻‍♂️🤽🏻🇾🇹🏊🏾‍♂️👩🏽‍⚕️🏊🏿‍♂👨‍💼🤾🏾‍♀️🧚‍♀️🤷🏼‍♀️👳🏽‍♀️🙇🏾‍♂🪓🙆‍♀️👆🏿👈🏿🏌🏻‍♀💇🏾‍♀️👩‍💻🇧🇪👁‍🗨️💅🏼👃🏾👨🏼‍🎓🇧🇷🙎🏻‍♀️🎅🏻🏊🏿🏌🏿‍♀️💇🏽‍♂🖕🏻🏂🏾1️⃣👩🏾‍⚖🌩️🗡️👨🏽‍🤝‍👨🏻👬🏽👨🏻‍🏫🤦🏽‍♂️☹️👐🏿🕹️✌🏼👩🏼‍🤝‍👨🏽🇪🇦⚖️🕵🏿‍♀🧘🏻🚵🏿‍♂️🇯🇵👨🏿‍🎓⬅️🛀🏽🦹🏽‍♀🏃🏼‍♀️🈷️💁‍♂️🏌🏼‍♂👨🏽‍💻🇻🇳🛌🏼🤹🏽👩🏿‍🦰🧗🏽‍♂🦸🏽‍♀️♻️👩🏿🇫🇮🙋‍♀👩🏿‍🤝‍👩🏻🤸🏽‍♂️🇸🇭🤸🏽🇰🇭🧗🏼💂🏽‍♂👩🏽‍⚖️🧏🏾‍♂️👨‍🦰👏🏻🇺🇿🇬🇺🇧🇶💂🏻‍♀🧕🏼👩🏼‍🦯🛠️🙎🏼‍♂️👉🏾🏜️🤚🏼🦹🏽‍♂️🕺🏻🇰🇿🏚️👨🏾‍🍳🤽🏿👨🏾‍🤝‍👨🏼👨🏻‍🚒🚶🏾‍♀️🕺🏿👩🏾‍🤝‍👩🏼5⃣🙎🏿‍♂🏊‍♂️🚣🏼‍♀👳‍♀️🤞🏼🇨🇨👩‍🏭🚣‍♂️🚶🏾‍♂🤏🏼☢️🇨🇮ℹ️🤷‍♀✊🏻🙆🏾‍♂️🤾🏻‍♀️👨🏾‍🚒👴🏼🇵🇳🦽🛡️🇵🇷👨🏿‍🦽🧜🏾‍♂🧚🏿‍♂️🙍🏻‍♂️👈🏼👌🏿🤸🏾‍♂️🤦🏿‍♀👆🏻🧚‍♂🩰👨‍🌾🏄🏼‍♀🚴🏿‍♂️🦶🏼🚵‍♂️👱🏻‍♀️🧍🏼‍♀🏔️🙍🏼‍♂👨🏼‍⚕🇦🇩🙇🏾‍♂️🧗🏽🛌🏽👩🏿‍🚀🚴🏾‍♀️👩🏻‍⚖️🦺👩🏽‍🔬👷🏾🙏🏻🇬🇪👳🏽👷🏾‍♂🤾🏻🪐👨🏻‍💻🙆🏾‍♀🧄👨🏽‍🦱✋🏽👨🏾‍💻🕴🏽👰🏽👩‍⚖🚶🏼‍♂⛹🏼👩‍🎨👨‍🔧🧙🏻‍♂🕵🏽‍♂🛀🏼🧞‍♀️🇱🇹🛍️👩🏻‍🚒👩🏻‍💼🏄🏼‍♀️🧙🏿‍♂️🚶‍♀🧛🏿🙆🏻‍♂️⚗️🧚🏽‍♂️👨🏼‍🤝‍👨🏻🤽🏻‍♀️🏄‍♀🦻🏻🎅🏽👨🏾‍🚀👱‍♀🙅🏻‍♂️🏊🏾👩🏿‍🎓🤦🏽‍♀🗳️🤹🏽‍♂️👨🏿‍🤝‍👨🏽🤾🏾‍♂🧖🏾‍♂🏋‍♂👩🏽‍🦽🧑🏿‍🤝‍🧑🏻🧚‍♂️🇨🇰🙋🏿‍♀👰🏻👩🏾‍🤝‍👨🏽🦹‍♀️🤾🏾‍♀👨🏿‍🏭🇸🇿💪🏻🙆🏼‍♂🤼‍♂️👫🏼👷🏼‍♀🧚🏼‍♀️👎🏾☑️👩🏽‍🤝‍👨🏿👨🏿‍🌾👩🏿‍⚖️🧚🏾‍♂🧍🏼‍♂🙆‍♂️🧗‍♀️🎅🏾👨🏻‍⚖️👨‍❤️‍👨👩🏿‍⚖🇱🇦🧝🏼‍♂👨🏾‍🦯🕴🏻🕴🏾👩🏿‍🦲🤽🏿‍♂🧗🏽‍♀👩‍🎤👩🏼‍🦰🏋🏼‍♀🗨️🏄🏽‍♂️☦️🇬🇬👨‍👨‍👦🧘🏿‍♂️🧟‍♂👨🏿‍✈👩🏽‍⚖🇳🇦🧛🏽🇪🇭🩳🧗🏼‍♀️🧑‍🤝‍🧑🙇‍♀🤹🏽‍♂🚶‍♀️🪁⛹🏻‍♂️🧝🏽‍♂️👩🏿‍💻🧖🏼‍♀️👨‍🦱🙍🏾‍♀💃🏻🧛🏽‍♂️🤏🏿👨‍👧‍👦🤚🏿🙎🏽👩‍🚀🇳🇺🤹‍♂🖐🏻👩🏾‍🦱🧏🏽‍♀✊🏾👩🏾‍🦳💂🏻👱🏻‍♂🇪🇨👨🏾‍🦱🤲🏽⛹🏻👩🏽‍✈↘️👧🏼🤹🏿‍♀️🇳🇴🇳🇱👱‍♂️👨🏼‍🦳🖋️🧛🏼👼🏻🙋🏾‍♂️🚣🏾👷🏽‍♀🤶🏼👨🏻‍🎨👶🏿▪️🤸‍♀️🤳🏼💆‍♀🚶‍♂🙇🏿‍♀️🏋️🧎🏻‍♂🧖‍♀👰🏼🇭🇷🇿🇦👩🏿‍🤝‍👩🏼🖼️🧜🏿‍♀️🇫🇰👨🏽‍🚀🧖🏼‍♀💁🏽‍♀🙍🏾‍♂💇🏿‍♂👮🏽‍♂️🤹🏾‍♂️👩🏻‍🏭👨🏿‍⚖️🗂️🌥️✌🏾🤸🏻‍♂👈🏻👩‍🦽👲🏼🧝🏻‍♀💆🏻‍♀👨🏼‍🏭🧞‍♂️🧚🏼‍♂️🤳🏾🚣🏻‍♂🇹🇿🇪🇪🧛🏽‍♀👨‍❤‍👨🏌🏿‍♂️🇬🇸✴️👨🏿‍🚀👨🏿‍⚖🎛️🦯🇭🇺🖊️🧙🏾‍♂️🙇🏼👨🏻‍🦯🛢️👩🏾‍🤝‍👩🏻🧜🏼‍♀👨🏿👨🏻‍🦱🤽‍♀️🚶‍♂️👩🏿‍🍳👩🏿‍🦽🤦🏼🇧🇲🇵🇰🤷🏿‍♂️🚶🏾‍♀🗜️🇨🇳🧝🏼‍♂️👩‍🦰🦸🏼♀️🧎🏾🧙🏿🧙‍♂️👎🏿👩🏾‍🎨🦸🏼‍♀👩🏻‍🤝‍👨🏿🙎‍♀🙆🏻‍♀👱🏾🤷🏽‍♂️👱🏿‍♀🚴🏽‍♀🇰🇲🛎️🏋🏿‍♂️✋🏿🇻🇮🤚🏾🤸🏻‍♀🕵🏾‍♂️👨‍✈️🤷🏾‍♀️🇰🇷👷🏿‍♂️👇🏾👋🏽🦸🏻‍♂️🦹🏿🙆🏼‍♀️👌🏾🤸🏻‍♀️🧜🏼‍♂☘️💁🏿👨🏽‍🎓👨🏾‍🔬👨‍⚖💂🏾‍♂️🧒🏻🧚🏾‍♂️🧞‍♀🏊🏻‍♀🇬🇳🅿️🧝🏼‍♀🧛‍♀👩🏽‍🦲🩹🤸🏿🏋🏾‍♂🤷🏼👷🏽‍♀️🤷🏿‍♀️👩🏾‍🦯🚵🏼🙎🏿‍♀️🧑🏿‍🤝‍🧑🏽🧛🏼‍♂️🤱🏾💂‍♂🦸‍♀🙅🏻🏌🏾☝🏾🤛🏾💇🏾🤙🏾👨🏽‍🔬🏄🏾‍♀🇧🇮👨🏻‍🍳👨🏼🤸🏽‍♀↩️💁🏿‍♀️👮‍♀🚵🏾⛷️👨🏿‍🦲🦸‍♂️🤵🏻🧗🏽‍♀️👨‍👨‍👧🙍🏿‍♂🏌🏻‍♂️⛹🏿‍♂️🧝🏽‍♂👱‍♂⬇️👩🏿‍⚕🏃🏻‍♀🤷🏽‍♂🙎🏽‍♀️🇧🇹🤰🏾🕴🏿🦹🏻‍♂️🦸🏾‍♂️🧗🏻‍♀️👼🏽🤾‍♂✍🏾👨🏾‍🤝‍👨🏽👨🏼‍💻8⃣🕵️‍♂🧘‍♀🏋️‍♀️🧚🏿‍♂🚶🏻🇻🇦👨🏻‍💼👩🏽‍🦰🙍🏻‍♀🙆🏼‍♀👨‍👧‍👧🏋🏾‍♂️👨🏿‍🦳✝️🏃🏻‍♂️🙇🏼‍♀️🔣👲🏽👏🏿🚴🏼‍♀️🙋🏻‍♂️🇨🇲👨‍👩‍👦🤽🏿‍♀️🧗🏾‍♂️🦹🏾‍♂🤾🏻‍♂️🇷🇴⤴️🤞🏻👩🏽‍🦱👩🏼‍🦼👨🏾‍⚖️👩🏾‍🎤💆🏽‍♂🏌️‍♂️💂🏾‍♂👩🏻‍🎓👱🏿🤛🏽👴🏻🙇🏿‍♀🏌🏼‍♀️💁🏻‍♀️🧘🏾🪒🤜🏼♨️🇬🇵🤵🏾🙋🏾‍♀️🧍🏿‍♀️👩🏼‍🎤👱🏾‍♂💪🏽🙋‍♀️👳🏼‍♂👨🏿‍🤝‍👨🏼🅾️🏳‍🌈👨‍👩‍👧‍👦💇🏼‍♂️👩🏼‍💼👨🏻‍⚖🖖🏿👩🏽‍🤝‍👩🏻👩‍✈️🙅🏼‍♀🤹🏿‍♂️🇺🇸🇨🇬👩🏼‍🔧🚵🏽‍♀️👴🏽🚣🏽🤷🏾‍♀🏌‍♀️🇱🇸👨🏿‍💻🏴󠁧󠁢󠁳󠁣󠁴󠁿🙅🏽‍♀👩🏻‍💻🧘🏾‍♂️☎️🇨🇻🖐🏼⛰️🙎🏿‍♂️☸️🚣🏻‍♀🚵🏽‍♀👃🏿🦸🏿‍♂️🧘🏾‍♀️♂️🚴🏿*⃣💆🏽🧜🏻‍♂️🤳🏻👭🏼🇧🇱👨🏼‍🦱👨🏽‍⚖🧏🏿‍♀🙍‍♀🕊️🛀🏾🤽🏻‍♂👩‍👧‍👦⛹️‍♀️👨‍🏫🤾🏾‍♂️🤏🏽🤦🏾‍♂️🇲🇪👁‍🗨🚴🏻‍♀️🧗🏻‍♂🪂🤦‍♀🚴🏼🤽‍♀👩‍👦‍👦🤽🏻‍♀🧍🏼‍♀️🦶🏻👐🏾👩🏼‍🦲🇨🇦⛹‍♂️🚵🏾‍♂️👩🏻‍✈🏋🏾‍♀⛹️🇰🇵👩🏼‍🦱💁🏼‍♂🇶🇦🧖🏼‍♂️🏋🏾🤹🏾🏄‍♂️👁️‍🗨️🙆🏿‍♀️🏄🏾‍♂️✍🏻🤾🏻‍♀✍️🧘🏽‍♂️🙇🏼‍♂️🧎‍♀👩🏼‍🏭🇵🇸🙍‍♂🤳🏿🧚🏻‍♀️👩🏾‍💻👩🏾‍🏫⛹️‍♂️✔️👷🏿‍♀㊗️👨🏼‍🚒👮‍♂️👳🏻‍♀🦸🏻🇳🇬🇯🇲💆🏿‍♀️🇰🇮👷🏻🦹🏼🤶🏽🕵‍♀️👩🏿‍🎤💁🏼‍♀️🇸🇸🕵🏽‍♀👩‍🔧🤷🏿‍♂🗃️🇨🇾👫🏿👩🏻‍⚖🤱🏼👩🏿‍💼🤹🏼‍♀👨🏿‍🔬🚴🏾‍♂️🤹🏿‍♂🙇🏽‍♂🇷🇼🚣🏽‍♀🤚🏽👨🏼‍🚀👮🏼‍♀️⛸️👃🏻🤽🏾⚱️🙇🏾👩‍🔬🧛🏿‍♀️🤟🏿🏋🏿‍♀👩🏻‍🔧☂️👳‍♂️⛓️🧎🏼🇸🇲🙍🏻‍♀️🇵🇼☣️🏇🏻🧑🏽🏗️4⃣🏊🏾‍♀🟧🙋🏿🇲🇿👩‍🚒🙇🏽‍♀️👳🏽‍♀🤽🏼👮🏾‍♂️🏃🏻🇧🇦🏌🏻‍♀️🚶🏼‍♂️🕴🏼🤰🏻🤽🏽‍♀🇲🇱👁️‍🗨👳🏾‍♂👱🏽‍♂️🧏🏻‍♂️👎🏽🧜🏾‍♀🏴󠁧󠁢󠁷󠁬󠁳󠁿💂🏿‍♂️🧜🏽‍♂🙅🏽‍♂👩🏾‍🚀👩🏾‍✈️🚴🏻🧑🏼‍🤝‍🧑🏼🚴🏿‍♀🧍🏽‍♀️🙍🏽‍♀️🤙🏻🧃🧘🏻‍♂↕️🦶🏾🚣🏾‍♀️🚴🏼‍♀👩🏻‍🚀♦️👨🏻‍🦽💂🏿‍♀👮🏽‍♀👩🏾‍🌾▫️🕵🏽‍♀️🙆🏻‍♀️🤹🏿‍♀👩‍👩‍👦‍👦👩‍❤️‍💋‍👨🇨🇺🙋🏽‍♂️👩🏼‍🦽🇲🇬👳🏾‍♂️✍🏿👩🏻‍🏫👨🏾‍🦲🇰🇪👇🏽🙅🏼‍♂️🇺🇲👩🏽‍🎨🙅🏽‍♀️🦸🏼‍♂🤸🏼👷🏻‍♀️🙅🏼‍♂🙆🏽‍♀🤟🏼🤷🏻‍♂👭🏿⛹🏾‍♀🧝🏼‍♀️👱🏼‍♀👩🏾‍🦲🇳🇷👍🏻👩🏽‍🤝‍👨🏼🏊🏼‍♀️🇧🇾🛋️🙅‍♀🪔👫🏻⛴️👩‍❤‍👩🇸🇦🇨🇩🖍️👩‍🦼👼🏾🚵‍♂🕸️🕵🏾‍♂👱🏽🇨🇷🧟‍♂️🧘🏽🇵🇱🧗‍♂👩🏿‍🦱🏊🏿‍♀️🧚🏼↔️🧖🏽‍♀️👊🏼👩🏿‍🔧🤘🏼👨🏼‍🦽🇮🇹🚶🏾🚵🏿‍♀️🤛🏼👩‍👦🇧🇩🤟🏻💁🏽‍♂🏊🏾‍♀️🇹🇷🕵🏾‍♀️👇🏼🚣‍♀👰🏿🤜🏽🧙🏽‍♂🚶🏿‍♀️🕳️👩🏾‍⚕🙎🏾🗑️👩🏼‍🎨⛹🏻‍♀️👩🏼‍🤝‍👨🏿🇩🇴👭🏾🤦🏻🚴🏿‍♀️👳🏼🙅🏾💁🏻‍♂️💇🏻👨🏾‍⚕️🇦🇬💇🏽‍♀🇬🇮🧖🏿‍♀👩‍👩‍👧‍👧👨🏾‍🏫🏃🏼‍♂⛹🏽‍♂🏄🏽‍♂🏋🏽‍♀️🧍🏾‍♀️🤜🏻🤾🏽‍♀️👌🏼👮🏻‍♂👩🏼‍🦳✋🏼⛹🏼‍♀🧜🏿🧜🏾‍♂️🇹🇰🙍‍♂️🏋‍♀️🇦🇴👩🏻‍🤝‍👨🏼⛈️👩🏿‍🦼⚔️🏋🏽‍♂🏌🏿👂🏾👩‍💼👨‍👩‍👧‍👧🧛‍♂️🦸🏿‍♀️🇲🇫👷🏼👬🏿🧔🏼🦵🏻🤹🏼🤽🏾‍♂️👮🏿‍♂️🇸🇽🖌️🧖🏼🤾‍♂️🇸🇨🇧🇸🐕‍🦺🇪🇺🚴‍♀️👨🏻‍🔬🥻🚴🏾👷🏻‍♂🧖🏽‍♂🧏🏽‍♂️🤷🏼‍♂️👳🏾‍♀️🤷🏾‍♂👮🏾‍♂👩🏾‍⚖️🧙‍♀🤵🏽🧎🏾‍♀️🚣🏼‍♂️👷🏿‍♂⛹🏿🇭🇹🇦🇪🚵🏾‍♀️🇬🇧🚵🏽‍♂👎🏼👩🏽‍🎓🕯️💂‍♀🧍🏿‍♀🚴‍♂🇧🇯7⃣🙏🏼🖱️🧖‍♂️🚵🏻🙍🏽‍♀🏄‍♂🧎‍♀️👩🏿‍🤝‍👩🏾🏄🏽‍♀🤴🏻👩‍⚖️🎅🏼🧏🏾‍♀️🧚🏽🤾🏽‍♂️🛀🏿🤦🏽‍♀️👨🏽‍💼💂🏻‍♂️🧘🏻‍♀💁🏾‍♂💆🏻🧙🏼‍♂️❤️👨‍⚕3⃣👨🏾‍🤝‍👨🏻➡️💪🏼🕵🏻🚵🏼‍♀️👨🏻‍🦲🇸🇪💇🏽‍♂️👯‍♂️🤴🏼👉🏿#️⃣🪀↪️🛌🏾👨🏼‍⚖🏳️‍🌈🤦🏼‍♂🙆🏻‍♂🧖🏽‍♀👷🏾‍♀️🧑🏿‍🤝‍🧑🏾👩‍❤️‍👨🦹🏼‍♂️👩🏽‍🚀🧛🏾🧎🏼‍♀🇩🇲®️👦🏾💇🏼‍♂🤹🏽‍♀️👨🏻‍🦰🏋🏿‍♂🧗🏽‍♂️🤹🏽‍♀🤹🏼‍♀️🤚🏻👩🏽‍🦳☝️👨🏾‍🔧🏋🏽‍♀👬🏼🧗‍♂️👱🏻‍♀🧖🏻‍♀🧝🏽🙅🏽🧑🏾‍🤝‍🧑🏾👩‍👩‍👧‍👦🇰🇾🏇🏽🦸🏿‍♀🧘🏽‍♀️🇮🇪👭🏽🚣🏻‍♀️👨🏼‍🍳🏊🏼‍♂️👨🏼‍💼🕵🏼👨🏼‍🦯🧜🏿‍♂️🤽‍♂🧑🏻👨‍👧👩🏾‍🤝‍👩🏽🇻🇬🕵️‍♂️🤸🏿‍♂️👦🏻👧🏿🧗🏻‍♀🛩️🧛🏾‍♀️👱🏽‍♀️🏄🏿‍♀🤾🏽⚕️👩🏼‍🤝‍👨🏻‼️🧗🏼‍♂️👩‍👩‍👧🦸🏽‍♂️🧜🏻‍♂🏷️🧜🏼‍♂️👮🏾‍♀👩🏿‍🤝‍👨🏾🤹‍♀️👱🏾‍♀️👨‍🍳🇲🇵🙎🏽‍♂️⁉️🧚🏿🤦🏾⏮️🌤️🧎🏿‍♀👨‍👨‍👧‍👧✌🏻🇰🇳👩‍🏫🤛🏻👩🏽‍🍳👨‍💻👨‍🦳🤾🏼‍♂️🇵🇪🇦🇿🙅🏾‍♀🧖🏾🏂🏽🕵‍♀🧜🏻‍♀️🤹🏿🤙🏼🤴🏿🧎🏿‍♂🧍‍♂👨‍❤‍💋‍👨🌦️👨🏽‍🦳👮🏿👨‍🎓⚠️🏊🏽‍♀🙎🏻‍♂🏌️‍♂💂🏼‍♂🙎🏼‍♀👂🏼☺️🕵🏻‍♂🇦🇶🧍🏿‍♂️🧗‍♀🤦🏿‍♀️6️⃣🙇🏿‍♂️🧍👩🏽‍🏭🙍🏾‍♀️👩🏿‍🌾👷🏾‍♀🇮🇳🦵🏾👐🏽🤰🏿🤸🏼‍♀🙍🏽💆‍♀️↖️👎🏻🧙🏻‍♀️👩🏿‍🤝‍👨🏼🏌️‍♀🤶🏾🧎🏾‍♂👩🏼‍⚕️🕺🏾🏃🏼👩🏾‍🦼🙍‍♀️👨🏼‍🦲↗️👩🏼‍✈🚵🏾‍♂👨🏿‍✈️🇲🇹🟠🙆🏾👨🏾‍✈️🇬🇹🧜🏾👩🏻‍🦳🧗🏼‍♂🤲🏼🤴🏽👷🏼‍♂🦸🏾🧙🏼‍♀👳🏽‍♂️🇩🇬🦹🏽👩‍❤‍💋‍👨🙆🏾‍♂🧗🏿‍♀️🧖🏻‍♂️🏋🏼‍♂️🦹🏿‍♂🛕🧛🏻‍♂🧜🏽🏋‍♀🙅🏼🏄🏻‍♀👁️👨🏽‍🦼🙇🏻‍♀👍🏽👨🏽‍🌾🙋🏽‍♀🚵🏽‍♂️👨🏼‍⚕️👩🏽‍🔧☯️🧗🏾🙆🏿✡️🦻🇮🇱⛹🏼‍♀️👳🏼‍♀️🧚🏼‍♀👳🏿‍♂🙇‍♂🙋🏼‍♂️🙍🏾‍♂️👩🏿‍⚕️🛳️🧗🏻⛹️‍♂🦹🏿‍♀🤾‍♀🧝🏻👩🏽🏃🏿‍♀️🖐️🏋🏽™️🇸🇱🧏🏿‍♀️🦵🏼👨‍🦼🧙🏾🧊🇦🇹👨🏼‍✈🤹🏼‍♂🙇🏻👩🏻‍🦲👨🏻‍🏭👮🏿‍♀️💁🏿‍♀🇵🇲🧙🏾‍♀⛹🏽‍♀️👩🏽‍✈️🙍🏿‍♀🧎🏼‍♀️🇸🇬🚶🏽‍♀🤲🏾👨🏿‍⚕👩🏽‍🤝‍👩🏼🇹🇭🧝🏽‍♀👴🏾🙋🏾🌡️🏄🏽‍♀️🦥♥️👩🏾‍🤝‍👨🏿👩🏻‍🦽🚣🏾‍♂️✋🏾🧖🏻‍♂🚶🏽‍♂👩🏽‍💼🧔🏿🇹🇩🧎‍♂🧛🏿‍♂🇼🇸👐🏼🧜🏻‍♀👸🏿👩🏼‍🤝‍👩🏻🏌🏼‍♀🧒🏽👱🏾‍♀🇹🇼🇨🇴9️⃣🧜🏼‍♀️👷🏽‍♂👳🏻‍♂️🤽🏽‍♂👩🏿‍🦳🚵🏿‍♂🇹🇯🙎‍♂🤾🏿‍♀🧙🏽‍♂️🤱🏽🧙‍♂🚵🏿‍♀🧏🏻‍♂🦹🏾‍♀️🛀🏻👩🏾‍🍳💅🏽🇦🇸🏂🏼👮🏽🦶🏽👩🏼‍🍳💂🏾💆🏾‍♀️🏊🏼‍♀🏘️👇🏿🧜🏼🧗🏿🏋🏽‍♂️🤾🏻‍♂🏄🏻‍♂️👍🏿🧚🏿‍♀️🙅‍♀️👳‍♂🙎🏾‍♀️🇬🇫❇️🏇🏾7️⃣👱🏼‍♂🤦🏾‍♀️🤘🏾💅🏾👱‍♀️🙅🏿‍♂️🤸🏾‍♀️🧘‍♂️🧗🏿‍♂🇹🇨🙋🏿‍♂🧑🏿‍🤝‍🧑🏿🙋🏽‍♂🚣🏼🥱🏄🏼‍♂👱🏿‍♀️🙅🏻‍♀◻️🚴🏿‍♂👨🏿‍🤝‍👨🏻🕵🏼‍♀️🤸‍♂️👊🏾8️⃣👨🏼‍🏫👩🏻‍🦼🏄🏻👱🏿‍♂️🧑🏾💂🏿‍♂👨🏽‍🏫👨🏽‍🏭🏌🏽‍♀️🙏🏿🦸🏽‍♀🙅🏿‍♂🙇🏽‍♂️👈🏾🤹🏻👨🏽‍🦽🤞🏾🇺🇾🤸🏾‍♂👩‍🦱👮‍♂🦸‍♀️🗞️💆🏻‍♂️🚶🏻‍♀️🛺🇸🇧🇬🇾🇧🇭🇹🇴🦹🏿‍♂️🧘🏼👳🏿‍♀💂🏻‍♀️🧜‍♀👶🏻💪🏾🧝🏿🧝🏾‍♀🤾‍♀️🏄🏾‍♀️✍🏽☮️🇮🇨🇯🇪🚣🏽‍♂👳🏾🏌🏾‍♂️🧛🏾‍♂💂🏽‍♀️🙎🏼‍♂🛏️🧘🏻‍♀️👨🏽‍🚒🤷🏻‍♂️🧛🏾‍♂️👨🏼‍🦼💂🏼‍♂️🦹🏼‍♂👷🏼‍♂️🇪🇬🕴️🤦‍♂🤦🏻‍♀💂🏾‍♀🇪🇸🏋🏻🇺🇬🏃🏽‍♀️🦮🙇‍♂️🏃🏽‍♂🎞️🤵🏿Ⓜ️🙎🏾‍♂🇹🇦🧎🏾‍♀💁🏽🧚🏽‍♀️🏄🏽🦸🏽‍♂👨🏾‍✈👍🏾🖖🏾🇧🇫🙎🏼♾️🇲🇰⏭️🦧👨🏼‍🦰🧍🏿🤽🏿‍♀💆🏼‍♂️🧗🏻‍♂️👷🏿🇬🇲🧛‍♀️🧕🏽🇵🇾🦸🏾‍♀️🦹‍♂🦵🏽🧏🏻‍♀️🤦🏽‍♂🧎🏾‍♂️🙍🏿‍♂️🇨🇭👨🏿‍🦯🎚️🧘🏿🦹🏾‍♀👫🏽👩‍🦯💅🏿🙇🏻‍♂️🤷‍♀️0⃣🦸🏻‍♀️🕵🏿‍♀️🙅‍♂☀️🇬🇭🚣🏽‍♀️🚣🏼‍♀️🇲🇸🌧️🧑🏾‍🤝‍🧑🏽⛹🏽‍♂️🩸🧙🏻🤽🏾‍♀🇹🇱🏞️🤾🏽‍♂🦸🏻‍♂❣️🤸‍♂🧍🏽‍♂️🤹🏻‍♀👊🏻👩🏾‍🔧💁🏾‍♀🧎🏻‍♂️🇬🇷👩‍⚕🧎‍♂️🧍🏻"
     ]
    }
   ],
   "source": [
    "# TODO: correct for missing emojis\n",
    "absent_emojis = set(emoji.UNICODE_EMOJI) - set(emojis_count.keys())\n",
    "print(f\"Grasped {len(emojis_count) / len(emoji.UNICODE_EMOJI)* 100:.2f}% of the total emojis\")\n",
    "print(\"Missing emojis\")\n",
    "for em in absent_emojis:\n",
    "    print(em,end=\"\")"
   ]
  },
  {
   "cell_type": "code",
   "execution_count": 269,
   "metadata": {},
   "outputs": [
    {
     "name": "stdout",
     "output_type": "stream",
     "text": [
      "😂😭❤😍✨🤣🏻🔥💕💜👏🙏💙😊♥♀💖🥺‼👍🥰💛🎉😘☺🤔♂💦🏼💗🎁💚🏽😁😆👇💓🤦🌸💔😅🏾🙌💪😔🙄👉❗😢👀🖤😎🌹🇸👌💞😉😳😩💀🤗🎶✌😱🏆❣🌟😌🇺🤷💥🤤🇷😇🚨⭐😋😡✔💘🤩🐰😈💋💯🔴✅😏🤪▶⚠🙇☀🇪🤭🇦🌈🙈🎊😄💫👑⚡🙂😜🎵🍀➡😀🧡😃🙋🌻🙃🥳🎂⬇✊🇳⚽🤧🗣💃🐶🇹👊😤📸🇬🍑😒🦋🐥😫🌷❌🐯🇧❄😴🇨👋🇵🍃🌺🇮🏿😝☹💢👩📍🌼⚪💝💐🎥💰🏃🐱😚😻💎🎄🍓😣😪😬🙆😑©✋🤮🎀👈🌿♻👨🎈⁉📷🌙😥✈🇰😹🇲🥴🤘🤡🔵🤯😞📣🌚☁☝🤢👅💨📢📌🍆🐻🌕🍒🕊☕▪🥵📱❓🤙🚀🌱📺😐🤬🙊🌞🎤🔞🌑🦁😠🌴🌊😛🤟💧😓🔗💸🔁⚫💭🕯👧🤞🤝🇩🇭🎧💩🤫💌🕺🐾🇴😲😰👦👼😖🎬🧐🤠💵😕🇱🔸😮🔹🐹⭕㊗🤨➖👶🍁🐍🆘⏰🖕🚶💁💤🍫📹🔻💟✍😶🍊🇫🥀🎅⤵🤲🔔🇻☑😵🍻🤓🍎🐷👁💡🎼💣🏳🇯🌎👻🌌🐐🙅〰👎🤑☠🍺🍭😙🎯🍼💍😨♨👆📽📲🐝🔊🇽🏀🔪🚫☘🍂💅🔫📚🔘🚩🦊🌳⤴☎🐨🐣🍌🐢🥇🌘🐸😯☔🔄👤🦄🌒🥂❕🌝🐈🇿🍕📝🎆🔃♦👄🐿🐟♠😗😷🌖🧚⚔🌲🐺🍾🇾🔝🍋🌍🐕🍷🐦⚾🌗™🕷🍬🎸🌔🥶⚜🐼🍇🌓🦅🌾☄🎙👸💬😟🙁®🗓🎓🤐🐬🖐▫👥🌧☃⏩🧸🍯🎨👐🔮🏁🏴🍰🔷💏🍜💻🐧⌚🎮📰🤚🔽💉🌠👽💄📎🐤🛑✴🍣🔺🎍🇼📻🍉📞🍄💆🌀😸🐘✖🍔🐉🦈🤕🔶🏠💿👿🏅♣⬅🔜🍿🎃🗳🍦🚗😽🌶🍞📩⛄😿💮🍵🍪⛔⬆🌪🍗💠🌏🤒🌵⬛😧✏🐭🐳🆚🐙📮🔆👹👮🐊🌰🦍🍅🥕🚘🌃👠🔒⬜📈👫👙🦀📊🏖🔰🎻🕸🤰◀🎩🛫⚰🐴📖🎹🏟🎇🍨🍏🏝✂🥁📆⏱🍳🐎🤥🙀📅🍩🍖🆕👣🤴🎗🎞🐽🍚✳😺🏹👺🥊🙉🦇💊⏳😦🐇🍴🐑🏈🆓👾😼👯🔐🍹🗿㊙🚬🌐❇🌅🔎⚓🏄🐀🎟↗🏫🐒◾➰👭🎫🤸🧠🎭🦌🏍🤜✝👂💑🦖🤛🐔🧿➕👓🍙🥤⛓🤖🔱🌤◼❔🐜🇶☂🍡🗞🍥🖇👕🚂🧢🌨🏡🍮🐮🍍🍸👱🍟🥑🦐🐠🍈🐞🍛👬🤳↪🍧🚌🅾👔🎾👃🥚⛰🦉⏬🐄🅱🦆🔍🐓🖖🥖🔙🥃🏊↔🐖🦑🌬⚖🐋◽✒🏋🎲✉🥛💴🗡🥩🛍🕋👟🚮💲🧀🥈🍽🐲🕶🌛🌽🏵↘📀⛅🚙🎖🔑🐗💳📦🥓🚴↙🎋🧜👴🦃🔨🚒🏮☪🌄🅰⛈🛸🗝🐵❎💼🥋🖋🧔🌋🍝🗻🥞🥉🛬⛱📗👰🗽💒🥝🐚🆗📜🎺🛒📕🎪🥒🎰🛡🔟🐏🚦🐂👗🔛🔅☮🧟🚲🚔🍐🔖🍶👵🏏🚑🥦🥄🥟🧘✡🍤📡📏🏐⛵🌜♾🚧🕵⚕🦒◻📁🆙🥔🐅🏰♋🔋💶🥜🚃🏩🗨🚿🧙😾📃🎷Ⓜ🎌🃏🎡🖥👢🕹🐩🦎🐛🔓⛳🏇🎐🚁🖌🐆📛🏎🍠🦰🎏🧨📋🎱⌛🧒🌇🏷🚺🌫📉⚙🌮🔲🔌⏪🧑📥🔬🏌💇🚚🗼🍲☯🥐🍱🉐☢🕒🚄🐌👒⏏🕴🙎🐡🌂🎠🧞🏉🤵🚓🖼🙍🚢🎣👘🖊🧧🈶🕌↩🅿🌭🛎🥗🧦👪🔈🌡⛽🏥📼📄🦔👷👖🦸🔳ℹ📿🧁🕰🎦👞♿🗺🏒🎒⛸📂📬📨♊🧤🔕🦱📧🤱🏞🌥🦕🖍🔂🛌🏔🔧↖🗑🎢🎳〽🦂🛁👳⛹🧩🕐🧬🌩☣🥪💈🈁📯🗯🆒🔀💷🕛🧛🦗🏜♈🥅🛩↕🔉🏛🥬🚕🚽📘🦵♉🐃⚒🦜🔼🍢🚛🥢🚅🌦🛀⛪🛳🏨🧣🛏🛵🏢🛠🚪👛🥨♏🕉🥧🏙🧕➿🥘🚹🌆🚜🦶👚🛋🤶🛰🤼🕙🚖🥭🔚💾🗒🤾🏘🆔🐁🦷🔭🏯🚣📒🦓👜🤹🏓"
     ]
    }
   ],
   "source": [
    "for em in em_df.head(1000).index:\n",
    "    print(em,end=\"\")"
   ]
  },
  {
   "cell_type": "code",
   "execution_count": 276,
   "metadata": {},
   "outputs": [
    {
     "name": "stdout",
     "output_type": "stream",
     "text": [
      "Q25:113.5\n",
      "Q50:1428.5\n",
      "Q75:363.0\n",
      "Q99:33846.619999999966\n"
     ]
    },
    {
     "data": {
      "image/png": "[encoded data removed]",
      "text/plain": [
       "<Figure size 432x288 with 1 Axes>"
      ]
     },
     "metadata": {},
     "output_type": "display_data"
    }
   ],
   "source": [
    "fig, ax = plt.subplots(1)\n",
    "em_df.hist(ax = ax,bins=50)\n",
    "ax.set_yscale('log')\n",
    "q25,q50,q75,q99 = em_df.quantile(0.25),em_df.quantile(0.75),em_df.quantile(0.5),em_df.quantile(0.99)\n",
    "ax.axvline(q25,color='blue',label = 'q25')\n",
    "ax.axvline(q75,color='green',label = 'q75')\n",
    "ax.axvline(q99,color='red',label = 'q99')\n",
    "ax.legend()\n",
    "print(f\"Q25:{q25}\")\n",
    "print(f\"Q50:{q50}\")\n",
    "print(f\"Q75:{q75}\")\n",
    "print(f\"Q99:{q99}\")"
   ]
  },
  {
   "cell_type": "code",
   "execution_count": null,
   "metadata": {},
   "outputs": [],
   "source": []
  },
  {
   "cell_type": "code",
   "execution_count": 274,
   "metadata": {},
   "outputs": [
    {
     "data": {
      "text/plain": [
       "<AxesSubplot:>"
      ]
     },
     "execution_count": 274,
     "metadata": {},
     "output_type": "execute_result"
    },
    {
     "data": {
      "image/png": "[encoded data removed]",
      "text/plain": [
       "<Figure size 432x288 with 1 Axes>"
      ]
     },
     "metadata": {},
     "output_type": "display_data"
    }
   ],
   "source": [
    "em_df[1:].to_frame().boxplot()"
   ]
  }
 ],
 "metadata": {
  "kernelspec": {
   "display_name": "Python 3",
   "language": "python",
   "name": "python3"
  },
  "language_info": {
   "codemirror_mode": {
    "name": "ipython",
    "version": 3
   },
   "file_extension": ".py",
   "mimetype": "text/x-python",
   "name": "python",
   "nbconvert_exporter": "python",
   "pygments_lexer": "ipython3",
   "version": "3.7.7"
  }
 },
 "nbformat": 4,
 "nbformat_minor": 4
}
