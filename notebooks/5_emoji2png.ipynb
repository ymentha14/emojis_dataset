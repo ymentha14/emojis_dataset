{
 "cells": [
  {
   "cell_type": "code",
   "execution_count": 1,
   "metadata": {},
   "outputs": [],
   "source": [
    "%load_ext autoreload\n",
    "%autoreload 2"
   ]
  },
  {
   "cell_type": "code",
   "execution_count": 5,
   "metadata": {},
   "outputs": [],
   "source": [
    "import pickle as pk\n",
    "from src.collect.emoji2png import print_and_capture\n",
    "from src.constants import (\n",
    "    EMOJI_2_GLOBAL_INDEX_PATH,\n",
    "    HONEYPOTS,\n",
    "    PNG_PATH,\n",
    "    SELECTED_GLOBAL_INDEXES_PATH,\n",
    "    SELECTED_EMOJIS_PATH,\n",
    "    EMOJIS\n",
    ")"
   ]
  },
  {
   "cell_type": "markdown",
   "metadata": {},
   "source": [
    "# Create All Emojis"
   ]
  },
  {
   "cell_type": "markdown",
   "metadata": {},
   "source": [
    "<div class=\"alert alert-success\">\n",
    "As the emoji format is not universally accepted across browsers types and versions, the chosen\n",
    "solution consists in converting the emojis to an image file. As no emojis image dataset existed,\n",
    "I generated scripts to convert a list of emojis to .png file by sequentially displaying them\n",
    "and automating screenshots.\n",
    "</div>"
   ]
  },
  {
   "cell_type": "code",
   "execution_count": null,
   "metadata": {},
   "outputs": [],
   "source": [
    "# We screenshot the image of every emoji\n",
    "print_and_capture(x=520,\n",
    "                  y=679,\n",
    "                  width=60,\n",
    "                  height=60,\n",
    "                  output_dir_png=PNG_PATH,\n",
    "                  mapping_path=EMOJI_2_GLOBAL_INDEX_PATH,\n",
    "                  emojis=EMOJIS,\n",
    "                  test=False)"
   ]
  },
  {
   "cell_type": "markdown",
   "metadata": {},
   "source": [
    "<div class=\"alert alert-success\">\n",
    "Once the eomojis images are captured, we want to save the global indexes of the selected emojis for the dataset, as these indexes will allow to select those emojis exclusively in the Google forms.\n",
    "</div>"
   ]
  },
  {
   "cell_type": "code",
   "execution_count": 6,
   "metadata": {},
   "outputs": [
    {
     "name": "stdout",
     "output_type": "stream",
     "text": [
      "[3006, 3091, 2897, 2282, 451, 2280, 613, 387, 740, 597, 846, 3059, 1284, 444, 2528, 2640, 2885, 1095, 2533, 828, 699]\n"
     ]
    }
   ],
   "source": [
    "em2globidx = pk.load(open(EMOJI_2_GLOBAL_INDEX_PATH, \"rb\"))\n",
    "selected_emojis = pk.load(open(SELECTED_EMOJIS_PATH, \"rb\"))\n",
    "# emojis index printing\n",
    "selected_emojis_idxes = [em2globidx[em] for em in selected_emojis]\n",
    "\n",
    "# We save the choice of emojis\n",
    "if not SELECTED_GLOBAL_INDEXES_PATH.exists():\n",
    "    pk.dump(selected_emojis_idxes, open(SELECTED_GLOBAL_INDEXES_PATH, \"wb\"))\n",
    "\n",
    "# honeypots index for the appscript\n",
    "honey_pots_idxes = [em2globidx[em] for em in HONEYPOTS.keys()]\n",
    "print(honey_pots_idxes)"
   ]
  }
 ],
 "metadata": {
  "kernelspec": {
   "display_name": "Python 3",
   "language": "python",
   "name": "python3"
  },
  "language_info": {
   "codemirror_mode": {
    "name": "ipython",
    "version": 3
   },
   "file_extension": ".py",
   "mimetype": "text/x-python",
   "name": "python",
   "nbconvert_exporter": "python",
   "pygments_lexer": "ipython3",
   "version": "3.6.9"
  }
 },
 "nbformat": 4,
 "nbformat_minor": 4
}
