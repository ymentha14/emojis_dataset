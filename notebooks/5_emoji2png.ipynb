{
 "cells": [
  {
   "cell_type": "code",
   "execution_count": 1,
   "metadata": {},
   "outputs": [],
   "source": [
    "%load_ext autoreload\n",
    "%autoreload 2"
   ]
  },
  {
   "cell_type": "code",
   "execution_count": 5,
   "metadata": {},
   "outputs": [],
   "source": [
    "import pickle as pk\n",
    "from src.collect.emoji2png import print_and_capture\n",
    "from src.constants import (\n",
    "    EMOJI_2_GLOBAL_INDEX_PATH,\n",
    "    HONEYPOTS,\n",
    "    PNG_PATH,\n",
    "    SELECTED_GLOBAL_INDEXES_PATH,\n",
    "    SELECTED_EMOJIS_PATH,\n",
    "    EMOJIS\n",
    ")"
   ]
  },
  {
   "cell_type": "markdown",
   "metadata": {},
   "source": [
    "# Create All Emojis"
   ]
  },
  {
   "cell_type": "markdown",
   "metadata": {},
   "source": [
    "<div class=\"alert alert-success\">\n",
    "As the emoji format is not universally accepted across browsers types and versions, the chosen\n",
    "solution consists in converting the emojis to an image file. As no emojis image dataset existed,\n",
    "I generated scripts to convert a list of emojis to .png file by sequentially displaying them\n",
    "and automating screenshots.\n",
    "</div>"
   ]
  },
  {
   "cell_type": "code",
   "execution_count": 3,
   "metadata": {
    "collapsed": true,
    "jupyter": {
     "outputs_hidden": true
    }
   },
   "outputs": [
    {
     "ename": "ValueError",
     "evalue": "Directory not empty: please provide an empty directory.",
     "output_type": "error",
     "traceback": [
      "\u001b[0;31m---------------------------------------------------------------------------\u001b[0m",
      "\u001b[0;31mValueError\u001b[0m                                Traceback (most recent call last)",
      "\u001b[0;32m<ipython-input-3-f28d21fac345>\u001b[0m in \u001b[0;36m<module>\u001b[0;34m\u001b[0m\n\u001b[1;32m      7\u001b[0m                   \u001b[0mmapping_path\u001b[0m\u001b[0;34m=\u001b[0m\u001b[0mEMOJI_2_GLOBAL_INDEX_PATH\u001b[0m\u001b[0;34m,\u001b[0m\u001b[0;34m\u001b[0m\u001b[0;34m\u001b[0m\u001b[0m\n\u001b[1;32m      8\u001b[0m                   \u001b[0memojis\u001b[0m\u001b[0;34m=\u001b[0m\u001b[0mEMOJIS\u001b[0m\u001b[0;34m,\u001b[0m\u001b[0;34m\u001b[0m\u001b[0;34m\u001b[0m\u001b[0m\n\u001b[0;32m----> 9\u001b[0;31m                   test=False)\n\u001b[0m",
      "\u001b[0;32m~/Documents/Cours/dlab_project/emoji_dataset/src/collect/emoji2png.py\u001b[0m in \u001b[0;36mprint_and_capture\u001b[0;34m(x, y, width, height, output_dir_png, mapping_path, emojis, test)\u001b[0m\n\u001b[1;32m     39\u001b[0m     \u001b[0mnot_empty\u001b[0m \u001b[0;34m=\u001b[0m \u001b[0many\u001b[0m\u001b[0;34m(\u001b[0m\u001b[0moutput_dir_png\u001b[0m\u001b[0;34m.\u001b[0m\u001b[0mglob\u001b[0m\u001b[0;34m(\u001b[0m\u001b[0;34m\"*.png\"\u001b[0m\u001b[0;34m)\u001b[0m\u001b[0;34m)\u001b[0m\u001b[0;34m\u001b[0m\u001b[0;34m\u001b[0m\u001b[0m\n\u001b[1;32m     40\u001b[0m     \u001b[0;32mif\u001b[0m \u001b[0mnot_empty\u001b[0m\u001b[0;34m:\u001b[0m\u001b[0;34m\u001b[0m\u001b[0;34m\u001b[0m\u001b[0m\n\u001b[0;32m---> 41\u001b[0;31m         \u001b[0;32mraise\u001b[0m \u001b[0mValueError\u001b[0m\u001b[0;34m(\u001b[0m\u001b[0;34m\"Directory not empty: please provide an empty directory.\"\u001b[0m\u001b[0;34m)\u001b[0m\u001b[0;34m\u001b[0m\u001b[0;34m\u001b[0m\u001b[0m\n\u001b[0m\u001b[1;32m     42\u001b[0m \u001b[0;34m\u001b[0m\u001b[0m\n\u001b[1;32m     43\u001b[0m     \u001b[0mbbox\u001b[0m \u001b[0;34m=\u001b[0m \u001b[0;34m(\u001b[0m\u001b[0mx\u001b[0m\u001b[0;34m,\u001b[0m\u001b[0my\u001b[0m\u001b[0;34m,\u001b[0m\u001b[0mx\u001b[0m\u001b[0;34m+\u001b[0m\u001b[0mwidth\u001b[0m\u001b[0;34m,\u001b[0m\u001b[0my\u001b[0m\u001b[0;34m+\u001b[0m\u001b[0mheight\u001b[0m\u001b[0;34m)\u001b[0m\u001b[0;34m\u001b[0m\u001b[0;34m\u001b[0m\u001b[0m\n",
      "\u001b[0;31mValueError\u001b[0m: Directory not empty: please provide an empty directory."
     ]
    }
   ],
   "source": [
    "# We screenshot the image of every emoji\n",
    "print_and_capture(x=520,\n",
    "                  y=679,\n",
    "                  width=60,\n",
    "                  height=60,\n",
    "                  output_dir_png=PNG_PATH,\n",
    "                  mapping_path=EMOJI_2_GLOBAL_INDEX_PATH,\n",
    "                  emojis=EMOJIS,\n",
    "                  test=False)"
   ]
  },
  {
   "cell_type": "markdown",
   "metadata": {},
   "source": [
    "<div class=\"alert alert-success\">\n",
    "Once the eomojis images are captured, we want to save the global indexes of the selected emojis for the dataset, as these indexes will allow to select those emojis exclusively in the Google forms.\n",
    "</div>"
   ]
  },
  {
   "cell_type": "code",
   "execution_count": 6,
   "metadata": {},
   "outputs": [
    {
     "name": "stdout",
     "output_type": "stream",
     "text": [
      "[3006, 3091, 2897, 2282, 451, 2280, 613, 387, 740, 597, 846, 3059, 1284, 444, 2528, 2640, 2885, 1095, 2533, 828, 699]\n"
     ]
    }
   ],
   "source": [
    "em2globidx = pk.load(open(EMOJI_2_GLOBAL_INDEX_PATH, \"rb\"))\n",
    "selected_emojis = pk.load(open(SELECTED_EMOJIS_PATH, \"rb\"))\n",
    "# emojis index printing\n",
    "selected_emojis_idxes = [em2globidx[em] for em in selected_emojis]\n",
    "\n",
    "# We save the choice of emojis\n",
    "if not SELECTED_GLOBAL_INDEXES_PATH.exists():\n",
    "    pk.dump(selected_emojis_idxes, open(SELECTED_GLOBAL_INDEXES_PATH, \"wb\"))\n",
    "\n",
    "# honeypots index for the appscript\n",
    "honey_pots_idxes = [em2globidx[em] for em in HONEYPOTS.keys()]\n",
    "print(honey_pots_idxes)"
   ]
  }
 ],
 "metadata": {
  "kernelspec": {
   "display_name": "Python 3",
   "language": "python",
   "name": "python3"
  },
  "language_info": {
   "codemirror_mode": {
    "name": "ipython",
    "version": 3
   },
   "file_extension": ".py",
   "mimetype": "text/x-python",
   "name": "python",
   "nbconvert_exporter": "python",
   "pygments_lexer": "ipython3",
   "version": "3.6.9"
  }
 },
 "nbformat": 4,
 "nbformat_minor": 4
}
