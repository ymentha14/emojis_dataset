{
 "cells": [
  {
   "cell_type": "code",
   "execution_count": 1,
   "metadata": {
    "collapsed": false,
    "jupyter": {
     "outputs_hidden": false
    }
   },
   "outputs": [],
   "source": [
    "%load_ext autoreload\n",
    "%autoreload 2\n",
    "%matplotlib inline"
   ]
  },
  {
   "cell_type": "code",
   "execution_count": null,
   "metadata": {},
   "outputs": [],
   "source": [
    "print(\"a\")"
   ]
  },
  {
   "cell_type": "code",
   "execution_count": 2,
   "metadata": {},
   "outputs": [],
   "source": [
    "from src.exploration.eda import *"
   ]
  },
  {
   "cell_type": "markdown",
   "metadata": {},
   "source": [
    "## Loading Data"
   ]
  },
  {
   "cell_type": "code",
   "execution_count": 4,
   "metadata": {},
   "outputs": [],
   "source": [
    "# mapping from id to emoji\n",
    "mapping = pk.load(open(MAPPING_PATH, 'rb'))\n",
    "# mapping from emoji to id\n",
    "inv_map = {v: k for k, v in mapping.items()}"
   ]
  },
  {
   "cell_type": "code",
   "execution_count": 5,
   "metadata": {},
   "outputs": [],
   "source": [
    "phraseVecModel = Phrase2Vec.from_word2vec_paths(300, W2V_PATH, E2V_PATH)\n",
    "e2v = phraseVecModel.emojiVecModel\n",
    "w2v = phraseVecModel.wordVecModel"
   ]
  },
  {
   "cell_type": "markdown",
   "metadata": {},
   "source": [
    "## Emojis Descriptions Coherency"
   ]
  },
  {
   "cell_type": "markdown",
   "metadata": {},
   "source": [
    "<div class=\"alert alert-success\">\n",
    "In order to assess whether the used features space is meaningful, we compute a dispersion metric across the multiple descriptions present for a single emoji.\n",
    "</div>"
   ]
  },
  {
   "cell_type": "code",
   "execution_count": 8,
   "metadata": {},
   "outputs": [
    {
     "data": {
      "text/html": [
       "<div>\n",
       "<style scoped>\n",
       "    .dataframe tbody tr th:only-of-type {\n",
       "        vertical-align: middle;\n",
       "    }\n",
       "\n",
       "    .dataframe tbody tr th {\n",
       "        vertical-align: top;\n",
       "    }\n",
       "\n",
       "    .dataframe thead th {\n",
       "        text-align: right;\n",
       "    }\n",
       "</style>\n",
       "<table border=\"1\" class=\"dataframe\">\n",
       "  <thead>\n",
       "    <tr style=\"text-align: right;\">\n",
       "      <th></th>\n",
       "      <th>desc</th>\n",
       "      <th>em</th>\n",
       "      <th>vec</th>\n",
       "    </tr>\n",
       "  </thead>\n",
       "  <tbody>\n",
       "    <tr>\n",
       "      <th>0</th>\n",
       "      <td>ballot box with check</td>\n",
       "      <td>☑️</td>\n",
       "      <td>[-0.21191406, 0.17572021, -0.57836914, 0.16699...</td>\n",
       "    </tr>\n",
       "    <tr>\n",
       "      <th>1</th>\n",
       "      <td>full moon with face</td>\n",
       "      <td>🌝</td>\n",
       "      <td>[0.21972656, 0.22265625, 0.2253418, 0.26757812...</td>\n",
       "    </tr>\n",
       "    <tr>\n",
       "      <th>2</th>\n",
       "      <td>cheese</td>\n",
       "      <td>🌝</td>\n",
       "      <td>[-0.28515625, 0.076171875, 0.041259766, 0.5195...</td>\n",
       "    </tr>\n",
       "    <tr>\n",
       "      <th>3</th>\n",
       "      <td>moon</td>\n",
       "      <td>🌝</td>\n",
       "      <td>[-0.03857422, 0.18945312, 0.20605469, 0.171875...</td>\n",
       "    </tr>\n",
       "    <tr>\n",
       "      <th>4</th>\n",
       "      <td>smiling moon</td>\n",
       "      <td>🌝</td>\n",
       "      <td>[0.08154297, 0.359375, 0.31933594, 0.31054688,...</td>\n",
       "    </tr>\n",
       "    <tr>\n",
       "      <th>...</th>\n",
       "      <td>...</td>\n",
       "      <td>...</td>\n",
       "      <td>...</td>\n",
       "    </tr>\n",
       "    <tr>\n",
       "      <th>6083</th>\n",
       "      <td>electric bus</td>\n",
       "      <td>🚎</td>\n",
       "      <td>[0.28100586, 0.01171875, 0.17944336, -0.197021...</td>\n",
       "    </tr>\n",
       "    <tr>\n",
       "      <th>6084</th>\n",
       "      <td>transportation</td>\n",
       "      <td>🚎</td>\n",
       "      <td>[0.02746582, -0.11425781, -0.011474609, 0.0854...</td>\n",
       "    </tr>\n",
       "    <tr>\n",
       "      <th>6085</th>\n",
       "      <td>transport</td>\n",
       "      <td>🚎</td>\n",
       "      <td>[0.0119018555, -0.016357422, -0.010925293, 0.0...</td>\n",
       "    </tr>\n",
       "    <tr>\n",
       "      <th>6086</th>\n",
       "      <td>trolleybus</td>\n",
       "      <td>🚎</td>\n",
       "      <td>[0.055664062, -0.011474609, 0.119140625, 0.341...</td>\n",
       "    </tr>\n",
       "    <tr>\n",
       "      <th>6087</th>\n",
       "      <td>trolley bus</td>\n",
       "      <td>🚎</td>\n",
       "      <td>[0.21655273, -0.17327881, -0.08911133, 0.06567...</td>\n",
       "    </tr>\n",
       "  </tbody>\n",
       "</table>\n",
       "<p>6088 rows × 3 columns</p>\n",
       "</div>"
      ],
      "text/plain": [
       "                       desc  em  \\\n",
       "0     ballot box with check  ☑️   \n",
       "1       full moon with face   🌝   \n",
       "2                    cheese   🌝   \n",
       "3                      moon   🌝   \n",
       "4              smiling moon   🌝   \n",
       "...                     ...  ..   \n",
       "6083           electric bus   🚎   \n",
       "6084         transportation   🚎   \n",
       "6085              transport   🚎   \n",
       "6086             trolleybus   🚎   \n",
       "6087            trolley bus   🚎   \n",
       "\n",
       "                                                    vec  \n",
       "0     [-0.21191406, 0.17572021, -0.57836914, 0.16699...  \n",
       "1     [0.21972656, 0.22265625, 0.2253418, 0.26757812...  \n",
       "2     [-0.28515625, 0.076171875, 0.041259766, 0.5195...  \n",
       "3     [-0.03857422, 0.18945312, 0.20605469, 0.171875...  \n",
       "4     [0.08154297, 0.359375, 0.31933594, 0.31054688,...  \n",
       "...                                                 ...  \n",
       "6083  [0.28100586, 0.01171875, 0.17944336, -0.197021...  \n",
       "6084  [0.02746582, -0.11425781, -0.011474609, 0.0854...  \n",
       "6085  [0.0119018555, -0.016357422, -0.010925293, 0.0...  \n",
       "6086  [0.055664062, -0.011474609, 0.119140625, 0.341...  \n",
       "6087  [0.21655273, -0.17327881, -0.08911133, 0.06567...  \n",
       "\n",
       "[6088 rows x 3 columns]"
      ]
     },
     "execution_count": 8,
     "metadata": {},
     "output_type": "execute_result"
    }
   ],
   "source": [
    "desc_words_df = get_desc_emojis_df(phraseVecModel)\n",
    "\n",
    "desc_words_df"
   ]
  },
  {
   "cell_type": "code",
   "execution_count": 10,
   "metadata": {},
   "outputs": [],
   "source": [
    "grouped_desc_df = gather_descs_vecs(desc_words_df,inv_map)"
   ]
  },
  {
   "cell_type": "code",
   "execution_count": 11,
   "metadata": {},
   "outputs": [
    {
     "data": {
      "image/png": "[encoded data removed]",
      "text/plain": [
       "<Figure size 432x288 with 1 Axes>"
      ]
     },
     "metadata": {
      "needs_background": "light"
     },
     "output_type": "display_data"
    }
   ],
   "source": [
    "plot_num_desc_per_emoji(grouped_desc_df)"
   ]
  },
  {
   "cell_type": "code",
   "execution_count": 12,
   "metadata": {},
   "outputs": [
    {
     "name": "stdout",
     "output_type": "stream",
     "text": [
      "Proportion of emojis with a single description: 39.67 %\n"
     ]
    }
   ],
   "source": [
    "N = grouped_desc_df.shape[0]\n",
    "N_1 = grouped_desc_df[grouped_desc_df.length ==1].shape[0]\n",
    "print(f\"Proportion of emojis with a single description: {N_1/N*100:.2f} %\")"
   ]
  },
  {
   "cell_type": "code",
   "execution_count": 13,
   "metadata": {},
   "outputs": [],
   "source": [
    "grouped_desc_df['dispersion'] = grouped_desc_df['vec'].apply(dispersion)"
   ]
  },
  {
   "cell_type": "code",
   "execution_count": 14,
   "metadata": {},
   "outputs": [],
   "source": [
    "em_coherency_df = (grouped_desc_df[grouped_desc_df.dispersion > 0]\n",
    "                                  .sort_values('dispersion'))"
   ]
  },
  {
   "cell_type": "markdown",
   "metadata": {},
   "source": [
    "### Most coherent emojis"
   ]
  },
  {
   "cell_type": "code",
   "execution_count": 15,
   "metadata": {},
   "outputs": [
    {
     "name": "stdout",
     "output_type": "stream",
     "text": [
      "🇨🇽 (disp=0.03)\n",
      "\tflag for christmas island\n",
      "\tchristmas island flag\n",
      "🇳🇷 (disp=0.03)\n",
      "\tflag for nauru\n",
      "\tnauruan flag\n",
      "🇳🇫 (disp=0.03)\n",
      "\tflag for norfolk island\n",
      "\tnorfolk island flag\n",
      "🇮🇴 (disp=0.03)\n",
      "\tflag for british indian ocean territory\n",
      "\tbritish indian ocean territory flag\n",
      "🈺 (disp=0.04)\n",
      "\t営\n",
      "\twork\n"
     ]
    }
   ],
   "source": [
    "best_emojis = em_coherency_df.head(5)\n",
    "display_emoji_desc(best_emojis)"
   ]
  },
  {
   "cell_type": "markdown",
   "metadata": {},
   "source": [
    "### Least Coherent Emojis"
   ]
  },
  {
   "cell_type": "markdown",
   "metadata": {},
   "source": [
    "TODO:\n",
    "* correlation matrixes between the subspaces of the vectors of the words in the description\n",
    "* try tfidf and stopwords removal\n",
    "* valuable information provided users\n",
    "\n",
    "First analyze the crowdsourcing output (dispersion for each emoji among humans)\n",
    "CORRELATION MATRIX ==> det == spread + ?random noise"
   ]
  },
  {
   "cell_type": "code",
   "execution_count": 16,
   "metadata": {},
   "outputs": [
    {
     "name": "stdout",
     "output_type": "stream",
     "text": [
      "🔂 (disp=0.26)\n",
      "\tclockwise rightwards and leftwards open circle arrows with circled one overlay\n",
      "\tloop once symbol\n",
      "\tcircle arrows with number 1\n",
      "🇨🇻 (disp=0.24)\n",
      "\tflag for cape verde\n",
      "\tregional indicator symbol letters cv\n",
      "🔁 (disp=0.24)\n",
      "\tclockwise rightwards and leftwards open circle arrows\n",
      "\tloop symbol\n",
      "🔛 (disp=0.23)\n",
      "\ton with exclamation mark with left right arrow above\n",
      "\ton\n",
      "🇻🇮 (disp=0.23)\n",
      "\tregional indicator symbol letters vi\n",
      "\tus virgin islander flag\n"
     ]
    }
   ],
   "source": [
    "worst_emojis = em_coherency_df.tail(5).iloc[::-1]\n",
    "display_emoji_desc(worst_emojis)"
   ]
  },
  {
   "cell_type": "markdown",
   "metadata": {},
   "source": [
    "<div class=\"alert alert-success\">\n",
    "The \"worst emojis\" rows seems to indicate that long descriptions don't always show an addition-friendly behavior: indeed, the semantic sense of each word added could land anywhere in the feature space. <br>\n",
    "    \n",
    "Instead, using a method based on **crowdsourcing** coupled with a **tf-idf** selection could lead to better results.\n",
    "</div>"
   ]
  },
  {
   "cell_type": "code",
   "execution_count": 17,
   "metadata": {},
   "outputs": [
    {
     "data": {
      "text/plain": [
       "<AxesSubplot:>"
      ]
     },
     "execution_count": 17,
     "metadata": {},
     "output_type": "execute_result"
    },
    {
     "data": {
      "image/png": "[encoded data removed]",
      "text/plain": [
       "<Figure size 432x288 with 1 Axes>"
      ]
     },
     "metadata": {
      "needs_background": "light"
     },
     "output_type": "display_data"
    }
   ],
   "source": [
    "em_coherency_df.dispersion.hist(bins=40)"
   ]
  },
  {
   "cell_type": "markdown",
   "metadata": {},
   "source": [
    "<div class=\"alert alert-success\"> \n",
    "TODO : find the origin of this bimodal distribution\n",
    "</div>"
   ]
  },
  {
   "cell_type": "markdown",
   "metadata": {},
   "source": [
    "## Similarity with words"
   ]
  },
  {
   "cell_type": "code",
   "execution_count": 20,
   "metadata": {},
   "outputs": [],
   "source": [
    "emoji_df = get_emoji_df(e2v,mapping)\n",
    "\n",
    "face_emojis_df = emoji_df[emoji_df['em'].isin(emotions_faces)].copy()\n",
    "\n",
    "face_emojis_df['top_sim10'] = face_emojis_df['em'].apply(lambda x:[i[0] for i in e2v.similar_by_word(x)])"
   ]
  },
  {
   "cell_type": "code",
   "execution_count": 23,
   "metadata": {},
   "outputs": [],
   "source": [
    "face_emojis_df['top_sim5_faces'] = face_emojis_df['em'].apply(lambda em: get_10_faces(em,e2v))"
   ]
  },
  {
   "cell_type": "code",
   "execution_count": 24,
   "metadata": {
    "collapsed": true,
    "jupyter": {
     "outputs_hidden": true
    }
   },
   "outputs": [
    {
     "data": {
      "text/html": [
       "<div>\n",
       "<style scoped>\n",
       "    .dataframe tbody tr th:only-of-type {\n",
       "        vertical-align: middle;\n",
       "    }\n",
       "\n",
       "    .dataframe tbody tr th {\n",
       "        vertical-align: top;\n",
       "    }\n",
       "\n",
       "    .dataframe thead th {\n",
       "        text-align: right;\n",
       "    }\n",
       "</style>\n",
       "<table border=\"1\" class=\"dataframe\">\n",
       "  <thead>\n",
       "    <tr style=\"text-align: right;\">\n",
       "      <th></th>\n",
       "      <th>em</th>\n",
       "      <th>vec</th>\n",
       "      <th>top_sim10</th>\n",
       "      <th>top_sim5_faces</th>\n",
       "    </tr>\n",
       "    <tr>\n",
       "      <th>index</th>\n",
       "      <th></th>\n",
       "      <th></th>\n",
       "      <th></th>\n",
       "      <th></th>\n",
       "    </tr>\n",
       "  </thead>\n",
       "  <tbody>\n",
       "    <tr>\n",
       "      <th>34</th>\n",
       "      <td>😕</td>\n",
       "      <td>[0.093202256, 0.004986584, 0.036923353, 0.0547...</td>\n",
       "      <td>[😖, 😠, 😾, 😞, 😲, 😰, 😝, 🙎, 😨, 😁]</td>\n",
       "      <td>[😖, 😠, 😞, 😲, 😰]</td>\n",
       "    </tr>\n",
       "    <tr>\n",
       "      <th>47</th>\n",
       "      <td>😡</td>\n",
       "      <td>[0.10005704, 0.025081947, 0.09612578, 0.063638...</td>\n",
       "      <td>[😾, 😦, 💢, 🙎, 👺, 😳, 😏, 🙎🏾, 🤦, 😠]</td>\n",
       "      <td>[😦, 😳, 😏, 😠, 😧]</td>\n",
       "    </tr>\n",
       "    <tr>\n",
       "      <th>55</th>\n",
       "      <td>🤒</td>\n",
       "      <td>[0.05091751, 0.059580225, -0.032689758, 0.0636...</td>\n",
       "      <td>[🤢, 😷, 💫, 😓, 😵, 🙅🏾, 🙎🏾, 🙀, 😫, 🙎🏼]</td>\n",
       "      <td>[🤢, 😷, 😓, 😵, 😫]</td>\n",
       "    </tr>\n",
       "    <tr>\n",
       "      <th>71</th>\n",
       "      <td>😮</td>\n",
       "      <td>[-0.02114388, -0.05283045, 0.032437645, -0.023...</td>\n",
       "      <td>[👐🏿, 👐🏻, 👄, 🤐, 📬, 👐🏽, 👅, 🔒, 👐🏾, 😗]</td>\n",
       "      <td>[🤐, 😗, 😶, 😘, 🙄]</td>\n",
       "    </tr>\n",
       "    <tr>\n",
       "      <th>79</th>\n",
       "      <td>😟</td>\n",
       "      <td>[0.09861565, 0.08570119, 0.06212258, -0.085885...</td>\n",
       "      <td>[😨, 😞, 😓, 😠, 😭, 😔, 😰, 😢, 😒, 😹]</td>\n",
       "      <td>[😨, 😞, 😓, 😠, 😭]</td>\n",
       "    </tr>\n",
       "    <tr>\n",
       "      <th>...</th>\n",
       "      <td>...</td>\n",
       "      <td>...</td>\n",
       "      <td>...</td>\n",
       "      <td>...</td>\n",
       "    </tr>\n",
       "    <tr>\n",
       "      <th>1236</th>\n",
       "      <td>😆</td>\n",
       "      <td>[0.069521226, 0.017129565, 0.078695066, 0.0805...</td>\n",
       "      <td>[☺️, 😀, 😊, 😄, 😃, 😏, 😂, 😸, 😉, 😁]</td>\n",
       "      <td>[😀, 😊, 😄, 😃, 😏]</td>\n",
       "    </tr>\n",
       "    <tr>\n",
       "      <th>1242</th>\n",
       "      <td>☹</td>\n",
       "      <td>[0.07232274, 0.054626353, 0.07297801, -0.05746...</td>\n",
       "      <td>[🙎🏻, 🙎🏿, 💆🏻, 🙆🏻, 🙎🏼, 🙅🏻, 🙆🏿, 🐼, 👃🏻, 🙍🏿]</td>\n",
       "      <td>[😦, 😳, 😡, 😰, 😊]</td>\n",
       "    </tr>\n",
       "    <tr>\n",
       "      <th>1288</th>\n",
       "      <td>🤔</td>\n",
       "      <td>[0.059266087, -0.059827834, 0.05785582, 0.0562...</td>\n",
       "      <td>[💜, 👳, 🤥, 💮, 😏, 🙇🏻, 🙇🏾, 🙇🏿, 🈷️, 🧀]</td>\n",
       "      <td>[🤥, 😏, 😔, 😈, 😍]</td>\n",
       "    </tr>\n",
       "    <tr>\n",
       "      <th>1372</th>\n",
       "      <td>😣</td>\n",
       "      <td>[0.026924763, 0.07288068, -0.014811185, 0.0673...</td>\n",
       "      <td>[😰, 😍, ☺️, 😓, 🐼, 😦, 😢, 🙈, 🙆, 😏]</td>\n",
       "      <td>[😰, 😍, 😓, 😦, 😢]</td>\n",
       "    </tr>\n",
       "    <tr>\n",
       "      <th>1432</th>\n",
       "      <td>🤓</td>\n",
       "      <td>[0.069068186, -0.06548561, 0.054373395, 0.0703...</td>\n",
       "      <td>[🙎, 😏, 😜, 👱🏻, 📎, 🤡, 👺, 👿, 💠, 🌝]</td>\n",
       "      <td>[😏, 😜, 👿, 😝, 😊]</td>\n",
       "    </tr>\n",
       "  </tbody>\n",
       "</table>\n",
       "<p>75 rows × 4 columns</p>\n",
       "</div>"
      ],
      "text/plain": [
       "      em                                                vec  \\\n",
       "index                                                         \n",
       "34     😕  [0.093202256, 0.004986584, 0.036923353, 0.0547...   \n",
       "47     😡  [0.10005704, 0.025081947, 0.09612578, 0.063638...   \n",
       "55     🤒  [0.05091751, 0.059580225, -0.032689758, 0.0636...   \n",
       "71     😮  [-0.02114388, -0.05283045, 0.032437645, -0.023...   \n",
       "79     😟  [0.09861565, 0.08570119, 0.06212258, -0.085885...   \n",
       "...   ..                                                ...   \n",
       "1236   😆  [0.069521226, 0.017129565, 0.078695066, 0.0805...   \n",
       "1242   ☹  [0.07232274, 0.054626353, 0.07297801, -0.05746...   \n",
       "1288   🤔  [0.059266087, -0.059827834, 0.05785582, 0.0562...   \n",
       "1372   😣  [0.026924763, 0.07288068, -0.014811185, 0.0673...   \n",
       "1432   🤓  [0.069068186, -0.06548561, 0.054373395, 0.0703...   \n",
       "\n",
       "                                     top_sim10   top_sim5_faces  \n",
       "index                                                            \n",
       "34              [😖, 😠, 😾, 😞, 😲, 😰, 😝, 🙎, 😨, 😁]  [😖, 😠, 😞, 😲, 😰]  \n",
       "47             [😾, 😦, 💢, 🙎, 👺, 😳, 😏, 🙎🏾, 🤦, 😠]  [😦, 😳, 😏, 😠, 😧]  \n",
       "55           [🤢, 😷, 💫, 😓, 😵, 🙅🏾, 🙎🏾, 🙀, 😫, 🙎🏼]  [🤢, 😷, 😓, 😵, 😫]  \n",
       "71          [👐🏿, 👐🏻, 👄, 🤐, 📬, 👐🏽, 👅, 🔒, 👐🏾, 😗]  [🤐, 😗, 😶, 😘, 🙄]  \n",
       "79              [😨, 😞, 😓, 😠, 😭, 😔, 😰, 😢, 😒, 😹]  [😨, 😞, 😓, 😠, 😭]  \n",
       "...                                        ...              ...  \n",
       "1236           [☺️, 😀, 😊, 😄, 😃, 😏, 😂, 😸, 😉, 😁]  [😀, 😊, 😄, 😃, 😏]  \n",
       "1242   [🙎🏻, 🙎🏿, 💆🏻, 🙆🏻, 🙎🏼, 🙅🏻, 🙆🏿, 🐼, 👃🏻, 🙍🏿]  [😦, 😳, 😡, 😰, 😊]  \n",
       "1288        [💜, 👳, 🤥, 💮, 😏, 🙇🏻, 🙇🏾, 🙇🏿, 🈷️, 🧀]  [🤥, 😏, 😔, 😈, 😍]  \n",
       "1372           [😰, 😍, ☺️, 😓, 🐼, 😦, 😢, 🙈, 🙆, 😏]  [😰, 😍, 😓, 😦, 😢]  \n",
       "1432           [🙎, 😏, 😜, 👱🏻, 📎, 🤡, 👺, 👿, 💠, 🌝]  [😏, 😜, 👿, 😝, 😊]  \n",
       "\n",
       "[75 rows x 4 columns]"
      ]
     },
     "execution_count": 24,
     "metadata": {},
     "output_type": "execute_result"
    }
   ],
   "source": [
    "face_emojis_df"
   ]
  },
  {
   "cell_type": "markdown",
   "metadata": {},
   "source": [
    "## T-SNE"
   ]
  },
  {
   "cell_type": "markdown",
   "metadata": {},
   "source": [
    "<div class=\"alert alert-success\">\n",
    "T-sne results could be reproduced as in the emoji2vec paper.\n",
    "</div>"
   ]
  },
  {
   "cell_type": "markdown",
   "metadata": {},
   "source": [
    "<img src=\"../results/emojivec_eda/tsne/emojis_tsne.jpeg\"></div>"
   ]
  },
  {
   "cell_type": "markdown",
   "metadata": {},
   "source": [
    "<div class=\"alert alert-success\">\n",
    "Emotions Emojis were computed in order to check how the emotions behave in this feature space\n",
    "</div>"
   ]
  },
  {
   "cell_type": "markdown",
   "metadata": {},
   "source": [
    "<img src=\"../results/emojivec_eda/tsne/faces_tsne.jpeg\"></div>"
   ]
  }
 ],
 "metadata": {
  "kernelspec": {
   "display_name": "Python 3",
   "language": "python",
   "name": "python3"
  },
  "language_info": {
   "codemirror_mode": {
    "name": "ipython",
    "version": 3
   },
   "file_extension": ".py",
   "mimetype": "text/x-python",
   "name": "python",
   "nbconvert_exporter": "python",
   "pygments_lexer": "ipython3",
   "version": "3.6.9"
  }
 },
 "nbformat": 4,
 "nbformat_minor": 4
}
