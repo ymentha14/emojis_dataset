{
 "cells": [
  {
   "cell_type": "code",
   "execution_count": 1,
   "metadata": {},
   "outputs": [],
   "source": [
    "%matplotlib inline\n",
    "%load_ext autoreload\n",
    "%autoreload 2"
   ]
  },
  {
   "cell_type": "code",
   "execution_count": 2,
   "metadata": {
    "collapsed": true,
    "jupyter": {
     "outputs_hidden": true
    }
   },
   "outputs": [
    {
     "name": "stderr",
     "output_type": "stream",
     "text": [
      "/home/ymentha/Documents/Cours/dlab_project/emojivec/env/lib/python3.6/site-packages/tensorflow/python/framework/dtypes.py:516: FutureWarning: Passing (type, 1) or '1type' as a synonym of type is deprecated; in a future version of numpy, it will be understood as (type, (1,)) / '(1,)type'.\n",
      "  _np_qint8 = np.dtype([(\"qint8\", np.int8, 1)])\n",
      "/home/ymentha/Documents/Cours/dlab_project/emojivec/env/lib/python3.6/site-packages/tensorflow/python/framework/dtypes.py:517: FutureWarning: Passing (type, 1) or '1type' as a synonym of type is deprecated; in a future version of numpy, it will be understood as (type, (1,)) / '(1,)type'.\n",
      "  _np_quint8 = np.dtype([(\"quint8\", np.uint8, 1)])\n",
      "/home/ymentha/Documents/Cours/dlab_project/emojivec/env/lib/python3.6/site-packages/tensorflow/python/framework/dtypes.py:518: FutureWarning: Passing (type, 1) or '1type' as a synonym of type is deprecated; in a future version of numpy, it will be understood as (type, (1,)) / '(1,)type'.\n",
      "  _np_qint16 = np.dtype([(\"qint16\", np.int16, 1)])\n",
      "/home/ymentha/Documents/Cours/dlab_project/emojivec/env/lib/python3.6/site-packages/tensorflow/python/framework/dtypes.py:519: FutureWarning: Passing (type, 1) or '1type' as a synonym of type is deprecated; in a future version of numpy, it will be understood as (type, (1,)) / '(1,)type'.\n",
      "  _np_quint16 = np.dtype([(\"quint16\", np.uint16, 1)])\n",
      "/home/ymentha/Documents/Cours/dlab_project/emojivec/env/lib/python3.6/site-packages/tensorflow/python/framework/dtypes.py:520: FutureWarning: Passing (type, 1) or '1type' as a synonym of type is deprecated; in a future version of numpy, it will be understood as (type, (1,)) / '(1,)type'.\n",
      "  _np_qint32 = np.dtype([(\"qint32\", np.int32, 1)])\n",
      "/home/ymentha/Documents/Cours/dlab_project/emojivec/env/lib/python3.6/site-packages/tensorflow/python/framework/dtypes.py:525: FutureWarning: Passing (type, 1) or '1type' as a synonym of type is deprecated; in a future version of numpy, it will be understood as (type, (1,)) / '(1,)type'.\n",
      "  np_resource = np.dtype([(\"resource\", np.ubyte, 1)])\n",
      "/home/ymentha/Documents/Cours/dlab_project/emojivec/env/lib/python3.6/site-packages/tensorboard/compat/tensorflow_stub/dtypes.py:541: FutureWarning: Passing (type, 1) or '1type' as a synonym of type is deprecated; in a future version of numpy, it will be understood as (type, (1,)) / '(1,)type'.\n",
      "  _np_qint8 = np.dtype([(\"qint8\", np.int8, 1)])\n",
      "/home/ymentha/Documents/Cours/dlab_project/emojivec/env/lib/python3.6/site-packages/tensorboard/compat/tensorflow_stub/dtypes.py:542: FutureWarning: Passing (type, 1) or '1type' as a synonym of type is deprecated; in a future version of numpy, it will be understood as (type, (1,)) / '(1,)type'.\n",
      "  _np_quint8 = np.dtype([(\"quint8\", np.uint8, 1)])\n",
      "/home/ymentha/Documents/Cours/dlab_project/emojivec/env/lib/python3.6/site-packages/tensorboard/compat/tensorflow_stub/dtypes.py:543: FutureWarning: Passing (type, 1) or '1type' as a synonym of type is deprecated; in a future version of numpy, it will be understood as (type, (1,)) / '(1,)type'.\n",
      "  _np_qint16 = np.dtype([(\"qint16\", np.int16, 1)])\n",
      "/home/ymentha/Documents/Cours/dlab_project/emojivec/env/lib/python3.6/site-packages/tensorboard/compat/tensorflow_stub/dtypes.py:544: FutureWarning: Passing (type, 1) or '1type' as a synonym of type is deprecated; in a future version of numpy, it will be understood as (type, (1,)) / '(1,)type'.\n",
      "  _np_quint16 = np.dtype([(\"quint16\", np.uint16, 1)])\n",
      "/home/ymentha/Documents/Cours/dlab_project/emojivec/env/lib/python3.6/site-packages/tensorboard/compat/tensorflow_stub/dtypes.py:545: FutureWarning: Passing (type, 1) or '1type' as a synonym of type is deprecated; in a future version of numpy, it will be understood as (type, (1,)) / '(1,)type'.\n",
      "  _np_qint32 = np.dtype([(\"qint32\", np.int32, 1)])\n",
      "/home/ymentha/Documents/Cours/dlab_project/emojivec/env/lib/python3.6/site-packages/tensorboard/compat/tensorflow_stub/dtypes.py:550: FutureWarning: Passing (type, 1) or '1type' as a synonym of type is deprecated; in a future version of numpy, it will be understood as (type, (1,)) / '(1,)type'.\n",
      "  np_resource = np.dtype([(\"resource\", np.ubyte, 1)])\n"
     ]
    }
   ],
   "source": [
    "import pandas as pd\n",
    "import matplotlib\n",
    "import matplotlib.pyplot as plt\n",
    "import tensorflow as tf\n",
    "import pickle as pk\n",
    "import numpy as np\n",
    "import sklearn.manifold as man\n",
    "from tensorflow.python.framework import ops\n",
    "import emoji\n",
    "import sys\n",
    "sys.path.append(\"../../emoji2vec_working/\")\n",
    "from phrase2vec import Phrase2Vec\n",
    "from utils import build_kb, get_examples_from_kb, generate_embeddings, get_metrics\n",
    "import pandas as pd\n",
    "import gensim.models as gs\n",
    "from pathlib import Path\n",
    "from src.constants import emotions_faces,REF_PATH,MAPPING_PATH, E2V_PATH, W2V_PATH, DATA_PATH\n",
    "import gensim.models as gs\n",
    "import warnings\n",
    "from scipy.stats import hmean\n",
    "from scipy import spatial\n",
    "\n",
    "warnings.filterwarnings(\"ignore\")\n"
   ]
  },
  {
   "cell_type": "markdown",
   "metadata": {},
   "source": [
    "## Data Loading/Cleaning"
   ]
  },
  {
   "cell_type": "code",
   "execution_count": 3,
   "metadata": {},
   "outputs": [],
   "source": [
    "# mapping from id to emoji\n",
    "mapping = pk.load(open(MAPPING_PATH, 'rb'))\n",
    "# mapping from emoji to id\n",
    "inv_map = {v: k for k, v in mapping.items()}\n",
    "\n",
    "phraseVecModel = Phrase2Vec.from_word2vec_paths(300, W2V_PATH, E2V_PATH)\n",
    "e2v = phraseVecModel.emojiVecModel\n",
    "w2v = phraseVecModel.wordVecModel"
   ]
  },
  {
   "cell_type": "code",
   "execution_count": 4,
   "metadata": {},
   "outputs": [],
   "source": [
    "form1_df = (pd.read_csv(\"../forms/emoji10/Emojis Description.csv\")\n",
    "              .set_index('Worker ID'))\n",
    "form1_df = (form1_df.rename(columns={col_name:col_name.strip() for col_name in form1_df.columns})\n",
    "              .drop(columns=[\"Timestamp\"]))"
   ]
  },
  {
   "cell_type": "markdown",
   "metadata": {},
   "source": [
    "<div class=\"alert alert-success\"> \n",
    "Some entries are filled randomly as can be seen in the following\n",
    "</div>"
   ]
  },
  {
   "cell_type": "code",
   "execution_count": 5,
   "metadata": {},
   "outputs": [
    {
     "data": {
      "text/html": [
       "<div>\n",
       "<style scoped>\n",
       "    .dataframe tbody tr th:only-of-type {\n",
       "        vertical-align: middle;\n",
       "    }\n",
       "\n",
       "    .dataframe tbody tr th {\n",
       "        vertical-align: top;\n",
       "    }\n",
       "\n",
       "    .dataframe thead th {\n",
       "        text-align: right;\n",
       "    }\n",
       "</style>\n",
       "<table border=\"1\" class=\"dataframe\">\n",
       "  <thead>\n",
       "    <tr style=\"text-align: right;\">\n",
       "      <th></th>\n",
       "      <th>🙂</th>\n",
       "      <th>😍</th>\n",
       "      <th>😀</th>\n",
       "      <th>😄</th>\n",
       "      <th>🤣</th>\n",
       "      <th>🤭</th>\n",
       "      <th>👿</th>\n",
       "      <th>🤔</th>\n",
       "      <th>🤯</th>\n",
       "      <th>😭</th>\n",
       "    </tr>\n",
       "    <tr>\n",
       "      <th>Worker ID</th>\n",
       "      <th></th>\n",
       "      <th></th>\n",
       "      <th></th>\n",
       "      <th></th>\n",
       "      <th></th>\n",
       "      <th></th>\n",
       "      <th></th>\n",
       "      <th></th>\n",
       "      <th></th>\n",
       "      <th></th>\n",
       "    </tr>\n",
       "  </thead>\n",
       "  <tbody>\n",
       "    <tr>\n",
       "      <th>A3NKJAX21PSNWD</th>\n",
       "      <td>star,blank,question</td>\n",
       "      <td>love,joy,enjou</td>\n",
       "      <td>smile,happy,enjoy</td>\n",
       "      <td>smile,happy,enjoy</td>\n",
       "      <td>blank,empty,thinking</td>\n",
       "      <td>blank,empty,thinking</td>\n",
       "      <td>angery,tension,avoid</td>\n",
       "      <td>blank,empty,thinking</td>\n",
       "      <td>blank,empty,thinking</td>\n",
       "      <td>funny,sad,feel</td>\n",
       "    </tr>\n",
       "    <tr>\n",
       "      <th>A2JC65REBH7706</th>\n",
       "      <td>sick,ill,unwell</td>\n",
       "      <td>love,smile,heart</td>\n",
       "      <td>fun,laughing,lol</td>\n",
       "      <td>happy,smiling,fun</td>\n",
       "      <td>sick,ill,unwell</td>\n",
       "      <td>sick,ill,unwell</td>\n",
       "      <td>monster,danger,angry</td>\n",
       "      <td>sick,ill,unwell</td>\n",
       "      <td>sick,ill,unwell</td>\n",
       "      <td>sad,cry,worry</td>\n",
       "    </tr>\n",
       "  </tbody>\n",
       "</table>\n",
       "</div>"
      ],
      "text/plain": [
       "                                  🙂                 😍                  😀  \\\n",
       "Worker ID                                                                  \n",
       "A3NKJAX21PSNWD  star,blank,question    love,joy,enjou  smile,happy,enjoy   \n",
       "A2JC65REBH7706      sick,ill,unwell  love,smile,heart   fun,laughing,lol   \n",
       "\n",
       "                                😄                     🤣                     🤭  \\\n",
       "Worker ID                                                                       \n",
       "A3NKJAX21PSNWD  smile,happy,enjoy  blank,empty,thinking  blank,empty,thinking   \n",
       "A2JC65REBH7706  happy,smiling,fun       sick,ill,unwell       sick,ill,unwell   \n",
       "\n",
       "                                   👿                     🤔  \\\n",
       "Worker ID                                                    \n",
       "A3NKJAX21PSNWD  angery,tension,avoid  blank,empty,thinking   \n",
       "A2JC65REBH7706  monster,danger,angry       sick,ill,unwell   \n",
       "\n",
       "                                   🤯               😭  \n",
       "Worker ID                                             \n",
       "A3NKJAX21PSNWD  blank,empty,thinking  funny,sad,feel  \n",
       "A2JC65REBH7706       sick,ill,unwell   sad,cry,worry  "
      ]
     },
     "execution_count": 5,
     "metadata": {},
     "output_type": "execute_result"
    }
   ],
   "source": [
    "form1_df.loc[[\"A3NKJAX21PSNWD\",\"A2JC65REBH7706\"]]"
   ]
  },
  {
   "cell_type": "code",
   "execution_count": 6,
   "metadata": {},
   "outputs": [],
   "source": [
    "form1_df.drop([\"A3NKJAX21PSNWD\",\"A2JC65REBH7706\"],inplace=True)"
   ]
  },
  {
   "cell_type": "markdown",
   "metadata": {},
   "source": [
    "## Feature Extraction"
   ]
  },
  {
   "cell_type": "code",
   "execution_count": 7,
   "metadata": {},
   "outputs": [],
   "source": [
    "def user_representation(formdf):\n",
    "    \"\"\"\n",
    "    represent an emoji from a specific user by summing the answer representations together\n",
    "    \n",
    "    Args:\n",
    "        formdf (pd.DataFrame): the data as received in the formular\n",
    "        emoji (string): emoji to \n",
    "    \"\"\"\n",
    "    df = formdf.transpose().copy()\n",
    "    em_reps = []\n",
    "    for em,row in df.iterrows():\n",
    "        new_row = [em]\n",
    "        em_rep = []\n",
    "        for word3 in row:\n",
    "            rep3 = []\n",
    "            for word in word3.split(\",\"):\n",
    "                try:\n",
    "                    wordvec = w2v.get_vector(word)\n",
    "                    rep3.append(wordvec)\n",
    "                except KeyError:\n",
    "                    pass\n",
    "            if len(rep3) > 0:\n",
    "                rep3 = np.sum(rep3,axis=0)\n",
    "                em_rep.append(rep3)\n",
    "        new_row.append(np.array(em_rep))\n",
    "        em_reps.append(new_row)\n",
    "\n",
    "    em_reps = (pd.DataFrame(em_reps,columns=[\"em\",\"reps\"])\n",
    "               .set_index('em'))\n",
    "    return em_reps"
   ]
  },
  {
   "cell_type": "code",
   "execution_count": 8,
   "metadata": {},
   "outputs": [],
   "source": [
    "def unif_representation(form1_df):\n",
    "    \"\"\"\n",
    "    represent an emoji by the sum of each word answers'vector\n",
    "    \"\"\"\n",
    "    df = form1_df.transpose().copy()\n",
    "    em_reps = []\n",
    "    for em,row in df.iterrows():\n",
    "        new_row = [em]\n",
    "        em_rep = []\n",
    "        for word3 in row:\n",
    "            for word in word3.split(\",\"):\n",
    "                try:\n",
    "                    wordvec = w2v.get_vector(word)\n",
    "                    em_rep.append(wordvec)\n",
    "                except KeyError:\n",
    "                    pass\n",
    "        new_row.append(np.array(em_rep))\n",
    "        em_reps.append(new_row)\n",
    "\n",
    "    em_reps_df = (pd.DataFrame(em_reps,columns=[\"em\",\"reps\"])\n",
    "               .set_index('em'))\n",
    "    return em_reps_df"
   ]
  },
  {
   "cell_type": "code",
   "execution_count": 9,
   "metadata": {},
   "outputs": [],
   "source": [
    "user_df = user_representation(form1_df)\n",
    "unif_df = unif_representation(form1_df)"
   ]
  },
  {
   "cell_type": "markdown",
   "metadata": {},
   "source": [
    "## Clustering assessment"
   ]
  },
  {
   "cell_type": "markdown",
   "metadata": {},
   "source": [
    "<div class=\"alert alert-success\"> \n",
    "We try to assess how clustered/centered the data is in the small dataset we received.\n",
    "</div>"
   ]
  },
  {
   "cell_type": "code",
   "execution_count": 10,
   "metadata": {},
   "outputs": [],
   "source": [
    "def compute_det(df):\n",
    "    \"\"\"\n",
    "    compute the determinant of the correlation matrix for each emoji\n",
    "    \"\"\"\n",
    "    df['det'] = df['reps'].apply(lambda x:np.linalg.det(np.corrcoef(x)))"
   ]
  },
  {
   "cell_type": "code",
   "execution_count": 11,
   "metadata": {},
   "outputs": [],
   "source": [
    "compute_det(user_df)\n",
    "compute_det(unif_df)"
   ]
  },
  {
   "cell_type": "code",
   "execution_count": 12,
   "metadata": {},
   "outputs": [],
   "source": [
    "def print_det(df):\n",
    "    \"\"\"\n",
    "    print the determinant\n",
    "    \"\"\"\n",
    "    df = df.sort_values('det')\n",
    "    fig,ax = plt.subplots(1)\n",
    "    ax.set_title(\"Determinant of correlation matrix amongst crowdsourced words vectors\")\n",
    "    df['det'].plot.bar()\n",
    "    fig.show()\n",
    "    print(\"Emojis:\",end=\"\")\n",
    "    for i in df.index:\n",
    "        print(i,end=\" \")"
   ]
  },
  {
   "cell_type": "markdown",
   "metadata": {},
   "source": [
    "TODO: len(set(words used for the given emoji))"
   ]
  },
  {
   "cell_type": "code",
   "execution_count": 13,
   "metadata": {},
   "outputs": [
    {
     "name": "stdout",
     "output_type": "stream",
     "text": [
      "Emojis:😭 🤣 😍 😀 🙂 👿 😄 🤯 🤭 🤔 "
     ]
    },
    {
     "data": {
      "image/png": "[encoded data removed]",
      "text/plain": [
       "<Figure size 432x288 with 1 Axes>"
      ]
     },
     "metadata": {
      "needs_background": "light"
     },
     "output_type": "display_data"
    }
   ],
   "source": [
    "print_det(user_df)"
   ]
  },
  {
   "cell_type": "code",
   "execution_count": 14,
   "metadata": {},
   "outputs": [
    {
     "name": "stdout",
     "output_type": "stream",
     "text": [
      "Emojis:🤔 🙂 😍 😀 😄 🤣 👿 🤯 😭 🤭 "
     ]
    },
    {
     "data": {
      "image/png": "[encoded data removed]",
      "text/plain": [
       "<Figure size 432x288 with 1 Axes>"
      ]
     },
     "metadata": {
      "needs_background": "light"
     },
     "output_type": "display_data"
    }
   ],
   "source": [
    "print_det(unif_df)"
   ]
  },
  {
   "cell_type": "markdown",
   "metadata": {},
   "source": [
    "## Correlations with emoji2vec"
   ]
  },
  {
   "cell_type": "markdown",
   "metadata": {},
   "source": [
    "<div class=\"alert alert-success\"> \n",
    "We compute the correlation between the feature space created by taking the mean/median of the vectors corresponding to the crowd-sourced words: this allow us to check for which emoji a divergence can be observed\n",
    "</div>"
   ]
  },
  {
   "cell_type": "code",
   "execution_count": 15,
   "metadata": {},
   "outputs": [],
   "source": [
    "user_df = user_df[user_df.index.isin(emotions_faces)]\n",
    "unif_df = unif_df[unif_df.index.isin(emotions_faces)]"
   ]
  },
  {
   "cell_type": "code",
   "execution_count": 16,
   "metadata": {},
   "outputs": [],
   "source": [
    "def compute_em2v_vecs(df):\n",
    "    \"\"\"\n",
    "    add the emoji2vec representation, the mean/median rep of the crowdsourced data\n",
    "    along with the corresponding correlations    \n",
    "    \"\"\"\n",
    "    df['em2vec_rep'] = df.index.map(lambda x: e2v.get_vector(x))\n",
    "    \n",
    "    # mean representation of the crowdsourced vectors\n",
    "    df['mean_rep'] = df['reps'].apply(lambda x: np.mean(x,axis=0))\n",
    "    df['corr_mean'] = df[['mean_rep','em2vec_rep']].apply(lambda x:np.corrcoef(x[0],x[1])[0,1],axis=1)\n",
    "    \n",
    "    # median representation of the crowdsourced vectors\n",
    "    df['median_rep'] = df['reps'].apply(lambda x: np.median(x,axis=0))\n",
    "    df['corr_median'] = df[['median_rep','em2vec_rep']].apply(lambda x:np.corrcoef(x[0],x[1])[0,1],axis=1)"
   ]
  },
  {
   "cell_type": "code",
   "execution_count": 17,
   "metadata": {},
   "outputs": [],
   "source": [
    "compute_em2v_vecs(user_df)\n",
    "compute_em2v_vecs(unif_df)"
   ]
  },
  {
   "cell_type": "code",
   "execution_count": 18,
   "metadata": {},
   "outputs": [],
   "source": [
    "def plot_corr(df,agg_type=\"mean\"):\n",
    "    \"\"\"\n",
    "    plot the emojis along with the correlation of their\n",
    "    mean/median representation\n",
    "    \"\"\"\n",
    "    df = df.sort_values(f'corr_{agg_type}')\n",
    "    fig,ax = plt.subplots(1)\n",
    "    ax.set_title(f\"Correlations between {agg_type} of crowdsourced rep and emojivec rep\")\n",
    "    df[f'corr_{agg_type}'].plot.bar()\n",
    "    fig.show()\n",
    "    print(\"Emojis:\",end=\"\")\n",
    "    for i in df.index:\n",
    "        print(i,end=\" \")"
   ]
  },
  {
   "cell_type": "code",
   "execution_count": 19,
   "metadata": {},
   "outputs": [
    {
     "name": "stdout",
     "output_type": "stream",
     "text": [
      "Emojis:🤔 🤣 👿 🙂 😀 😄 😍 😭 "
     ]
    },
    {
     "data": {
      "image/png": "[encoded data removed]",
      "text/plain": [
       "<Figure size 432x288 with 1 Axes>"
      ]
     },
     "metadata": {
      "needs_background": "light"
     },
     "output_type": "display_data"
    }
   ],
   "source": [
    "plot_corr(user_df)"
   ]
  },
  {
   "cell_type": "code",
   "execution_count": 20,
   "metadata": {},
   "outputs": [
    {
     "name": "stdout",
     "output_type": "stream",
     "text": [
      "Emojis:🤔 🤣 👿 🙂 😀 😄 😍 😭 "
     ]
    },
    {
     "data": {
      "image/png": "[encoded data removed]",
      "text/plain": [
       "<Figure size 432x288 with 1 Axes>"
      ]
     },
     "metadata": {
      "needs_background": "light"
     },
     "output_type": "display_data"
    }
   ],
   "source": [
    "plot_corr(user_df,agg_type=\"median\")"
   ]
  },
  {
   "cell_type": "code",
   "execution_count": 21,
   "metadata": {},
   "outputs": [
    {
     "name": "stdout",
     "output_type": "stream",
     "text": [
      "Emojis:🤔 🤣 👿 🙂 😀 😄 😍 😭 "
     ]
    },
    {
     "data": {
      "image/png": "[encoded data removed]",
      "text/plain": [
       "<Figure size 432x288 with 1 Axes>"
      ]
     },
     "metadata": {
      "needs_background": "light"
     },
     "output_type": "display_data"
    }
   ],
   "source": [
    "plot_corr(unif_df,agg_type=\"mean\")"
   ]
  },
  {
   "cell_type": "markdown",
   "metadata": {},
   "source": [
    "## Top representative words"
   ]
  },
  {
   "cell_type": "markdown",
   "metadata": {},
   "source": [
    "<div class=\"alert alert-success\"> \n",
    "We now try to assess which word is the closest to each emoji in the vector space in order <b>to better grasp the emotional representation of each emoji for the users.</b>\n",
    "</div>"
   ]
  },
  {
   "cell_type": "code",
   "execution_count": 22,
   "metadata": {},
   "outputs": [],
   "source": [
    "def get_words_scores(form1_df,user_df,col=\"mean_rep\"):\n",
    "    \"\"\"\n",
    "    return the words appearing with each emoji along with the cosine similarity and the correlation\n",
    "    with the emoji in question\n",
    "    \"\"\"\n",
    "    words_scores_df = form1_df.transpose().agg(\",\".join,axis=1)\n",
    "\n",
    "    words_scores_df = (words_scores_df.apply(lambda x: list(set(x.split(\",\"))))\n",
    "                         .reset_index()\n",
    "                         .rename(columns={0:'word','index':'em'}))\n",
    "\n",
    "    words_scores_df = words_scores_df.explode(\"word\")\n",
    "\n",
    "    # we keep the words that are present in the vocabulary of word2vec\n",
    "    words_scores_df = words_scores_df[words_scores_df.word.isin(w2v.vocab)]\n",
    "    # extract the word vectors\n",
    "    words_scores_df['wordvec'] = words_scores_df['word'].apply(lambda word: w2v.get_vector(word))\n",
    "\n",
    "    words_scores_df = pd.merge(words_scores_df,user_df[col],on='em',how='inner')\n",
    "    words_scores_df['word_corr'] = words_scores_df[['wordvec',col]].apply(lambda x:np.corrcoef(x[0],x[1])[0,1],axis=1)\n",
    "\n",
    "    words_scores_df['word_cossim'] = words_scores_df[['wordvec',col]].apply(lambda x:(1-spatial.distance.cosine(x[0], x[1])),axis=1)\n",
    "    return words_scores_df"
   ]
  },
  {
   "cell_type": "code",
   "execution_count": 23,
   "metadata": {},
   "outputs": [],
   "source": [
    "words_scores_meanvec_df = get_words_scores(form1_df,user_df)\n",
    "words_scores_em2vec_df = get_words_scores(form1_df,user_df,col=\"em2vec_rep\")"
   ]
  },
  {
   "cell_type": "code",
   "execution_count": 24,
   "metadata": {},
   "outputs": [],
   "source": [
    "def print_best_words_emojis(words_scores_df,col='word_corr',em=None):\n",
    "    \"\"\"\n",
    "    Plots the most correlated words alongs with the score for each emoji\n",
    "    \n",
    "    Args:\n",
    "        words_scores_df (pd.DataFrame): as returned by get_words_scores\n",
    "        col (str): metric of interest: either \"word_corr\" or \"word_cossim\"\n",
    "        em (str): if specified, plots the scores only for this emoji\n",
    "    \"\"\"\n",
    "    words_scores_df = words_scores_df.sort_values(['em',col],ascending=False)\n",
    "    words_scores_df = words_scores_df.groupby('em')[['word',col]].agg(list)\n",
    "    \n",
    "    if em is not None:\n",
    "        words_scores_df = words_scores_df[words_scores_df.index == em]\n",
    "    print(\"Closest words in vector space:\")\n",
    "    for em,(words,words_corr) in words_scores_df[['word',col]].iterrows():\n",
    "        print(f\"Emoji{em}:\")\n",
    "        for word,word_corr in zip(words,words_corr):\n",
    "            print(f\"\\t{word} {word_corr:.2f}\")"
   ]
  },
  {
   "cell_type": "code",
   "execution_count": 25,
   "metadata": {},
   "outputs": [],
   "source": [
    "def get_words_counts(form1_df,em):\n",
    "    \"\"\"\n",
    "    Print the most common words in the crowdsourced data for the emoji\n",
    "    passed in parameter\n",
    "    \n",
    "    Args:\n",
    "        form1_df (pd.DataFrame): as defined above\n",
    "        em (str): emoji of interest\n",
    "    \"\"\"\n",
    "    print(\"Sorted most common words in crowdsourced data:\")\n",
    "    word_counts = pd.Series(form1_df\n",
    "                  .transpose()\n",
    "                  .agg(\",\".join,axis=1)\n",
    "                  .loc[em]\n",
    "                  .split(\",\")).value_counts()\n",
    "    print(f\"Emoji:{em}:\")\n",
    "    for word,count in word_counts.iteritems():\n",
    "        print(f\"\\t{word} {count}\")"
   ]
  },
  {
   "cell_type": "code",
   "execution_count": 26,
   "metadata": {},
   "outputs": [],
   "source": [
    "def plot_best_words_emojis(words_scores_df,em,col='word_corr'):\n",
    "    \"\"\"\n",
    "    Plots the most correlated words alongs with the score for each emoji\n",
    "    \n",
    "    Args:\n",
    "        words_scores_df (pd.DataFrame): as returned by get_words_scores\n",
    "        col (str): metric of interest: either \"word_corr\" or \"word_cossim\"\n",
    "        em (str): if specified, plots the scores only for this emoji\n",
    "    \"\"\"\n",
    "    words_scores_df = words_scores_df[words_scores_df['em'] == em]\n",
    "    words_scores_df = words_scores_df.sort_values(['em',col],ascending=False)\n",
    "    print(f\"Emoji {em}:\")\n",
    "    fig,ax = plt.subplots(1,1)\n",
    "    words_scores_df.plot.bar(ax=ax,x=\"word\",y=\"word_corr\")\n",
    "    ax.set_title(\"Word Correlation between crowdsourced data and emoji\")"
   ]
  },
  {
   "cell_type": "code",
   "execution_count": 29,
   "metadata": {},
   "outputs": [
    {
     "name": "stdout",
     "output_type": "stream",
     "text": [
      "Emoji2vec representation:\n",
      "Emoji 🤔:\n"
     ]
    },
    {
     "data": {
      "image/png": "[encoded data removed]",
      "text/plain": [
       "<Figure size 432x288 with 1 Axes>"
      ]
     },
     "metadata": {
      "needs_background": "light"
     },
     "output_type": "display_data"
    }
   ],
   "source": [
    "# list of emojis: 🙂😍😀😄🤣👿🤔😭\n",
    "emoji_of_interest = \"🤔\"\n",
    "print(\"Emoji2vec representation:\")\n",
    "plot_best_words_emojis(words_scores_em2vec_df,em=emoji_of_interest)"
   ]
  },
  {
   "cell_type": "code",
   "execution_count": 30,
   "metadata": {},
   "outputs": [
    {
     "name": "stdout",
     "output_type": "stream",
     "text": [
      "Mean Crowdsourced data representation:\n",
      "Emoji 🤔:\n"
     ]
    },
    {
     "data": {
      "image/png": "[encoded data removed]",
      "text/plain": [
       "<Figure size 432x288 with 1 Axes>"
      ]
     },
     "metadata": {
      "needs_background": "light"
     },
     "output_type": "display_data"
    }
   ],
   "source": [
    "print(\"Mean Crowdsourced data representation:\")\n",
    "plot_best_words_emojis(words_scores_meanvec_df,em=emoji_of_interest)"
   ]
  },
  {
   "cell_type": "markdown",
   "metadata": {},
   "source": [
    "<img src=\"../results/tsne/faces_tsne_words.jpeg\"></div>"
   ]
  },
  {
   "cell_type": "code",
   "execution_count": null,
   "metadata": {},
   "outputs": [],
   "source": []
  }
 ],
 "metadata": {
  "kernelspec": {
   "display_name": "Python 3",
   "language": "python",
   "name": "python3"
  },
  "language_info": {
   "codemirror_mode": {
    "name": "ipython",
    "version": 3
   },
   "file_extension": ".py",
   "mimetype": "text/x-python",
   "name": "python",
   "nbconvert_exporter": "python",
   "pygments_lexer": "ipython3",
   "version": "3.6.9"
  }
 },
 "nbformat": 4,
 "nbformat_minor": 4
}
