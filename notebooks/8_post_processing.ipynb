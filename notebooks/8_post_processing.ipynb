{
 "cells": [
  {
   "cell_type": "code",
   "execution_count": 1,
   "metadata": {},
   "outputs": [],
   "source": [
    "%load_ext autoreload\n",
    "%autoreload 2"
   ]
  },
  {
   "cell_type": "code",
   "execution_count": 2,
   "metadata": {},
   "outputs": [],
   "source": [
    "import pandas as pd\n",
    "import Levenshtein\n",
    "from pathlib import Path\n",
    "import pickle as pk\n",
    "import numpy as np\n",
    "import pickle as pk\n",
    "\n",
    "from src.analysis.fraudulous import filter_out, detect_honey_frauders, detect_repeat_frauders,study_outsiders\n",
    "from src.constants import HONEYPOTS, EMOJI_DATASET_DIR, HONEYPOTS, EM_VOC_COUNT, EMOJI_DATASET_EXPORT_DIR\n",
    "from src.analysis.postprocessing import (scrap_form_results, get_emojis_voc_counts, write_emojis_voc_counts,\n",
    "                                         display_whole_dir, generate_production_format, build_worker_info_table)\n",
    "from src.analysis.spelling import WordSuggester\n",
    "import matplotlib.pyplot as plt"
   ]
  },
  {
   "cell_type": "code",
   "execution_count": 3,
   "metadata": {},
   "outputs": [],
   "source": [
    "# create the worker infos table\n",
    "worker_infos = build_worker_info_table(input_directory=EMOJI_DATASET_DIR,\n",
    "                                       output_dir=EMOJI_DATASET_EXPORT_DIR)"
   ]
  },
  {
   "cell_type": "markdown",
   "metadata": {},
   "source": [
    "# Postprocessing"
   ]
  },
  {
   "cell_type": "markdown",
   "metadata": {},
   "source": [
    "<div class=\"alert alert-success\">\n",
    "Postprocessing of data gathered from mturk/gform\n",
    "</div>"
   ]
  },
  {
   "cell_type": "markdown",
   "metadata": {},
   "source": [
    "## Frauder Detection"
   ]
  },
  {
   "cell_type": "code",
   "execution_count": 4,
   "metadata": {},
   "outputs": [
    {
     "name": "stderr",
     "output_type": "stream",
     "text": [
      "100%|██████████| 133/133 [00:54<00:00,  2.45it/s]"
     ]
    },
    {
     "name": "stdout",
     "output_type": "stream",
     "text": [
      "Initial data shape: 4042 rows\n"
     ]
    },
    {
     "name": "stderr",
     "output_type": "stream",
     "text": [
      "\n"
     ]
    }
   ],
   "source": [
    "# List of all df in child directories of dataset dir\n",
    "form_dfs = scrap_form_results(EMOJI_DATASET_DIR)\n",
    "\n",
    "N = sum([df.shape[0] for df in form_dfs])\n",
    "print(f\"Initial data shape: {N} rows\")"
   ]
  },
  {
   "cell_type": "markdown",
   "metadata": {},
   "source": [
    "#### Repeat frauders"
   ]
  },
  {
   "cell_type": "code",
   "execution_count": 5,
   "metadata": {},
   "outputs": [
    {
     "name": "stdout",
     "output_type": "stream",
     "text": [
      "Discarded 1 rows\n"
     ]
    }
   ],
   "source": [
    "n_frauders, form_dfs = filter_out(\n",
    "    form_dfs, detect_repeat_frauders, 0.8, verbose=True, display_=False)"
   ]
  },
  {
   "cell_type": "markdown",
   "metadata": {},
   "source": [
    "#### Honeypots frauders"
   ]
  },
  {
   "cell_type": "code",
   "execution_count": 6,
   "metadata": {},
   "outputs": [
    {
     "name": "stdout",
     "output_type": "stream",
     "text": [
      "Discarded 433 rows\n"
     ]
    }
   ],
   "source": [
    "honeypots = HONEYPOTS\n",
    "dist_lshtein = 2\n",
    "\n",
    "# Uncomment the cell to check for refused honeypots words\n",
    "# study_outsiders(form_dfs,HONEYPOTS,dist_lshtein)\n",
    "\n",
    "n_honey, form_dfs = filter_out(\n",
    "    form_dfs, detect_honey_frauders, HONEYPOTS, dist_lshtein=dist_lshtein, verbose=True)"
   ]
  },
  {
   "cell_type": "markdown",
   "metadata": {},
   "source": [
    "## Visualizing the vocabulary "
   ]
  },
  {
   "cell_type": "markdown",
   "metadata": {},
   "source": [
    "<div class=\"alert alert-success\">\n",
    "We compute the value counts of every word for each emoji and save it to a file.\n",
    "</div>"
   ]
  },
  {
   "cell_type": "code",
   "execution_count": 7,
   "metadata": {},
   "outputs": [],
   "source": [
    "em2vocab = get_emojis_voc_counts(EMOJI_DATASET_DIR)\n",
    "write_emojis_voc_counts(em2vocab, EM_VOC_COUNT)"
   ]
  },
  {
   "cell_type": "markdown",
   "metadata": {},
   "source": [
    "## Generating final format"
   ]
  },
  {
   "cell_type": "code",
   "execution_count": 94,
   "metadata": {},
   "outputs": [
    {
     "name": "stderr",
     "output_type": "stream",
     "text": [
      "100%|██████████| 133/133 [00:02<00:00, 45.67it/s]\n"
     ]
    }
   ],
   "source": [
    "tot_df = generate_production_format(form_dfs, EMOJI_DATASET_EXPORT_DIR)"
   ]
  },
  {
   "cell_type": "markdown",
   "metadata": {},
   "source": [
    "### Correcting misspelled words"
   ]
  },
  {
   "cell_type": "code",
   "execution_count": 95,
   "metadata": {},
   "outputs": [
    {
     "name": "stdout",
     "output_type": "stream",
     "text": [
      "Initializing the vocabulary set..\n",
      "Initializing BERT pipeline..\n"
     ]
    },
    {
     "name": "stderr",
     "output_type": "stream",
     "text": [
      " 10%|█         | 3/30 [00:00<00:01, 13.91it/s]"
     ]
    },
    {
     "name": "stdout",
     "output_type": "stream",
     "text": [
      "Modified:  astrik --> astrid (corrected)\n",
      "Modified:  asterik --> asterisk (cross_suggested)\n",
      "Modified:  coppyright --> copyright (cross_suggested)\n",
      "Modified:  cee --> cen (corrected)\n"
     ]
    },
    {
     "name": "stderr",
     "output_type": "stream",
     "text": [
      "100%|██████████| 30/30 [00:00<00:00, 66.13it/s]"
     ]
    },
    {
     "name": "stdout",
     "output_type": "stream",
     "text": [
      "Modified:  circler --> circle r (disassembled2)\n",
      "Modified:  capitalr --> capital r (disassembled2)\n",
      "Modified:  excalmation --> exclamation (cross_suggested)\n",
      "Modified:  exclamationquestion --> exclamation question (disassembled1)\n",
      "Modified:  leftright --> left right (disassembled1)\n",
      "Modified:  leftorright --> left or right (disassembled1)\n",
      "Modified:  whichway --> which way (disassembled1)\n",
      "Modified:  upanddown --> up and down (disassembled1)\n",
      "Modified:  upleftarrow --> up left arrow (disassembled1)\n",
      "Modified:  risingsign --> rising sign (disassembled1)\n",
      "Modified:  thatway --> that way (disassembled1)\n",
      "Modified:  arrowbottomleftcorner --> arrow bottom left corner (disassembled1)\n",
      "Modified:  sandglass --> sand glass (disassembled1)\n",
      "Modified:  playandstop --> play and stop (disassembled1)\n",
      "Nof found:  fastfoward\n",
      "Modified:  backtotop --> back to top (disassembled1)\n",
      "Modified:  uparrow --> up arrow (disassembled2)\n",
      "Modified:  foward --> forward (cross_suggested)\n",
      "Modified:  downvote --> down vote (disassembled1)\n",
      "Modified:  fastforward --> fast forward (disassembled1)\n",
      "Modified:  weightmachine --> weight machine (disassembled1)\n",
      "Modified:  sandtimer --> sand timer (disassembled1)\n",
      "Modified:  clepsydre --> clepsydra (corrected)\n",
      "Modified:  sandclock --> sand clock (disassembled1)\n"
     ]
    },
    {
     "name": "stderr",
     "output_type": "stream",
     "text": [
      "\n"
     ]
    }
   ],
   "source": [
    "sugg = WordSuggester()\n",
    "sugg.correct_prod_df(tot_df,debug=True)"
   ]
  },
  {
   "cell_type": "markdown",
   "metadata": {},
   "source": [
    "## Plotting Statistics"
   ]
  },
  {
   "cell_type": "code",
   "execution_count": 26,
   "metadata": {},
   "outputs": [
    {
     "data": {
      "image/png": "[encoded data removed]",
      "text/plain": [
       "<Figure size 1080x360 with 2 Axes>"
      ]
     },
     "metadata": {
      "needs_background": "light"
     },
     "output_type": "display_data"
    }
   ],
   "source": [
    "def plot_hist_num_anot_per_emoji(tot_df):\n",
    "    \"\"\"\n",
    "    \"\"\"\n",
    "    fig,axes = plt.subplots(1,2,figsize=(15,5))\n",
    "    \n",
    "    ax = axes[0]\n",
    "    val_counts = tot_df['emoji'].value_counts()\n",
    "    val_counts.hist(ax=ax)\n",
    "    ax.set_xlabel(\"Number of annotations\")\n",
    "    ax.set_ylabel(\"Number of emojis\")\n",
    "    ax.set_title(\"Histogram of annotations number per emojis\")\n",
    "    \n",
    "    ax = axes[1]\n",
    "    voc_size_per_emoji = tot_df.groupby('emoji')['word'].agg(lambda x: len(set(x)))\n",
    "    voc_size_per_emoji = voc_size_per_emoji / val_counts\n",
    "    voc_size_per_emoji.hist(ax=ax,bins=25)\n",
    "    ax.set_xlabel('Size of vocabulary/word')\n",
    "    ax.set_ylabel('Number of emojis')\n",
    "    ax.set_title('Histogram of normalized vocabulary size')\n",
    "\n",
    "plot_hist_num_anot_per_emoji(tot_df)"
   ]
  }
 ],
 "metadata": {
  "kernelspec": {
   "display_name": "Python 3",
   "language": "python",
   "name": "python3"
  },
  "language_info": {
   "codemirror_mode": {
    "name": "ipython",
    "version": 3
   },
   "file_extension": ".py",
   "mimetype": "text/x-python",
   "name": "python",
   "nbconvert_exporter": "python",
   "pygments_lexer": "ipython3",
   "version": "3.6.9"
  }
 },
 "nbformat": 4,
 "nbformat_minor": 4
}
