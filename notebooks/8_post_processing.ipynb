{
 "cells": [
  {
   "cell_type": "code",
   "execution_count": 1,
   "metadata": {},
   "outputs": [],
   "source": [
    "%load_ext autoreload\n",
    "%autoreload 2"
   ]
  },
  {
   "cell_type": "code",
   "execution_count": 6,
   "metadata": {},
   "outputs": [],
   "source": [
    "from src.analysis.fraudulous import detect_honey_frauders\n",
    "from src.constants import HONEYPOTS, LOG_FORMS_RESULTS_DIR\n",
    "import pandas as pd\n",
    "import Levenshtein\n",
    "from pathlib import Path\n",
    "import pickle as pk\n",
    "from src.data.postprocessing import (get_emojis_voc_counts,write_emojis_voc_counts,\n",
    "                                     display_whole_dir,generate_production_format)\n",
    "import numpy as np\n",
    "import pickle as pk"
   ]
  },
  {
   "cell_type": "markdown",
   "metadata": {},
   "source": [
    "# Postprocessing"
   ]
  },
  {
   "cell_type": "markdown",
   "metadata": {},
   "source": [
    "<div class=\"alert alert-success\">\n",
    "Postprocessing of data gathered from mturk/gform\n",
    "</div>"
   ]
  },
  {
   "cell_type": "code",
   "execution_count": 5,
   "metadata": {
    "collapsed": true,
    "jupyter": {
     "outputs_hidden": true
    }
   },
   "outputs": [
    {
     "data": {
      "text/html": [
       "<div>\n",
       "<style scoped>\n",
       "    .dataframe tbody tr th:only-of-type {\n",
       "        vertical-align: middle;\n",
       "    }\n",
       "\n",
       "    .dataframe tbody tr th {\n",
       "        vertical-align: top;\n",
       "    }\n",
       "\n",
       "    .dataframe thead th {\n",
       "        text-align: right;\n",
       "    }\n",
       "</style>\n",
       "<table border=\"1\" class=\"dataframe\">\n",
       "  <thead>\n",
       "    <tr style=\"text-align: right;\">\n",
       "      <th></th>\n",
       "      <th>Timestamp</th>\n",
       "      <th>WorkerID</th>\n",
       "      <th>🔈</th>\n",
       "      <th>🥜</th>\n",
       "      <th>😆</th>\n",
       "      <th>📭</th>\n",
       "      <th>🎞️</th>\n",
       "      <th>☂️</th>\n",
       "      <th>💣</th>\n",
       "      <th>🛐</th>\n",
       "      <th>🌸</th>\n",
       "      <th>🛣️</th>\n",
       "      <th>📡</th>\n",
       "      <th>Feedback</th>\n",
       "    </tr>\n",
       "  </thead>\n",
       "  <tbody>\n",
       "    <tr>\n",
       "      <th>0</th>\n",
       "      <td>02/12/2020 14:50:48</td>\n",
       "      <td>A30UE6DWFNUCWX</td>\n",
       "      <td>volume</td>\n",
       "      <td>peanut</td>\n",
       "      <td>laughing</td>\n",
       "      <td>mailbox</td>\n",
       "      <td>film</td>\n",
       "      <td>umbrella</td>\n",
       "      <td>bomb</td>\n",
       "      <td>praying</td>\n",
       "      <td>flower</td>\n",
       "      <td>highway</td>\n",
       "      <td>satellite</td>\n",
       "      <td>it was fun thanks so much</td>\n",
       "    </tr>\n",
       "    <tr>\n",
       "      <th>1</th>\n",
       "      <td>02/12/2020 14:51:58</td>\n",
       "      <td>AWN1PEZWRQSQ9</td>\n",
       "      <td>volume</td>\n",
       "      <td>peanut</td>\n",
       "      <td>laughter</td>\n",
       "      <td>mailbox</td>\n",
       "      <td>film</td>\n",
       "      <td>umbrella</td>\n",
       "      <td>bomb</td>\n",
       "      <td>church</td>\n",
       "      <td>flower</td>\n",
       "      <td>exit</td>\n",
       "      <td>satalight</td>\n",
       "      <td>NaN</td>\n",
       "    </tr>\n",
       "    <tr>\n",
       "      <th>2</th>\n",
       "      <td>02/12/2020 14:52:10</td>\n",
       "      <td>A18T7E73TNGOKP</td>\n",
       "      <td>speaker</td>\n",
       "      <td>peanut</td>\n",
       "      <td>laughing</td>\n",
       "      <td>mailbox</td>\n",
       "      <td>film</td>\n",
       "      <td>umbrella</td>\n",
       "      <td>bomb</td>\n",
       "      <td>pray</td>\n",
       "      <td>flower</td>\n",
       "      <td>freeway</td>\n",
       "      <td>satellite</td>\n",
       "      <td>no</td>\n",
       "    </tr>\n",
       "    <tr>\n",
       "      <th>3</th>\n",
       "      <td>02/12/2020 14:53:01</td>\n",
       "      <td>A2YO837C0O1E91</td>\n",
       "      <td>volume</td>\n",
       "      <td>peanut</td>\n",
       "      <td>laughing</td>\n",
       "      <td>mailbox</td>\n",
       "      <td>film</td>\n",
       "      <td>umbrella</td>\n",
       "      <td>bomb</td>\n",
       "      <td>pray</td>\n",
       "      <td>flower</td>\n",
       "      <td>highway</td>\n",
       "      <td>cable</td>\n",
       "      <td>NaN</td>\n",
       "    </tr>\n",
       "    <tr>\n",
       "      <th>4</th>\n",
       "      <td>02/12/2020 14:59:56</td>\n",
       "      <td>A2D2JX8R0QU9G4</td>\n",
       "      <td>speaker</td>\n",
       "      <td>peanut</td>\n",
       "      <td>laugh</td>\n",
       "      <td>mailbox</td>\n",
       "      <td>flim</td>\n",
       "      <td>umbrella</td>\n",
       "      <td>bomb</td>\n",
       "      <td>worship</td>\n",
       "      <td>flower</td>\n",
       "      <td>highway</td>\n",
       "      <td>antenna</td>\n",
       "      <td>Nothing</td>\n",
       "    </tr>\n",
       "    <tr>\n",
       "      <th>5</th>\n",
       "      <td>02/12/2020 15:01:44</td>\n",
       "      <td>A12OZ7P7Z41SJI</td>\n",
       "      <td>sound</td>\n",
       "      <td>peanuts</td>\n",
       "      <td>laugh</td>\n",
       "      <td>mail</td>\n",
       "      <td>video</td>\n",
       "      <td>rain</td>\n",
       "      <td>bomb</td>\n",
       "      <td>shelter</td>\n",
       "      <td>flower</td>\n",
       "      <td>highway</td>\n",
       "      <td>satelite</td>\n",
       "      <td>NaN</td>\n",
       "    </tr>\n",
       "    <tr>\n",
       "      <th>6</th>\n",
       "      <td>02/12/2020 15:02:19</td>\n",
       "      <td>A143XRCI1YXAFE</td>\n",
       "      <td>volume</td>\n",
       "      <td>peanut</td>\n",
       "      <td>laugh</td>\n",
       "      <td>mail</td>\n",
       "      <td>film</td>\n",
       "      <td>umbrella</td>\n",
       "      <td>bomb</td>\n",
       "      <td>pray</td>\n",
       "      <td>lilly</td>\n",
       "      <td>highway</td>\n",
       "      <td>satelite</td>\n",
       "      <td>NaN</td>\n",
       "    </tr>\n",
       "    <tr>\n",
       "      <th>7</th>\n",
       "      <td>02/12/2020 15:07:34</td>\n",
       "      <td>A2ALESYWNEZU1D</td>\n",
       "      <td>speaker</td>\n",
       "      <td>peanut</td>\n",
       "      <td>laugh</td>\n",
       "      <td>mailbox</td>\n",
       "      <td>flim</td>\n",
       "      <td>umbrella</td>\n",
       "      <td>bomb</td>\n",
       "      <td>worship</td>\n",
       "      <td>flower</td>\n",
       "      <td>highway</td>\n",
       "      <td>antenna</td>\n",
       "      <td>Nothing</td>\n",
       "    </tr>\n",
       "    <tr>\n",
       "      <th>8</th>\n",
       "      <td>02/12/2020 15:09:09</td>\n",
       "      <td>A13OMD8QDV0YON</td>\n",
       "      <td>sound</td>\n",
       "      <td>peanut</td>\n",
       "      <td>lfunny</td>\n",
       "      <td>mail</td>\n",
       "      <td>movie</td>\n",
       "      <td>umbrella</td>\n",
       "      <td>bomb</td>\n",
       "      <td>pray</td>\n",
       "      <td>flower</td>\n",
       "      <td>highway</td>\n",
       "      <td>signal</td>\n",
       "      <td>NaN</td>\n",
       "    </tr>\n",
       "    <tr>\n",
       "      <th>9</th>\n",
       "      <td>02/12/2020 16:16:47</td>\n",
       "      <td>AAQREZOK13OV7</td>\n",
       "      <td>sound</td>\n",
       "      <td>peanut</td>\n",
       "      <td>laughing</td>\n",
       "      <td>mail</td>\n",
       "      <td>film</td>\n",
       "      <td>umbrella</td>\n",
       "      <td>bomb</td>\n",
       "      <td>prayer</td>\n",
       "      <td>flower</td>\n",
       "      <td>driving</td>\n",
       "      <td>satellite</td>\n",
       "      <td>NaN</td>\n",
       "    </tr>\n",
       "  </tbody>\n",
       "</table>\n",
       "</div>"
      ],
      "text/plain": [
       "             Timestamp       WorkerID        🔈        🥜         😆        📭  \\\n",
       "0  02/12/2020 14:50:48  A30UE6DWFNUCWX   volume   peanut  laughing  mailbox   \n",
       "1  02/12/2020 14:51:58   AWN1PEZWRQSQ9   volume   peanut  laughter  mailbox   \n",
       "2  02/12/2020 14:52:10  A18T7E73TNGOKP  speaker   peanut  laughing  mailbox   \n",
       "3  02/12/2020 14:53:01  A2YO837C0O1E91   volume   peanut  laughing  mailbox   \n",
       "4  02/12/2020 14:59:56  A2D2JX8R0QU9G4  speaker   peanut     laugh  mailbox   \n",
       "5  02/12/2020 15:01:44  A12OZ7P7Z41SJI    sound  peanuts     laugh     mail   \n",
       "6  02/12/2020 15:02:19  A143XRCI1YXAFE   volume   peanut     laugh     mail   \n",
       "7  02/12/2020 15:07:34  A2ALESYWNEZU1D  speaker   peanut     laugh  mailbox   \n",
       "8  02/12/2020 15:09:09  A13OMD8QDV0YON    sound   peanut    lfunny     mail   \n",
       "9  02/12/2020 16:16:47   AAQREZOK13OV7    sound   peanut  laughing     mail   \n",
       "\n",
       "      🎞️        ☂️     💣        🛐       🌸       🛣️          📡  \\\n",
       "0   film  umbrella  bomb  praying  flower  highway  satellite   \n",
       "1   film  umbrella  bomb   church  flower     exit  satalight   \n",
       "2   film  umbrella  bomb     pray  flower  freeway  satellite   \n",
       "3   film  umbrella  bomb     pray  flower  highway      cable   \n",
       "4   flim  umbrella  bomb  worship  flower  highway    antenna   \n",
       "5  video      rain  bomb  shelter  flower  highway   satelite   \n",
       "6   film  umbrella  bomb     pray   lilly  highway   satelite   \n",
       "7   flim  umbrella  bomb  worship  flower  highway    antenna   \n",
       "8  movie  umbrella  bomb     pray  flower  highway     signal   \n",
       "9   film  umbrella  bomb   prayer  flower  driving  satellite   \n",
       "\n",
       "                    Feedback  \n",
       "0  it was fun thanks so much  \n",
       "1                        NaN  \n",
       "2                         no  \n",
       "3                        NaN  \n",
       "4                    Nothing  \n",
       "5                        NaN  \n",
       "6                        NaN  \n",
       "7                    Nothing  \n",
       "8                        NaN  \n",
       "9                        NaN  "
      ]
     },
     "metadata": {},
     "output_type": "display_data"
    },
    {
     "data": {
      "text/html": [
       "<div>\n",
       "<style scoped>\n",
       "    .dataframe tbody tr th:only-of-type {\n",
       "        vertical-align: middle;\n",
       "    }\n",
       "\n",
       "    .dataframe tbody tr th {\n",
       "        vertical-align: top;\n",
       "    }\n",
       "\n",
       "    .dataframe thead th {\n",
       "        text-align: right;\n",
       "    }\n",
       "</style>\n",
       "<table border=\"1\" class=\"dataframe\">\n",
       "  <thead>\n",
       "    <tr style=\"text-align: right;\">\n",
       "      <th></th>\n",
       "      <th>Timestamp</th>\n",
       "      <th>WorkerID</th>\n",
       "      <th>👨‍💼</th>\n",
       "      <th>🛋️</th>\n",
       "      <th>🥴</th>\n",
       "      <th>🖲️</th>\n",
       "      <th>🤤</th>\n",
       "      <th>⭐</th>\n",
       "      <th>🥘</th>\n",
       "      <th>💊</th>\n",
       "      <th>🔨</th>\n",
       "      <th>😮</th>\n",
       "      <th>📟</th>\n",
       "      <th>Feedback</th>\n",
       "    </tr>\n",
       "  </thead>\n",
       "  <tbody>\n",
       "    <tr>\n",
       "      <th>0</th>\n",
       "      <td>02/12/2020 14:50:37</td>\n",
       "      <td>AWN1PEZWRQSQ9</td>\n",
       "      <td>office</td>\n",
       "      <td>couch</td>\n",
       "      <td>crazy</td>\n",
       "      <td>space</td>\n",
       "      <td>drool</td>\n",
       "      <td>star</td>\n",
       "      <td>stewpot</td>\n",
       "      <td>pills</td>\n",
       "      <td>hammer</td>\n",
       "      <td>wow</td>\n",
       "      <td>pager</td>\n",
       "      <td>NaN</td>\n",
       "    </tr>\n",
       "    <tr>\n",
       "      <th>1</th>\n",
       "      <td>02/12/2020 14:52:51</td>\n",
       "      <td>A30UE6DWFNUCWX</td>\n",
       "      <td>employee</td>\n",
       "      <td>couch</td>\n",
       "      <td>nervous</td>\n",
       "      <td>knight</td>\n",
       "      <td>drooling</td>\n",
       "      <td>star</td>\n",
       "      <td>soup</td>\n",
       "      <td>pill</td>\n",
       "      <td>hammer</td>\n",
       "      <td>shocked</td>\n",
       "      <td>pager</td>\n",
       "      <td>thank you!</td>\n",
       "    </tr>\n",
       "    <tr>\n",
       "      <th>2</th>\n",
       "      <td>02/12/2020 14:53:25</td>\n",
       "      <td>A18T7E73TNGOKP</td>\n",
       "      <td>presentation</td>\n",
       "      <td>livingroom</td>\n",
       "      <td>drunk</td>\n",
       "      <td>ufo</td>\n",
       "      <td>drooling</td>\n",
       "      <td>star</td>\n",
       "      <td>food</td>\n",
       "      <td>pill</td>\n",
       "      <td>hammer</td>\n",
       "      <td>shocked</td>\n",
       "      <td>creditcard</td>\n",
       "      <td>NaN</td>\n",
       "    </tr>\n",
       "    <tr>\n",
       "      <th>3</th>\n",
       "      <td>02/12/2020 15:01:03</td>\n",
       "      <td>A345VDWYMDWTGD</td>\n",
       "      <td>stocks</td>\n",
       "      <td>furniture</td>\n",
       "      <td>drunk</td>\n",
       "      <td>button</td>\n",
       "      <td>drooling</td>\n",
       "      <td>star</td>\n",
       "      <td>skillet</td>\n",
       "      <td>pill</td>\n",
       "      <td>hammer</td>\n",
       "      <td>wow</td>\n",
       "      <td>card</td>\n",
       "      <td>NaN</td>\n",
       "    </tr>\n",
       "    <tr>\n",
       "      <th>4</th>\n",
       "      <td>02/12/2020 15:01:59</td>\n",
       "      <td>A2D2JX8R0QU9G4</td>\n",
       "      <td>manager</td>\n",
       "      <td>sofa</td>\n",
       "      <td>guilt</td>\n",
       "      <td>bot</td>\n",
       "      <td>vomit</td>\n",
       "      <td>star</td>\n",
       "      <td>cook</td>\n",
       "      <td>capsule</td>\n",
       "      <td>hammer</td>\n",
       "      <td>exclamation</td>\n",
       "      <td>calculator</td>\n",
       "      <td>Nothing</td>\n",
       "    </tr>\n",
       "    <tr>\n",
       "      <th>5</th>\n",
       "      <td>02/12/2020 15:10:40</td>\n",
       "      <td>A13OMD8QDV0YON</td>\n",
       "      <td>work</td>\n",
       "      <td>couch</td>\n",
       "      <td>confused</td>\n",
       "      <td>alien</td>\n",
       "      <td>funny</td>\n",
       "      <td>star</td>\n",
       "      <td>food</td>\n",
       "      <td>medicine</td>\n",
       "      <td>tool</td>\n",
       "      <td>surprised</td>\n",
       "      <td>pager</td>\n",
       "      <td>NaN</td>\n",
       "    </tr>\n",
       "    <tr>\n",
       "      <th>6</th>\n",
       "      <td>02/12/2020 15:11:32</td>\n",
       "      <td>A1PLZ8RM4NW43J</td>\n",
       "      <td>businessman</td>\n",
       "      <td>couch</td>\n",
       "      <td>awkward</td>\n",
       "      <td>button</td>\n",
       "      <td>drool</td>\n",
       "      <td>star</td>\n",
       "      <td>stew</td>\n",
       "      <td>pill</td>\n",
       "      <td>hammer</td>\n",
       "      <td>wow</td>\n",
       "      <td>pager</td>\n",
       "      <td>NaN</td>\n",
       "    </tr>\n",
       "    <tr>\n",
       "      <th>7</th>\n",
       "      <td>02/12/2020 15:12:11</td>\n",
       "      <td>A143XRCI1YXAFE</td>\n",
       "      <td>presentation</td>\n",
       "      <td>sofa</td>\n",
       "      <td>silly</td>\n",
       "      <td>button</td>\n",
       "      <td>yum</td>\n",
       "      <td>star</td>\n",
       "      <td>paella</td>\n",
       "      <td>pill</td>\n",
       "      <td>hammer</td>\n",
       "      <td>wow</td>\n",
       "      <td>pager</td>\n",
       "      <td>NaN</td>\n",
       "    </tr>\n",
       "    <tr>\n",
       "      <th>8</th>\n",
       "      <td>02/12/2020 15:23:38</td>\n",
       "      <td>A15OKHGB4RDA9P</td>\n",
       "      <td>happy</td>\n",
       "      <td>couch</td>\n",
       "      <td>sick</td>\n",
       "      <td>button</td>\n",
       "      <td>happy</td>\n",
       "      <td>star</td>\n",
       "      <td>lunch</td>\n",
       "      <td>tablet</td>\n",
       "      <td>hammer</td>\n",
       "      <td>wow</td>\n",
       "      <td>calculator</td>\n",
       "      <td>good</td>\n",
       "    </tr>\n",
       "    <tr>\n",
       "      <th>9</th>\n",
       "      <td>02/12/2020 15:44:40</td>\n",
       "      <td>A12OZ7P7Z41SJI</td>\n",
       "      <td>teacher</td>\n",
       "      <td>home</td>\n",
       "      <td>crazy</td>\n",
       "      <td>button</td>\n",
       "      <td>drool</td>\n",
       "      <td>star</td>\n",
       "      <td>dinner</td>\n",
       "      <td>medicine</td>\n",
       "      <td>hammer</td>\n",
       "      <td>ohh</td>\n",
       "      <td>debit</td>\n",
       "      <td>NaN</td>\n",
       "    </tr>\n",
       "  </tbody>\n",
       "</table>\n",
       "</div>"
      ],
      "text/plain": [
       "             Timestamp       WorkerID           👨‍💼          🛋️         🥴  \\\n",
       "0  02/12/2020 14:50:37   AWN1PEZWRQSQ9        office       couch     crazy   \n",
       "1  02/12/2020 14:52:51  A30UE6DWFNUCWX      employee       couch   nervous   \n",
       "2  02/12/2020 14:53:25  A18T7E73TNGOKP  presentation  livingroom     drunk   \n",
       "3  02/12/2020 15:01:03  A345VDWYMDWTGD        stocks   furniture     drunk   \n",
       "4  02/12/2020 15:01:59  A2D2JX8R0QU9G4       manager        sofa     guilt   \n",
       "5  02/12/2020 15:10:40  A13OMD8QDV0YON          work       couch  confused   \n",
       "6  02/12/2020 15:11:32  A1PLZ8RM4NW43J   businessman       couch   awkward   \n",
       "7  02/12/2020 15:12:11  A143XRCI1YXAFE  presentation        sofa     silly   \n",
       "8  02/12/2020 15:23:38  A15OKHGB4RDA9P         happy       couch      sick   \n",
       "9  02/12/2020 15:44:40  A12OZ7P7Z41SJI       teacher        home     crazy   \n",
       "\n",
       "       🖲️         🤤     ⭐        🥘         💊       🔨            😮           📟  \\\n",
       "0   space     drool  star  stewpot     pills  hammer          wow       pager   \n",
       "1  knight  drooling  star     soup      pill  hammer      shocked       pager   \n",
       "2     ufo  drooling  star     food      pill  hammer      shocked  creditcard   \n",
       "3  button  drooling  star  skillet      pill  hammer          wow        card   \n",
       "4     bot     vomit  star     cook   capsule  hammer  exclamation  calculator   \n",
       "5   alien     funny  star     food  medicine    tool    surprised       pager   \n",
       "6  button     drool  star     stew      pill  hammer          wow       pager   \n",
       "7  button       yum  star   paella      pill  hammer          wow       pager   \n",
       "8  button     happy  star    lunch    tablet  hammer          wow  calculator   \n",
       "9  button     drool  star   dinner  medicine  hammer          ohh       debit   \n",
       "\n",
       "     Feedback  \n",
       "0         NaN  \n",
       "1  thank you!  \n",
       "2         NaN  \n",
       "3         NaN  \n",
       "4     Nothing  \n",
       "5         NaN  \n",
       "6         NaN  \n",
       "7         NaN  \n",
       "8        good  \n",
       "9         NaN  "
      ]
     },
     "metadata": {},
     "output_type": "display_data"
    }
   ],
   "source": [
    "# easy visualization of the gathered dataframes\n",
    "display_whole_dir(Path(\"../data/processed/auto_mturk/forms_log_results/run4\"))"
   ]
  },
  {
   "cell_type": "markdown",
   "metadata": {},
   "source": [
    "## Visualizing the vocabulary "
   ]
  },
  {
   "cell_type": "code",
   "execution_count": 4,
   "metadata": {},
   "outputs": [],
   "source": [
    "em2vocab = get_emojis_voc_counts(Path(\"../data/processed/auto_mturk/forms_log_results/\"))"
   ]
  },
  {
   "cell_type": "code",
   "execution_count": 5,
   "metadata": {},
   "outputs": [],
   "source": [
    "write_emojis_voc_counts(em2vocab,\"./emvoc_500ass.txt\")"
   ]
  },
  {
   "cell_type": "markdown",
   "metadata": {},
   "source": [
    "## Generating final format"
   ]
  },
  {
   "cell_type": "code",
   "execution_count": 11,
   "metadata": {},
   "outputs": [
    {
     "name": "stdout",
     "output_type": "stream",
     "text": [
      "df 127: 30 rows\n",
      "df 126: 30 rows\n",
      "df 132: 30 rows\n",
      "df 130: 31 rows\n",
      "df 131: 30 rows\n",
      "df 128: 30 rows\n",
      "df 129: 30 rows\n"
     ]
    }
   ],
   "source": [
    "for path in Path(\"../data/processed/auto_mturk/forms_results/18/\").glob(\"[0-9]*.csv\"):\n",
    "    df = pd.read_csv(path)\n",
    "    number = path.stem\n",
    "    print(f\"df {number}: {df.shape[0]} rows\")"
   ]
  },
  {
   "cell_type": "code",
   "execution_count": 19,
   "metadata": {},
   "outputs": [
    {
     "name": "stderr",
     "output_type": "stream",
     "text": [
      "100%|██████████| 133/133 [00:03<00:00, 37.81it/s]\n"
     ]
    }
   ],
   "source": [
    "prod_path = Path(\"../data/processed/auto_mturk/forms_results/\")\n",
    "total_df = generate_production_format(prod_path)\n",
    "total_df.to_csv(\"../data/processed/auto_mturk/prod_format/prod/emoji_dataset.csv\")"
   ]
  },
  {
   "cell_type": "code",
   "execution_count": 23,
   "metadata": {
    "collapsed": true,
    "jupyter": {
     "outputs_hidden": true
    }
   },
   "outputs": [
    {
     "data": {
      "text/html": [
       "<div>\n",
       "<style scoped>\n",
       "    .dataframe tbody tr th:only-of-type {\n",
       "        vertical-align: middle;\n",
       "    }\n",
       "\n",
       "    .dataframe tbody tr th {\n",
       "        vertical-align: top;\n",
       "    }\n",
       "\n",
       "    .dataframe thead th {\n",
       "        text-align: right;\n",
       "    }\n",
       "</style>\n",
       "<table border=\"1\" class=\"dataframe\">\n",
       "  <thead>\n",
       "    <tr style=\"text-align: right;\">\n",
       "      <th></th>\n",
       "      <th>WorkerID</th>\n",
       "      <th>FormId</th>\n",
       "      <th>Duration</th>\n",
       "      <th>emoji_index</th>\n",
       "      <th>emoji</th>\n",
       "      <th>word</th>\n",
       "    </tr>\n",
       "  </thead>\n",
       "  <tbody>\n",
       "    <tr>\n",
       "      <th>5403</th>\n",
       "      <td>AU2RMH9IZP60M</td>\n",
       "      <td>65</td>\n",
       "      <td>802.0</td>\n",
       "      <td>0</td>\n",
       "      <td>#️⃣</td>\n",
       "      <td>number</td>\n",
       "    </tr>\n",
       "    <tr>\n",
       "      <th>5373</th>\n",
       "      <td>A1XHK92L7Q7VEU</td>\n",
       "      <td>65</td>\n",
       "      <td>549.0</td>\n",
       "      <td>0</td>\n",
       "      <td>#️⃣</td>\n",
       "      <td>hashtag</td>\n",
       "    </tr>\n",
       "    <tr>\n",
       "      <th>5253</th>\n",
       "      <td>A31UXXZVI3U4E2</td>\n",
       "      <td>65</td>\n",
       "      <td>155.0</td>\n",
       "      <td>0</td>\n",
       "      <td>#️⃣</td>\n",
       "      <td>pound</td>\n",
       "    </tr>\n",
       "    <tr>\n",
       "      <th>5263</th>\n",
       "      <td>A3RYI5HXC2MJLN</td>\n",
       "      <td>65</td>\n",
       "      <td>592.0</td>\n",
       "      <td>0</td>\n",
       "      <td>#️⃣</td>\n",
       "      <td>number</td>\n",
       "    </tr>\n",
       "    <tr>\n",
       "      <th>5443</th>\n",
       "      <td>A70TBKPGWQZO4</td>\n",
       "      <td>65</td>\n",
       "      <td>203.0</td>\n",
       "      <td>0</td>\n",
       "      <td>#️⃣</td>\n",
       "      <td>pound</td>\n",
       "    </tr>\n",
       "    <tr>\n",
       "      <th>...</th>\n",
       "      <td>...</td>\n",
       "      <td>...</td>\n",
       "      <td>...</td>\n",
       "      <td>...</td>\n",
       "      <td>...</td>\n",
       "      <td>...</td>\n",
       "    </tr>\n",
       "    <tr>\n",
       "      <th>25837</th>\n",
       "      <td>A13OMD8QDV0YON</td>\n",
       "      <td>71</td>\n",
       "      <td>139.0</td>\n",
       "      <td>1324</td>\n",
       "      <td>🪕</td>\n",
       "      <td>banjo</td>\n",
       "    </tr>\n",
       "    <tr>\n",
       "      <th>25827</th>\n",
       "      <td>A2C7A6E70NYNUI</td>\n",
       "      <td>71</td>\n",
       "      <td>156.0</td>\n",
       "      <td>1324</td>\n",
       "      <td>🪕</td>\n",
       "      <td>banjo</td>\n",
       "    </tr>\n",
       "    <tr>\n",
       "      <th>25817</th>\n",
       "      <td>A2MOKIEQZ0OF2M</td>\n",
       "      <td>71</td>\n",
       "      <td>827.0</td>\n",
       "      <td>1324</td>\n",
       "      <td>🪕</td>\n",
       "      <td>banjo</td>\n",
       "    </tr>\n",
       "    <tr>\n",
       "      <th>25967</th>\n",
       "      <td>A14OPFM8OFA4WF</td>\n",
       "      <td>71</td>\n",
       "      <td>674.0</td>\n",
       "      <td>1324</td>\n",
       "      <td>🪕</td>\n",
       "      <td>banjo</td>\n",
       "    </tr>\n",
       "    <tr>\n",
       "      <th>25737</th>\n",
       "      <td>AAQREZOK13OV7</td>\n",
       "      <td>71</td>\n",
       "      <td>175.0</td>\n",
       "      <td>1324</td>\n",
       "      <td>🪕</td>\n",
       "      <td>ukelele</td>\n",
       "    </tr>\n",
       "  </tbody>\n",
       "</table>\n",
       "<p>40269 rows × 6 columns</p>\n",
       "</div>"
      ],
      "text/plain": [
       "            WorkerID  FormId  Duration  emoji_index emoji     word\n",
       "5403    AU2RMH9IZP60M      65     802.0            0   #️⃣   number\n",
       "5373   A1XHK92L7Q7VEU      65     549.0            0   #️⃣  hashtag\n",
       "5253   A31UXXZVI3U4E2      65     155.0            0   #️⃣    pound\n",
       "5263   A3RYI5HXC2MJLN      65     592.0            0   #️⃣   number\n",
       "5443    A70TBKPGWQZO4      65     203.0            0   #️⃣    pound\n",
       "...               ...     ...       ...          ...   ...      ...\n",
       "25837  A13OMD8QDV0YON      71     139.0         1324     🪕    banjo\n",
       "25827  A2C7A6E70NYNUI      71     156.0         1324     🪕    banjo\n",
       "25817  A2MOKIEQZ0OF2M      71     827.0         1324     🪕    banjo\n",
       "25967  A14OPFM8OFA4WF      71     674.0         1324     🪕    banjo\n",
       "25737   AAQREZOK13OV7      71     175.0         1324     🪕  ukelele\n",
       "\n",
       "[40269 rows x 6 columns]"
      ]
     },
     "execution_count": 23,
     "metadata": {},
     "output_type": "execute_result"
    }
   ],
   "source": [
    "total_df"
   ]
  },
  {
   "cell_type": "code",
   "execution_count": 12,
   "metadata": {},
   "outputs": [
    {
     "name": "stderr",
     "output_type": "stream",
     "text": [
      "  0%|          | 0/7 [00:00<?, ?it/s]"
     ]
    },
    {
     "name": "stdout",
     "output_type": "stream",
     "text": [
      "Batch 0 computation\n"
     ]
    },
    {
     "name": "stderr",
     "output_type": "stream",
     "text": [
      "100%|██████████| 7/7 [00:00<00:00, 31.94it/s]\n",
      " 57%|█████▋    | 4/7 [00:00<00:00, 34.86it/s]"
     ]
    },
    {
     "name": "stdout",
     "output_type": "stream",
     "text": [
      "Batch 1 computation\n"
     ]
    },
    {
     "name": "stderr",
     "output_type": "stream",
     "text": [
      "100%|██████████| 7/7 [00:00<00:00, 34.68it/s]\n",
      "  0%|          | 0/7 [00:00<?, ?it/s]"
     ]
    },
    {
     "name": "stdout",
     "output_type": "stream",
     "text": [
      "Batch 2 computation\n"
     ]
    },
    {
     "name": "stderr",
     "output_type": "stream",
     "text": [
      "100%|██████████| 7/7 [00:00<00:00, 34.54it/s]\n",
      "  0%|          | 0/7 [00:00<?, ?it/s]"
     ]
    },
    {
     "name": "stdout",
     "output_type": "stream",
     "text": [
      "Batch 3 computation\n"
     ]
    },
    {
     "name": "stderr",
     "output_type": "stream",
     "text": [
      "100%|██████████| 7/7 [00:00<00:00, 30.55it/s]\n",
      "  0%|          | 0/7 [00:00<?, ?it/s]"
     ]
    },
    {
     "name": "stdout",
     "output_type": "stream",
     "text": [
      "Batch 4 computation\n"
     ]
    },
    {
     "name": "stderr",
     "output_type": "stream",
     "text": [
      "100%|██████████| 7/7 [00:00<00:00, 33.03it/s]\n",
      "  0%|          | 0/7 [00:00<?, ?it/s]"
     ]
    },
    {
     "name": "stdout",
     "output_type": "stream",
     "text": [
      "Batch 5 computation\n"
     ]
    },
    {
     "name": "stderr",
     "output_type": "stream",
     "text": [
      "100%|██████████| 7/7 [00:00<00:00, 31.61it/s]\n",
      "  0%|          | 0/7 [00:00<?, ?it/s]"
     ]
    },
    {
     "name": "stdout",
     "output_type": "stream",
     "text": [
      "Batch 6 computation\n"
     ]
    },
    {
     "name": "stderr",
     "output_type": "stream",
     "text": [
      "100%|██████████| 7/7 [00:00<00:00, 28.75it/s]\n",
      " 57%|█████▋    | 4/7 [00:00<00:00, 38.10it/s]"
     ]
    },
    {
     "name": "stdout",
     "output_type": "stream",
     "text": [
      "Batch 7 computation\n"
     ]
    },
    {
     "name": "stderr",
     "output_type": "stream",
     "text": [
      "100%|██████████| 7/7 [00:00<00:00, 34.22it/s]\n",
      "  0%|          | 0/7 [00:00<?, ?it/s]"
     ]
    },
    {
     "name": "stdout",
     "output_type": "stream",
     "text": [
      "Batch 8 computation\n"
     ]
    },
    {
     "name": "stderr",
     "output_type": "stream",
     "text": [
      "100%|██████████| 7/7 [00:00<00:00, 31.99it/s]\n",
      "  0%|          | 0/7 [00:00<?, ?it/s]"
     ]
    },
    {
     "name": "stdout",
     "output_type": "stream",
     "text": [
      "Batch 9 computation\n"
     ]
    },
    {
     "name": "stderr",
     "output_type": "stream",
     "text": [
      "100%|██████████| 7/7 [00:00<00:00, 33.59it/s]\n",
      " 57%|█████▋    | 4/7 [00:00<00:00, 38.17it/s]"
     ]
    },
    {
     "name": "stdout",
     "output_type": "stream",
     "text": [
      "Batch 10 computation\n"
     ]
    },
    {
     "name": "stderr",
     "output_type": "stream",
     "text": [
      "100%|██████████| 7/7 [00:00<00:00, 35.82it/s]\n",
      "  0%|          | 0/7 [00:00<?, ?it/s]"
     ]
    },
    {
     "name": "stdout",
     "output_type": "stream",
     "text": [
      "Batch 11 computation\n"
     ]
    },
    {
     "name": "stderr",
     "output_type": "stream",
     "text": [
      "100%|██████████| 7/7 [00:00<00:00, 34.38it/s]\n",
      "  0%|          | 0/7 [00:00<?, ?it/s]"
     ]
    },
    {
     "name": "stdout",
     "output_type": "stream",
     "text": [
      "Batch 12 computation\n"
     ]
    },
    {
     "name": "stderr",
     "output_type": "stream",
     "text": [
      "100%|██████████| 7/7 [00:00<00:00, 30.21it/s]\n",
      "  0%|          | 0/7 [00:00<?, ?it/s]"
     ]
    },
    {
     "name": "stdout",
     "output_type": "stream",
     "text": [
      "Batch 13 computation\n"
     ]
    },
    {
     "name": "stderr",
     "output_type": "stream",
     "text": [
      "100%|██████████| 7/7 [00:00<00:00, 33.88it/s]\n",
      "  0%|          | 0/7 [00:00<?, ?it/s]"
     ]
    },
    {
     "name": "stdout",
     "output_type": "stream",
     "text": [
      "Batch 14 computation\n"
     ]
    },
    {
     "name": "stderr",
     "output_type": "stream",
     "text": [
      "100%|██████████| 7/7 [00:00<00:00, 33.58it/s]\n",
      " 57%|█████▋    | 4/7 [00:00<00:00, 36.87it/s]"
     ]
    },
    {
     "name": "stdout",
     "output_type": "stream",
     "text": [
      "Batch 15 computation\n"
     ]
    },
    {
     "name": "stderr",
     "output_type": "stream",
     "text": [
      "100%|██████████| 7/7 [00:00<00:00, 31.47it/s]\n",
      "  0%|          | 0/7 [00:00<?, ?it/s]"
     ]
    },
    {
     "name": "stdout",
     "output_type": "stream",
     "text": [
      "Batch 16 computation\n"
     ]
    },
    {
     "name": "stderr",
     "output_type": "stream",
     "text": [
      "100%|██████████| 7/7 [00:00<00:00, 32.47it/s]\n",
      "  0%|          | 0/7 [00:00<?, ?it/s]"
     ]
    },
    {
     "name": "stdout",
     "output_type": "stream",
     "text": [
      "Batch 17 computation\n"
     ]
    },
    {
     "name": "stderr",
     "output_type": "stream",
     "text": [
      "100%|██████████| 7/7 [00:00<00:00, 32.26it/s]\n",
      " 57%|█████▋    | 4/7 [00:00<00:00, 38.26it/s]"
     ]
    },
    {
     "name": "stdout",
     "output_type": "stream",
     "text": [
      "Batch 18 computation\n"
     ]
    },
    {
     "name": "stderr",
     "output_type": "stream",
     "text": [
      "100%|██████████| 7/7 [00:00<00:00, 35.49it/s]\n"
     ]
    }
   ],
   "source": [
    "\n",
    "paths = sorted(prod_path.glob(\"[0-9]*\"),key= lambda x: int(x.stem))\n",
    "for path in paths:\n",
    "    if len(list(path.iterdir())) > 0:\n",
    "        batch_number = path.stem\n",
    "        print(f\"Batch {batch_number} computation\")\n",
    "        df = generate_production_format(path)\n",
    "        df.to_csv(Path(\"../data/processed/auto_mturk/prod_format/prod\").joinpath(batch_number+ \".csv\"))"
   ]
  },
  {
   "cell_type": "code",
   "execution_count": 17,
   "metadata": {},
   "outputs": [
    {
     "data": {
      "text/html": [
       "<div>\n",
       "<style scoped>\n",
       "    .dataframe tbody tr th:only-of-type {\n",
       "        vertical-align: middle;\n",
       "    }\n",
       "\n",
       "    .dataframe tbody tr th {\n",
       "        vertical-align: top;\n",
       "    }\n",
       "\n",
       "    .dataframe thead th {\n",
       "        text-align: right;\n",
       "    }\n",
       "</style>\n",
       "<table border=\"1\" class=\"dataframe\">\n",
       "  <thead>\n",
       "    <tr style=\"text-align: right;\">\n",
       "      <th></th>\n",
       "      <th>WorkerID</th>\n",
       "      <th>FormId</th>\n",
       "      <th>Duration</th>\n",
       "      <th>emoji_index</th>\n",
       "      <th>emoji</th>\n",
       "      <th>word</th>\n",
       "    </tr>\n",
       "  </thead>\n",
       "  <tbody>\n",
       "    <tr>\n",
       "      <th>1608</th>\n",
       "      <td>A1J7VD5KF0A442</td>\n",
       "      <td>128</td>\n",
       "      <td>406.0</td>\n",
       "      <td>454</td>\n",
       "      <td>🐊</td>\n",
       "      <td>animal</td>\n",
       "    </tr>\n",
       "    <tr>\n",
       "      <th>1334</th>\n",
       "      <td>A2A6FH0F7LD9ND</td>\n",
       "      <td>131</td>\n",
       "      <td>290.0</td>\n",
       "      <td>573</td>\n",
       "      <td>👨‍👩‍👦</td>\n",
       "      <td>family</td>\n",
       "    </tr>\n",
       "    <tr>\n",
       "      <th>1510</th>\n",
       "      <td>AAQREZOK13OV7</td>\n",
       "      <td>128</td>\n",
       "      <td>927.0</td>\n",
       "      <td>716</td>\n",
       "      <td>📁</td>\n",
       "      <td>folder</td>\n",
       "    </tr>\n",
       "    <tr>\n",
       "      <th>367</th>\n",
       "      <td>A3BZVFD82AVLT8</td>\n",
       "      <td>126</td>\n",
       "      <td>414.0</td>\n",
       "      <td>1241</td>\n",
       "      <td>🦻</td>\n",
       "      <td>headphone</td>\n",
       "    </tr>\n",
       "    <tr>\n",
       "      <th>1629</th>\n",
       "      <td>A2RWLFIP23FZA7</td>\n",
       "      <td>128</td>\n",
       "      <td>655.0</td>\n",
       "      <td>1209</td>\n",
       "      <td>🦖</td>\n",
       "      <td>dinosaur</td>\n",
       "    </tr>\n",
       "    <tr>\n",
       "      <th>1666</th>\n",
       "      <td>A143XRCI1YXAFE</td>\n",
       "      <td>128</td>\n",
       "      <td>954.0</td>\n",
       "      <td>950</td>\n",
       "      <td>😼</td>\n",
       "      <td>cat</td>\n",
       "    </tr>\n",
       "    <tr>\n",
       "      <th>1452</th>\n",
       "      <td>A2C7A6E70NYNUI</td>\n",
       "      <td>128</td>\n",
       "      <td>334.0</td>\n",
       "      <td>141</td>\n",
       "      <td>❇️</td>\n",
       "      <td>star</td>\n",
       "    </tr>\n",
       "    <tr>\n",
       "      <th>28</th>\n",
       "      <td>A82WUWI7H3MZWA</td>\n",
       "      <td>127</td>\n",
       "      <td>NaN</td>\n",
       "      <td>708</td>\n",
       "      <td>💹</td>\n",
       "      <td>symbol</td>\n",
       "    </tr>\n",
       "    <tr>\n",
       "      <th>153</th>\n",
       "      <td>A1PBRKFHSF1OF8</td>\n",
       "      <td>127</td>\n",
       "      <td>210.0</td>\n",
       "      <td>1050</td>\n",
       "      <td>🛢️</td>\n",
       "      <td>barrel</td>\n",
       "    </tr>\n",
       "    <tr>\n",
       "      <th>476</th>\n",
       "      <td>A2T5CROJ0FWIJY</td>\n",
       "      <td>126</td>\n",
       "      <td>431.0</td>\n",
       "      <td>774</td>\n",
       "      <td>📻</td>\n",
       "      <td>radio</td>\n",
       "    </tr>\n",
       "  </tbody>\n",
       "</table>\n",
       "</div>"
      ],
      "text/plain": [
       "           WorkerID  FormId  Duration  emoji_index  emoji       word\n",
       "1608  A1J7VD5KF0A442     128     406.0          454      🐊     animal\n",
       "1334  A2A6FH0F7LD9ND     131     290.0          573  👨‍👩‍👦     family\n",
       "1510   AAQREZOK13OV7     128     927.0          716      📁     folder\n",
       "367   A3BZVFD82AVLT8     126     414.0         1241      🦻  headphone\n",
       "1629  A2RWLFIP23FZA7     128     655.0         1209      🦖   dinosaur\n",
       "1666  A143XRCI1YXAFE     128     954.0          950      😼        cat\n",
       "1452  A2C7A6E70NYNUI     128     334.0          141     ❇️       star\n",
       "28    A82WUWI7H3MZWA     127       NaN          708      💹     symbol\n",
       "153   A1PBRKFHSF1OF8     127     210.0         1050     🛢️     barrel\n",
       "476   A2T5CROJ0FWIJY     126     431.0          774      📻      radio"
      ]
     },
     "execution_count": 17,
     "metadata": {},
     "output_type": "execute_result"
    }
   ],
   "source": [
    "df.sample(10)"
   ]
  },
  {
   "cell_type": "code",
   "execution_count": 18,
   "metadata": {},
   "outputs": [
    {
     "data": {
      "text/plain": [
       "{' ',\n",
       " 'None.',\n",
       " 'Please just make the timer 1 hour instead of incrementally increasing it by 2 minutes every time!!!!',\n",
       " 'THANKS, THE ROUND WHEEL-LIKE OBJECT WAS DIFFICULT',\n",
       " 'good',\n",
       " 'i like it',\n",
       " 'i like that survey',\n",
       " 'i tried my best',\n",
       " nan,\n",
       " 'nice',\n",
       " 'none',\n",
       " 'some were difficult',\n",
       " 'thank you',\n",
       " 'thanks'}"
      ]
     },
     "execution_count": 18,
     "metadata": {},
     "output_type": "execute_result"
    }
   ],
   "source": [
    "prod_path= Path(\"../data/processed/auto_mturk/forms_results/18\")\n",
    "comments = set()\n",
    "for path in prod_path.glob(\"**/[0-9]*.csv\"):\n",
    "    df = pd.read_csv(path)\n",
    "    comments.update(df['Feedback'])\n",
    "\n",
    "comments"
   ]
  },
  {
   "cell_type": "code",
   "execution_count": 121,
   "metadata": {},
   "outputs": [],
   "source": [
    "df = pd.read_csv(\"../data/processed/auto_mturk/forms_results/13/96.csv\")"
   ]
  },
  {
   "cell_type": "code",
   "execution_count": 122,
   "metadata": {},
   "outputs": [
    {
     "data": {
      "text/html": [
       "<div>\n",
       "<style scoped>\n",
       "    .dataframe tbody tr th:only-of-type {\n",
       "        vertical-align: middle;\n",
       "    }\n",
       "\n",
       "    .dataframe tbody tr th {\n",
       "        vertical-align: top;\n",
       "    }\n",
       "\n",
       "    .dataframe thead th {\n",
       "        text-align: right;\n",
       "    }\n",
       "</style>\n",
       "<table border=\"1\" class=\"dataframe\">\n",
       "  <thead>\n",
       "    <tr style=\"text-align: right;\">\n",
       "      <th></th>\n",
       "      <th>Timestamp</th>\n",
       "      <th>WorkerID</th>\n",
       "      <th>Age</th>\n",
       "      <th>Gender</th>\n",
       "      <th>Mothertongue</th>\n",
       "      <th>🖌️</th>\n",
       "      <th>♓</th>\n",
       "      <th>☹️</th>\n",
       "      <th>📖</th>\n",
       "      <th>☪️</th>\n",
       "      <th>🍋</th>\n",
       "      <th>🍱</th>\n",
       "      <th>👨‍❤️‍👨</th>\n",
       "      <th>💦</th>\n",
       "      <th>🤔</th>\n",
       "      <th>🙍</th>\n",
       "      <th>Feedback</th>\n",
       "    </tr>\n",
       "  </thead>\n",
       "  <tbody>\n",
       "    <tr>\n",
       "      <th>0</th>\n",
       "      <td>17/12/2020 23:58:24</td>\n",
       "      <td>AXXA481XH6FKE</td>\n",
       "      <td>28.0</td>\n",
       "      <td>Female</td>\n",
       "      <td>english</td>\n",
       "      <td>brush</td>\n",
       "      <td>zodiac</td>\n",
       "      <td>sad</td>\n",
       "      <td>book</td>\n",
       "      <td>moon</td>\n",
       "      <td>lemon</td>\n",
       "      <td>sushi</td>\n",
       "      <td>couple</td>\n",
       "      <td>drop</td>\n",
       "      <td>thinking</td>\n",
       "      <td>sad</td>\n",
       "      <td>NaN</td>\n",
       "    </tr>\n",
       "    <tr>\n",
       "      <th>25</th>\n",
       "      <td>18/12/2020 00:29:13</td>\n",
       "      <td>A2RWLFIP23FZA7</td>\n",
       "      <td>28.0</td>\n",
       "      <td>Male</td>\n",
       "      <td>chinese</td>\n",
       "      <td>pen</td>\n",
       "      <td>pisces</td>\n",
       "      <td>sad</td>\n",
       "      <td>book</td>\n",
       "      <td>moonstar</td>\n",
       "      <td>lemon</td>\n",
       "      <td>lunchbox</td>\n",
       "      <td>love</td>\n",
       "      <td>drops</td>\n",
       "      <td>thinking</td>\n",
       "      <td>adult</td>\n",
       "      <td>NaN</td>\n",
       "    </tr>\n",
       "    <tr>\n",
       "      <th>29</th>\n",
       "      <td>18/12/2020 01:31:02</td>\n",
       "      <td>A70TBKPGWQRO4</td>\n",
       "      <td>28.0</td>\n",
       "      <td>Female</td>\n",
       "      <td>english</td>\n",
       "      <td>brush</td>\n",
       "      <td>zodiac</td>\n",
       "      <td>upset</td>\n",
       "      <td>book</td>\n",
       "      <td>croissant</td>\n",
       "      <td>lemon</td>\n",
       "      <td>japanese</td>\n",
       "      <td>love</td>\n",
       "      <td>drops</td>\n",
       "      <td>perplex</td>\n",
       "      <td>unsettle</td>\n",
       "      <td>thanks</td>\n",
       "    </tr>\n",
       "  </tbody>\n",
       "</table>\n",
       "</div>"
      ],
      "text/plain": [
       "              Timestamp       WorkerID   Age  Gender Mothertongue     🖌️  \\\n",
       "0   17/12/2020 23:58:24   AXXA481XH6FKE  28.0  Female      english  brush   \n",
       "25  18/12/2020 00:29:13  A2RWLFIP23FZA7  28.0    Male      chinese    pen   \n",
       "29  18/12/2020 01:31:02   A70TBKPGWQRO4  28.0  Female      english  brush   \n",
       "\n",
       "         ♓     ☹️     📖         ☪️      🍋         🍱  👨‍❤️‍👨      💦         🤔  \\\n",
       "0   zodiac    sad  book       moon  lemon     sushi  couple   drop  thinking   \n",
       "25  pisces    sad  book   moonstar  lemon  lunchbox    love  drops  thinking   \n",
       "29  zodiac  upset  book  croissant  lemon  japanese    love  drops   perplex   \n",
       "\n",
       "           🙍 Feedback  \n",
       "0        sad      NaN  \n",
       "25     adult      NaN  \n",
       "29  unsettle   thanks  "
      ]
     },
     "execution_count": 122,
     "metadata": {},
     "output_type": "execute_result"
    }
   ],
   "source": [
    "df[df.Age == 28]"
   ]
  },
  {
   "cell_type": "code",
   "execution_count": 50,
   "metadata": {},
   "outputs": [],
   "source": [
    "winfo = pd.read_csv(\"../data/processed/auto_mturk/forms_results/1/workers_info.csv\")"
   ]
  },
  {
   "cell_type": "code",
   "execution_count": 54,
   "metadata": {},
   "outputs": [],
   "source": [
    "import Levenshtein"
   ]
  },
  {
   "cell_type": "code",
   "execution_count": 59,
   "metadata": {},
   "outputs": [],
   "source": [
    "mask = winfo.WorkerId.apply(lambda x:Levenshtein.distance(\"A3FBC5W56LKQXL\",x) < 1)"
   ]
  },
  {
   "cell_type": "code",
   "execution_count": 64,
   "metadata": {},
   "outputs": [
    {
     "data": {
      "text/plain": [
       "True"
      ]
     },
     "execution_count": 64,
     "metadata": {},
     "output_type": "execute_result"
    }
   ],
   "source": [
    "\"A3FBC5W56LKQXL\" in winfo['WorkerId'].values"
   ]
  },
  {
   "cell_type": "code",
   "execution_count": 60,
   "metadata": {},
   "outputs": [
    {
     "data": {
      "text/html": [
       "<div>\n",
       "<style scoped>\n",
       "    .dataframe tbody tr th:only-of-type {\n",
       "        vertical-align: middle;\n",
       "    }\n",
       "\n",
       "    .dataframe tbody tr th {\n",
       "        vertical-align: top;\n",
       "    }\n",
       "\n",
       "    .dataframe thead th {\n",
       "        text-align: right;\n",
       "    }\n",
       "</style>\n",
       "<table border=\"1\" class=\"dataframe\">\n",
       "  <thead>\n",
       "    <tr style=\"text-align: right;\">\n",
       "      <th></th>\n",
       "      <th>WorkerId</th>\n",
       "      <th>FormId</th>\n",
       "      <th>AnswerDurationInSeconds</th>\n",
       "    </tr>\n",
       "  </thead>\n",
       "  <tbody>\n",
       "    <tr>\n",
       "      <th>50</th>\n",
       "      <td>A3FBC5W56LKQXL</td>\n",
       "      <td>12</td>\n",
       "      <td>337</td>\n",
       "    </tr>\n",
       "    <tr>\n",
       "      <th>109</th>\n",
       "      <td>A3FBC5W56LKQXL</td>\n",
       "      <td>10</td>\n",
       "      <td>465</td>\n",
       "    </tr>\n",
       "    <tr>\n",
       "      <th>139</th>\n",
       "      <td>A3FBC5W56LKQXL</td>\n",
       "      <td>11</td>\n",
       "      <td>592</td>\n",
       "    </tr>\n",
       "    <tr>\n",
       "      <th>166</th>\n",
       "      <td>A3FBC5W56LKQXL</td>\n",
       "      <td>7</td>\n",
       "      <td>223</td>\n",
       "    </tr>\n",
       "  </tbody>\n",
       "</table>\n",
       "</div>"
      ],
      "text/plain": [
       "           WorkerId  FormId  AnswerDurationInSeconds\n",
       "50   A3FBC5W56LKQXL      12                      337\n",
       "109  A3FBC5W56LKQXL      10                      465\n",
       "139  A3FBC5W56LKQXL      11                      592\n",
       "166  A3FBC5W56LKQXL       7                      223"
      ]
     },
     "execution_count": 60,
     "metadata": {},
     "output_type": "execute_result"
    }
   ],
   "source": [
    "winfo[mask]"
   ]
  },
  {
   "cell_type": "code",
   "execution_count": 78,
   "metadata": {},
   "outputs": [
    {
     "data": {
      "text/plain": [
       "(31, 17)"
      ]
     },
     "execution_count": 78,
     "metadata": {},
     "output_type": "execute_result"
    }
   ],
   "source": [
    "temp = pd.read_csv(\"../data/processed/auto_mturk/forms_results/1/11.csv\")\n",
    "\n",
    "temp.shape"
   ]
  },
  {
   "cell_type": "code",
   "execution_count": 75,
   "metadata": {},
   "outputs": [
    {
     "data": {
      "text/html": [
       "<div>\n",
       "<style scoped>\n",
       "    .dataframe tbody tr th:only-of-type {\n",
       "        vertical-align: middle;\n",
       "    }\n",
       "\n",
       "    .dataframe tbody tr th {\n",
       "        vertical-align: top;\n",
       "    }\n",
       "\n",
       "    .dataframe thead th {\n",
       "        text-align: right;\n",
       "    }\n",
       "</style>\n",
       "<table border=\"1\" class=\"dataframe\">\n",
       "  <thead>\n",
       "    <tr style=\"text-align: right;\">\n",
       "      <th></th>\n",
       "      <th>WorkerID</th>\n",
       "      <th>FormId</th>\n",
       "    </tr>\n",
       "  </thead>\n",
       "  <tbody>\n",
       "    <tr>\n",
       "      <th>868</th>\n",
       "      <td>A3FBC5W56LKQXL</td>\n",
       "      <td>13</td>\n",
       "    </tr>\n",
       "    <tr>\n",
       "      <th>2103</th>\n",
       "      <td>AUTBAO7DP20SV</td>\n",
       "      <td>12</td>\n",
       "    </tr>\n",
       "    <tr>\n",
       "      <th>1993</th>\n",
       "      <td>A82WUWI7H3MZWA</td>\n",
       "      <td>12</td>\n",
       "    </tr>\n",
       "    <tr>\n",
       "      <th>1354</th>\n",
       "      <td>A2KBTDHM44J7X4</td>\n",
       "      <td>10</td>\n",
       "    </tr>\n",
       "    <tr>\n",
       "      <th>426</th>\n",
       "      <td>A2D2JX8R0QU9G4</td>\n",
       "      <td>11</td>\n",
       "    </tr>\n",
       "  </tbody>\n",
       "</table>\n",
       "</div>"
      ],
      "text/plain": [
       "           WorkerID  FormId\n",
       "868   A3FBC5W56LKQXL      13\n",
       "2103   AUTBAO7DP20SV      12\n",
       "1993  A82WUWI7H3MZWA      12\n",
       "1354  A2KBTDHM44J7X4      10\n",
       "426   A2D2JX8R0QU9G4      11"
      ]
     },
     "execution_count": 75,
     "metadata": {},
     "output_type": "execute_result"
    }
   ],
   "source": [
    "df[(df.Duration.isna())][[\"WorkerID\",\"FormId\"]].drop_duplicates()"
   ]
  },
  {
   "cell_type": "code",
   "execution_count": 49,
   "metadata": {},
   "outputs": [
    {
     "data": {
      "text/html": [
       "<div>\n",
       "<style scoped>\n",
       "    .dataframe tbody tr th:only-of-type {\n",
       "        vertical-align: middle;\n",
       "    }\n",
       "\n",
       "    .dataframe tbody tr th {\n",
       "        vertical-align: top;\n",
       "    }\n",
       "\n",
       "    .dataframe thead th {\n",
       "        text-align: right;\n",
       "    }\n",
       "</style>\n",
       "<table border=\"1\" class=\"dataframe\">\n",
       "  <thead>\n",
       "    <tr style=\"text-align: right;\">\n",
       "      <th></th>\n",
       "      <th>WorkerID</th>\n",
       "      <th>FormId</th>\n",
       "      <th>Duration</th>\n",
       "      <th>emoji_index</th>\n",
       "      <th>emoji</th>\n",
       "      <th>word</th>\n",
       "    </tr>\n",
       "  </thead>\n",
       "  <tbody>\n",
       "    <tr>\n",
       "      <th>2067</th>\n",
       "      <td>A1TW2BZRRS874Z</td>\n",
       "      <td>12</td>\n",
       "      <td>300.0</td>\n",
       "      <td>1164</td>\n",
       "      <td>🥥</td>\n",
       "      <td>coconut</td>\n",
       "    </tr>\n",
       "    <tr>\n",
       "      <th>861</th>\n",
       "      <td>A3FBC5W56LKQXL</td>\n",
       "      <td>13</td>\n",
       "      <td>NaN</td>\n",
       "      <td>259</td>\n",
       "      <td>🌼</td>\n",
       "      <td>daisy</td>\n",
       "    </tr>\n",
       "    <tr>\n",
       "      <th>1398</th>\n",
       "      <td>A2XE89KFI1DRPQ</td>\n",
       "      <td>10</td>\n",
       "      <td>596.0</td>\n",
       "      <td>373</td>\n",
       "      <td>🎴</td>\n",
       "      <td>sunset</td>\n",
       "    </tr>\n",
       "    <tr>\n",
       "      <th>1893</th>\n",
       "      <td>A3VG22WR5I4UG2</td>\n",
       "      <td>12</td>\n",
       "      <td>195.0</td>\n",
       "      <td>104</td>\n",
       "      <td>⛈️</td>\n",
       "      <td>thunder</td>\n",
       "    </tr>\n",
       "    <tr>\n",
       "      <th>920</th>\n",
       "      <td>A1PBRKFHSF1OF8</td>\n",
       "      <td>7</td>\n",
       "      <td>44.0</td>\n",
       "      <td>150</td>\n",
       "      <td>➕</td>\n",
       "      <td>plus</td>\n",
       "    </tr>\n",
       "    <tr>\n",
       "      <th>1252</th>\n",
       "      <td>A13OMD8QDV0YON</td>\n",
       "      <td>10</td>\n",
       "      <td>356.0</td>\n",
       "      <td>256</td>\n",
       "      <td>🌹</td>\n",
       "      <td>flower</td>\n",
       "    </tr>\n",
       "    <tr>\n",
       "      <th>939</th>\n",
       "      <td>A1UE6IH3L3XYN2</td>\n",
       "      <td>7</td>\n",
       "      <td>54.0</td>\n",
       "      <td>1070</td>\n",
       "      <td>🟤</td>\n",
       "      <td>circle</td>\n",
       "    </tr>\n",
       "    <tr>\n",
       "      <th>481</th>\n",
       "      <td>A4VUQ6627RJX8</td>\n",
       "      <td>11</td>\n",
       "      <td>122.0</td>\n",
       "      <td>1291</td>\n",
       "      <td>🧮</td>\n",
       "      <td>abacus</td>\n",
       "    </tr>\n",
       "    <tr>\n",
       "      <th>1796</th>\n",
       "      <td>A2BYI7MFOB0ZTI</td>\n",
       "      <td>9</td>\n",
       "      <td>390.0</td>\n",
       "      <td>399</td>\n",
       "      <td>🏏</td>\n",
       "      <td>bat</td>\n",
       "    </tr>\n",
       "    <tr>\n",
       "      <th>524</th>\n",
       "      <td>A18QKM5Z69TLS</td>\n",
       "      <td>11</td>\n",
       "      <td>241.0</td>\n",
       "      <td>979</td>\n",
       "      <td>🚉</td>\n",
       "      <td>train</td>\n",
       "    </tr>\n",
       "  </tbody>\n",
       "</table>\n",
       "</div>"
      ],
      "text/plain": [
       "           WorkerID  FormId  Duration  emoji_index emoji     word\n",
       "2067  A1TW2BZRRS874Z      12     300.0         1164     🥥  coconut\n",
       "861   A3FBC5W56LKQXL      13       NaN          259     🌼    daisy\n",
       "1398  A2XE89KFI1DRPQ      10     596.0          373     🎴   sunset\n",
       "1893  A3VG22WR5I4UG2      12     195.0          104    ⛈️  thunder\n",
       "920   A1PBRKFHSF1OF8       7      44.0          150     ➕     plus\n",
       "1252  A13OMD8QDV0YON      10     356.0          256     🌹   flower\n",
       "939   A1UE6IH3L3XYN2       7      54.0         1070     🟤   circle\n",
       "481    A4VUQ6627RJX8      11     122.0         1291     🧮   abacus\n",
       "1796  A2BYI7MFOB0ZTI       9     390.0          399     🏏      bat\n",
       "524    A18QKM5Z69TLS      11     241.0          979     🚉    train"
      ]
     },
     "execution_count": 49,
     "metadata": {},
     "output_type": "execute_result"
    }
   ],
   "source": [
    "df.sample(10)"
   ]
  },
  {
   "cell_type": "code",
   "execution_count": 13,
   "metadata": {},
   "outputs": [
    {
     "name": "stderr",
     "output_type": "stream",
     "text": [
      "100%|██████████| 1/1 [00:00<00:00, 38.80it/s]\n"
     ]
    }
   ],
   "source": [
    "df1 = generate_production_format(Path(\"../data/processed/auto_mturk/forms_log_results/demographicrun5//\"))\n",
    "pk.dump(df1,open(\"./demographic_pilot5.pk\",\"wb\"))"
   ]
  }
 ],
 "metadata": {
  "kernelspec": {
   "display_name": "Python 3",
   "language": "python",
   "name": "python3"
  },
  "language_info": {
   "codemirror_mode": {
    "name": "ipython",
    "version": 3
   },
   "file_extension": ".py",
   "mimetype": "text/x-python",
   "name": "python",
   "nbconvert_exporter": "python",
   "pygments_lexer": "ipython3",
   "version": "3.6.9"
  }
 },
 "nbformat": 4,
 "nbformat_minor": 4
}
